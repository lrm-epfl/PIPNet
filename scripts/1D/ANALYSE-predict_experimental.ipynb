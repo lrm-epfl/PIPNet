{
 "cells": [
  {
   "cell_type": "code",
   "execution_count": 1,
   "id": "b48c4f58",
   "metadata": {
    "tags": []
   },
   "outputs": [],
   "source": [
    "import numpy as np\n",
    "import os\n",
    "import sys\n",
    "import copy\n",
    "\n",
    "import torch\n",
    "torch.set_num_threads(os.cpu_count())\n",
    "from torch import nn\n",
    "\n",
    "import importlib\n",
    "import json\n",
    "\n",
    "import matplotlib as mpl\n",
    "import matplotlib.pyplot as plt\n",
    "\n",
    "from pipnet import data\n",
    "from pipnet import model\n",
    "from pipnet import utils\n",
    "\n",
    "#import nmrglue as ng\n",
    "import scipy\n",
    "import scipy.io\n",
    "\n",
    "device = \"cuda\" if torch.cuda.is_available() else \"cpu\"\n",
    "\n",
    "np.random.seed(123)"
   ]
  },
  {
   "cell_type": "code",
   "execution_count": 2,
   "id": "909326be",
   "metadata": {
    "tags": []
   },
   "outputs": [],
   "source": [
    "model_name = \"PIPNet_model\"\n",
    "model_dir = f\"../../trained_models/{model_name}/\"\n",
    "fig_dir = f\"../../figures/1D/{model_name}/\"\n",
    "\n",
    "sel_wrs = [\n",
    "    40000., 42000., 44000., 46000., 48000.,\n",
    "    50000., 52000., 54000., 56000., 58000., \n",
    "    60000., 62000., 64000., 66000., 68000.,\n",
    "    70000., 72000., 74000., 76000., 78000.,\n",
    "    80000., 82000., 84000., 86000., 88000.,\n",
    "    90000., 92000., 94000., 96000., 98000., 100000.\n",
    "]\n",
    "\n",
    "dw_max = 1000.\n",
    "\n",
    "ppm_range = [-5., 20.]\n",
    "\n",
    "#compounds = [\"ampicillin\", \"aspala\", \"flutamide\", \"histidine\", \"histidine_old\", \"histidine_1_3\",\n",
    "#             \"thymol\", \"tyrosine\", \"mdma\", \"molnupiravir\"]\n",
    "compounds = [\"ampicillin\", \"aspala\", \"flutamide\", \"histidine\",\n",
    "             \"thymol\", \"tyrosine\", \"mdma\", \"molnupiravir\"]\n",
    "\n",
    "exp_dir = \"../../data/experimental_spectra/1D/\"\n",
    "\n",
    "fields = {\"ampicillin\": 800.,\n",
    "          \"aspala\": 800.,\n",
    "          \"flutamide\": 800.,\n",
    "          \"histidine\": 900.,\n",
    "          \"thymol\": 800.,\n",
    "          \"tyrosine\": 800.,\n",
    "          \"mdma\": 800.,\n",
    "          \"molnupiravir\": 900.}\n",
    "\n",
    "peaks = {\"ampicillin\": [[0., 1.1], [1.1, 2.], [9., 11.]],\n",
    "         \"aspala\": [[0.1, 1.5], [1.5, 2.4], [2.4, 3.], [3.5, 4.5], [4.5, 5.5], [7., 7.8], [12., 13.]],\n",
    "         \"flutamide\": [[0., 1.8], [6., 7.5], [7.5, 9.], [9., 11.]],\n",
    "         \"histidine\": [[4.5, 6.], [7.8, 8.7], [11.5, 13.5], [16., 18.]],\n",
    "         \"thymol\": [[2.8, 4.], [5., 5.8], [5.8, 6.6], [6.6, 7.6], [8.4, 10.4]],\n",
    "         \"tyrosine\": [[1.8, 3.4], [6.1, 7.], [9.5, 11.], [12., 13.]],\n",
    "         \"mdma\": [[0.5, 1.7]],\n",
    "         \"molnupiravir\": [[0.5, 2.], [6.3, 7.5], [9., 10.], [10., 11.5]]}\n",
    "\n",
    "peaks2 = {\"ampicillin\": [[0., 1.1], [1.1, 2.], [3., 4.3], [9., 11.]],\n",
    "          \"aspala\": [[0.1, 1.5], [1.5, 2.4], [2.4, 3.], [3.5, 4.5], [4.5, 5.5], [7., 7.8], [7.7, 8.5], [12., 13.]],\n",
    "          \"flutamide\": [[0., 1.8], [1.8, 2.8], [6., 7.5], [7.5, 9.], [9., 11.]],\n",
    "          \"histidine\": [[4.5, 6.], [7., 7.8], [7.8, 8.7], [8.7, 9.5], [11.5, 13.5], [16., 18.]],\n",
    "          \"thymol\": [[0., 0.9], [2.8, 4.], [5., 5.8], [5.8, 6.6], [6.6, 7.6], [8.4, 10.4]],\n",
    "          \"tyrosine\": [[1.8, 3.4], [4.8, 5.1], [5.1, 5.6], [6.1, 7.], [7.4, 8.], [9.5, 11.], [12., 13.]],\n",
    "          \"mdma\": [[0.5, 1.7], [1.7, 2.1], [2.1, 2.4], [2.4, 3.2], [3.1, 4.], [5.8, 6.1], [6.1, 6.4], [6.4, 7.], [9., 9.5], [9.5, 10.]],\n",
    "          \"molnupiravir\": [[0.5, 2.], [3.5, 4.], [5., 5.6], [6.3, 7.5], [9., 10.], [10., 11.5]]}\n",
    "\n",
    "int_regions = {\"ampicillin\": [[12., 8.5], [8.5, 3.], [3., -2.]],\n",
    "               \"aspala\": [[15., 10.], [10., 6.], [6., 3.4], [3.4, 1.5], [1.5, 0.]],\n",
    "               \"flutamide\": [[11., 9.], [9., 5.], [5., -2.]],\n",
    "               \"histidine\": [[20., 15.], [15., 10.5], [10.5, 6.5], [6.5, 4.2], [4.2, -2.]],\n",
    "               \"thymol\": [[12., 8.], [8., 4.5], [4.5, 2.7], [2.7, -2]],\n",
    "               \"tyrosine\": [[14., 11.], [11., 9.], [9., 6.1], [6.1, 3.5], [3.5, 0.]],\n",
    "               \"mdma\": [[13., 8.], [8., 5.], [5., -1.]],\n",
    "               \"molnupiravir\": [[12.0, 8.0], [8.0, 2.0], [2.0, -5.]]\n",
    "              }\n",
    "\n",
    "iso_dir = \"../../data/experimental_spectra/1D/iso/\"\n",
    "\n",
    "iso_res = {\"ampicillin\": [\"4k\", \"4k\", \"4k\", \"4k\"],\n",
    "           \"aspala\": [\"4k\", \"4k\", \"4k\", \"4k\", \"4k\"],\n",
    "           \"flutamide\": [\"2k\", \"2k\", \"2k\", \"4k\"],\n",
    "           #\"histidine\": [\"4k\", \"4k\", \"4k\", \"4k\", \"4k\"],\n",
    "           \"histidine\": [\"900\", \"900\", \"900\", \"900\", \"900\"],\n",
    "           \"thymol\": [\"4k\", \"4k\", \"4k\", \"4k\"],\n",
    "           \"tyrosine\": [\"4k\", \"4k\", \"4k\", \"4k\", \"4k\"],\n",
    "           \"mdma\": [\"4k\", \"4k\", \"4k\", \"4k\"],\n",
    "           \"molnupiravir\": [\"4k\", \"4k\", \"4k\", \"4k\", \"4k\", \"4k\", \"4k\"]}\n",
    "\n",
    "iso_parts = {'ampicillin': ['NH3', 'NHAr5', 'Ar6104b', 'Me2'],\n",
    "             'aspala': ['OH', 'NHNH3', 'CHCH', 'CH2', 'CH3'],\n",
    "             'flutamide': ['H5b', 'H38', 'H6', 'H101112'],\n",
    "             #'histidine': ['H5', 'H7', 'H618', 'H9', 'H342'],\n",
    "             'histidine': [\"R1\", \"R2\", \"R3\", \"R4\", \"R5\"],\n",
    "             'thymol': ['H7', 'H321c', 'H4', 'H556'],\n",
    "             'tyrosine': ['COOH', 'OH', 'NH3H76', 'H5823', 'H3dia'],\n",
    "             \"mdma\": [\"R1ph_og_divby1456\", \"R2ph_og_divby1456\", \"R3ph_og_divby1456\", \"R4ph_og_divby1456\"],\n",
    "             \"molnupiravir\": [\"R1\", \"R2\", \"R3\", \"R4\", \"R5\", \"R6\", \"R7\"]}"
   ]
  },
  {
   "cell_type": "code",
   "execution_count": 3,
   "id": "2050d25c",
   "metadata": {},
   "outputs": [],
   "source": [
    "if not os.path.exists(model_dir):\n",
    "    raise ValueError(f\"Unknown model: {model_name}\")\n",
    "    \n",
    "if not os.path.exists(fig_dir):\n",
    "    os.mkdir(fig_dir)\n",
    "    \n",
    "fdir = fig_dir + \"eval_experimental/\"\n",
    "if not os.path.exists(fdir):\n",
    "    os.mkdir(fdir)"
   ]
  },
  {
   "cell_type": "code",
   "execution_count": 4,
   "id": "6b523e1b-3389-41e8-b756-88d8207f72fa",
   "metadata": {},
   "outputs": [],
   "source": [
    "with open(f\"{model_dir}model_pars.json\", \"r\") as F:\n",
    "    model_pars = json.load(F)\n",
    "model_pars[\"noise\"] = 0.\n",
    "\n",
    "with open(f\"{model_dir}data_pars.json\", \"r\") as F:\n",
    "    data_pars = json.load(F)"
   ]
  },
  {
   "cell_type": "code",
   "execution_count": 5,
   "id": "31b7ad06-a5ec-4af6-a2a9-426ef86de5b2",
   "metadata": {},
   "outputs": [],
   "source": [
    "net = model.ConvLSTMEnsemble(**model_pars).to(device)\n",
    "net.load_state_dict(torch.load(model_dir + f\"network\", map_location=torch.device(device)))\n",
    "net = net.eval()"
   ]
  },
  {
   "cell_type": "code",
   "execution_count": 6,
   "id": "35905a57-d212-4975-a5bc-d12b6bd4fbf4",
   "metadata": {},
   "outputs": [],
   "source": [
    "def plot_lw_evolution(ws, lws, pks, c0=np.array([0., 1., 1.]), dc=np.array([0., -1., 0.]), show=False, save=None):\n",
    "    \n",
    "    fig = plt.figure(figsize=(4,3))\n",
    "    ax = fig.add_subplot(1,1,1)\n",
    "    \n",
    "    n = lws.shape[0]-1\n",
    "    if n <= 0:\n",
    "        n = 1\n",
    "    \n",
    "    for i, lw in enumerate(lws):\n",
    "        ax.plot(ws, lw, color=c0+(i/n)*dc)\n",
    "\n",
    "    ax.set_xlabel(\"Max. MAS rate\")\n",
    "    ax.set_ylabel(\"Linewidth [ppm]\")\n",
    "\n",
    "    fig.tight_layout()\n",
    "    \n",
    "    if show:\n",
    "        plt.show()\n",
    "        \n",
    "    if save is not None:\n",
    "        plt.savefig(f\"{save}_lws.pdf\")\n",
    "        \n",
    "    plt.close()\n",
    "    \n",
    "    fig = plt.figure(figsize=(4,3))\n",
    "    ax = fig.add_subplot(1,1,1)\n",
    "    \n",
    "    for i, pk in enumerate(pks):\n",
    "        ax.plot(ws, pk-pk[-1], color=c0+(i/n)*dc)\n",
    "\n",
    "    ax.set_xlabel(\"Max. MAS rate\")\n",
    "    ax.set_ylabel(\"Peak deviation [ppm]\")\n",
    "\n",
    "    fig.tight_layout()\n",
    "    \n",
    "    if show:\n",
    "        plt.show()\n",
    "        \n",
    "    if save is not None:\n",
    "        plt.savefig(f\"{save}_pks.pdf\")\n",
    "        \n",
    "    plt.close()\n",
    "    \n",
    "    return"
   ]
  },
  {
   "cell_type": "code",
   "execution_count": 9,
   "id": "9a56dc00-578a-4848-8608-5af7a6974b40",
   "metadata": {},
   "outputs": [
    {
     "name": "stdout",
     "output_type": "stream",
     "text": [
      "ampicillin ampicillin\n",
      "aspala aspala\n",
      "flutamide flutamide\n",
      "histidine histidine\n",
      "thymol thymol\n",
      "tyrosine tyrosine\n",
      "mdma mdma\n",
      "molnupiravir molnupiravir\n"
     ]
    }
   ],
   "source": [
    "all_exp_lws = []\n",
    "all_exp_pks = []\n",
    "all_exp_int = []\n",
    "\n",
    "all_sel_lws = []\n",
    "all_sel_pks = []\n",
    "all_sel_int = []\n",
    "\n",
    "add_sel_lws = []\n",
    "add_sel_pks = []\n",
    "\n",
    "for compound in compounds:\n",
    "    \n",
    "    print(compound, compound.split(\"_\")[0])\n",
    "    \n",
    "    ppm, hz, ws, xr, xi = utils.extract_1d_dataset(f\"{exp_dir}{compound}/\", 1, 1000)\n",
    "    \n",
    "    inds = np.where(np.logical_and(ppm >= ppm_range[0], ppm <= ppm_range[1]))[0]\n",
    "    ppm = ppm[inds]\n",
    "    hz = hz[inds]\n",
    "    xr = xr[:, inds]\n",
    "    xi = xi[:, inds]\n",
    "    \n",
    "    exp_lws, exp_pks = utils.extract_1d_linewidths(ppm, xr[-1], peaks[compound.split(\"_\")[0]])\n",
    "    all_exp_lws.append(exp_lws)\n",
    "    all_exp_pks.append(exp_pks)\n",
    "    all_exp_int.append(utils.get_relative_1d_integrals(ppm, xr[-1], int_regions[compound.split(\"_\")[0]]))\n",
    "    \n",
    "    X = utils.prepare_1d_input(xr, ws, data_pars, xi=xi, xmax=0.5)\n",
    "\n",
    "    wr_inds = [np.argmin(np.abs(ws - w)) for w in sel_wrs if np.min(np.abs(ws - w)) < dw_max ]\n",
    "    X = X[:, wr_inds]\n",
    "\n",
    "    with torch.no_grad():\n",
    "        y_pred, y_std, _ = net(X)\n",
    "    y_pred = y_pred.numpy()\n",
    "    y_std = y_std.numpy()\n",
    "\n",
    "    utils.plot_1d_iso_prediction(\n",
    "        X[0],\n",
    "        y_pred[0],\n",
    "        y_std[0],\n",
    "        X_offset=0.2,\n",
    "        pred_offset=0.1,\n",
    "        xvals=ppm,\n",
    "        wr_factor=data_pars[\"wr_norm_factor\"],\n",
    "        xinv=True,\n",
    "        ylim=[-0.1, 0.8],\n",
    "        all_steps=True,\n",
    "        show=False,\n",
    "        save=f\"{fdir}sel_wr_{compound}.pdf\"\n",
    "    )\n",
    "    \n",
    "    utils.plot_multiple_1d_iso_predictions(\n",
    "        X[0],\n",
    "        y_pred[0],\n",
    "        y_std[0],\n",
    "        pred_offset=0.1,\n",
    "        xvals=ppm,\n",
    "        xinv=True,\n",
    "        show=False,\n",
    "        save=f\"{fdir}sel_wr_{compound}_all_preds.pdf\"\n",
    "    )\n",
    "    \n",
    "    utils.plot_1d_dataset(\n",
    "        X[0],\n",
    "        offset=-0.05,\n",
    "        xvals=ppm,\n",
    "        xinv=True,\n",
    "        show=False,\n",
    "        save=f\"{fdir}dataset_{compound}.pdf\"\n",
    "    )\n",
    "    \n",
    "    output = {}\n",
    "    output[\"ppm\"] = ppm\n",
    "    output[\"X\"] = X[0, :, 0].numpy()\n",
    "    output[\"wr\"] = ws[wr_inds]\n",
    "    output[\"pred\"] = y_pred[0, -1]\n",
    "    output[\"pred_std\"] = y_std[0, -1]\n",
    "    \n",
    "    scipy.io.savemat(f\"{fdir}{compound}_preds.mat\", output)\n",
    "\n",
    "    these_lws = []\n",
    "    these_pks = []\n",
    "    for i in range(y_pred.shape[1]):\n",
    "        sel_lws, sel_pks = utils.extract_1d_linewidths(ppm, y_pred[0, i], peaks[compound.split(\"_\")[0]])\n",
    "        these_lws.append(sel_lws)\n",
    "        these_pks.append(sel_pks)\n",
    "\n",
    "    all_sel_lws.append(np.array(sel_lws))\n",
    "    all_sel_pks.append(np.array(sel_pks))\n",
    "    all_sel_int.append(utils.get_relative_1d_integrals(ppm, y_pred[0, -1], int_regions[compound.split(\"_\")[0]]))\n",
    "    \n",
    "\n",
    "    sel_lws, sel_pks = utils.extract_1d_linewidths(ppm, y_pred[0, -1], peaks2[compound.split(\"_\")[0]])\n",
    "    add_sel_lws.append(np.array(sel_lws))\n",
    "    add_sel_pks.append(np.array(sel_pks))\n",
    "\n",
    "    plot_lw_evolution(ws[wr_inds], np.array(these_lws).T, np.array(these_pks).T, save=f\"{fdir}linewidth_evolution_{compound}_sel\")"
   ]
  },
  {
   "cell_type": "code",
   "execution_count": 8,
   "id": "b501e6ee-cccf-4905-afb8-3eeecbb08c14",
   "metadata": {},
   "outputs": [],
   "source": [
    "peak_count = 0\n",
    "pp = \"\"\n",
    "for compound, x in zip(compounds, add_sel_lws):\n",
    "    pp += f\"{compound}:\\n\"\n",
    "    for r, xi in zip(peaks2[compound.split(\"_\")[0]], x):\n",
    "        pp += f\"  Peak between {r[0]} and {r[1]} ppm: FWHM = {xi:.4f} ppm ({xi*800:.0f} Hz)\\n\"\n",
    "        peak_count += 1\n",
    "    pp += \"\\n\"\n",
    "\n",
    "pp += f\"Total: {peak_count} peaks\"\n",
    "\n",
    "with open(f\"{fdir}summary_lws_all.txt\", \"w\") as F:\n",
    "    F.write(pp)"
   ]
  },
  {
   "cell_type": "code",
   "execution_count": 9,
   "id": "a1a04feb-a5e8-4a60-9f4e-49b7e3411389",
   "metadata": {},
   "outputs": [],
   "source": [
    "peak_count = 0\n",
    "pp = \"\"\n",
    "for compound, x, y, z in zip(compounds, all_sel_lws, all_exp_lws, all_pip_lws):\n",
    "    pp += f\"{compound}:\\n\"\n",
    "    for r, xi, yi, zi in zip(peaks[compound.split(\"_\")[0]], x, y, z):\n",
    "        pp += f\"  Peak between {r[0]} and {r[1]} ppm: FWHM = {xi:.4f} ppm ({xi * fields[compound]:.0f} Hz),\\n\"\n",
    "        pp += f\"                                 exp: FWHM = {yi:.4f} ppm ({yi * fields[compound]:.0f} Hz)\\n\"\n",
    "        pp += f\"                                 PIP: FWHM = {zi:.4f} ppm ({zi * fields[compound]:.0f} Hz)\\n\"\n",
    "        peak_count += 1\n",
    "    pp += \"\\n\"\n",
    "    \n",
    "pp += f\"Total: {peak_count} peaks\"\n",
    "\n",
    "with open(f\"{fdir}summary_lws.txt\", \"w\") as F:\n",
    "    F.write(pp)"
   ]
  },
  {
   "cell_type": "code",
   "execution_count": 10,
   "id": "82dca216-cdbf-411d-9337-a8734cfe83c3",
   "metadata": {},
   "outputs": [],
   "source": [
    "peak_count = 0\n",
    "pp = \"\"\n",
    "for compound, x in zip(compounds, add_sel_pks):\n",
    "    pp += f\"{compound}:\\n\"\n",
    "    for r, xi in zip(peaks2[compound.split(\"_\")[0]], x):\n",
    "        pp += f\"  Peak between {r[0]} and {r[1]} ppm: maximum = {xi:.4f} ppm\\n\"\n",
    "        peak_count += 1\n",
    "    pp += \"\\n\"\n",
    "    \n",
    "pp += f\"Total: {peak_count} peaks\"\n",
    "\n",
    "with open(f\"{fdir}summary_pks_all.txt\", \"w\") as F:\n",
    "    F.write(pp)"
   ]
  },
  {
   "cell_type": "code",
   "execution_count": 11,
   "id": "5ab48e3b-2426-4cc3-8122-c40d1a1b8533",
   "metadata": {},
   "outputs": [],
   "source": [
    "peak_count = 0\n",
    "pp = \"\"\n",
    "for compound, x, y, z in zip(compounds, all_sel_pks, all_exp_pks, all_pip_pks):\n",
    "    pp += f\"{compound}:\\n\"\n",
    "    for r, xi, yi, zi in zip(peaks[compound.split(\"_\")[0]], x, y, z):\n",
    "        pp += f\"  Peak between {r[0]} and {r[1]} ppm: maximum = {xi:.4f} ppm\\n\"\n",
    "        pp += f\"                                 exp: maximum = {yi:.4f} ppm\\n\"\n",
    "        pp += f\"                                 PIP: maximum = {zi:.4f} ppm\\n\"\n",
    "        peak_count += 1\n",
    "    pp += \"\\n\"\n",
    "    \n",
    "pp += f\"Total: {peak_count} peaks\"\n",
    "\n",
    "with open(f\"{fdir}summary_pks.txt\", \"w\") as F:\n",
    "    F.write(pp)"
   ]
  },
  {
   "cell_type": "code",
   "execution_count": 12,
   "id": "68cb4cf7-4f41-4b66-beae-580bcb56b5a3",
   "metadata": {},
   "outputs": [],
   "source": [
    "pks_exp = np.concatenate(all_exp_pks)\n",
    "pks_sel = np.concatenate(all_sel_pks)\n",
    "pks_pip = np.concatenate(all_pip_pks)\n",
    "lws_exp = np.concatenate(all_exp_lws)\n",
    "lws_sel = np.concatenate(all_sel_lws)\n",
    "lws_pip = np.concatenate(all_pip_lws)\n",
    "\n",
    "lws_exp_hz = []\n",
    "lws_sel_hz = []\n",
    "lws_pip_hz = []\n",
    "for compound, these_lws_exp, these_lws_sel, these_lws_pip in zip(compounds, all_exp_lws, all_sel_lws, all_pip_lws):\n",
    "    lws_exp_hz.append(these_lws_exp * fields[compound])\n",
    "    lws_sel_hz.append(these_lws_sel * fields[compound])\n",
    "    lws_pip_hz.append(these_lws_pip * fields[compound])\n",
    "\n",
    "lws_exp_hz = np.concatenate(lws_exp_hz)\n",
    "lws_sel_hz = np.concatenate(lws_sel_hz)\n",
    "lws_pip_hz = np.concatenate(lws_pip_hz)"
   ]
  },
  {
   "cell_type": "code",
   "execution_count": 13,
   "id": "5e4616c2-deb8-4fd6-9874-5e537c3333b9",
   "metadata": {},
   "outputs": [
    {
     "data": {
      "image/png": "[encoded data removed]",
      "text/plain": [
       "<Figure size 600x300 with 1 Axes>"
      ]
     },
     "metadata": {},
     "output_type": "display_data"
    }
   ],
   "source": [
    "n = pks_exp.shape[0]\n",
    "dx = 0.25\n",
    "\n",
    "fig = plt.figure(figsize=(6,3))\n",
    "ax = fig.add_subplot(1,1,1)\n",
    "ax.bar(np.arange(n)-dx, lws_exp, width=dx)\n",
    "ax.bar(np.arange(n), lws_sel, width=dx)\n",
    "ax.bar(np.arange(n)+dx, lws_pip, width=dx)\n",
    "ax.legend([\"100 kHz MAS\", \"PIPNet\", \"PIP\"], loc=\"upper left\")\n",
    "ax.set_xticks(range(n))\n",
    "ax.set_ylabel(\"FWHM [ppm]\")\n",
    "ax.set_xlim(-2.5*dx, (n-1)+2.5*dx)\n",
    "fig.tight_layout()\n",
    "fig.savefig(f\"{fdir}fwhms.pdf\")\n",
    "plt.show()\n",
    "plt.close()"
   ]
  },
  {
   "cell_type": "code",
   "execution_count": 14,
   "id": "5c24ddeb-b8fa-44a6-a5ba-a59d64c96448",
   "metadata": {},
   "outputs": [],
   "source": [
    "ref_lws = [[9., 158.58], [5., 40.2], [3., 125.94], [18., 178.5], [21., 188.52], [23., 129.36], [26., 191.1]]"
   ]
  },
  {
   "cell_type": "code",
   "execution_count": 15,
   "id": "25366209-f859-4bca-8fe1-2ef0843f0164",
   "metadata": {},
   "outputs": [
    {
     "data": {
      "image/png": "[encoded data removed]",
      "text/plain": [
       "<Figure size 600x300 with 1 Axes>"
      ]
     },
     "metadata": {},
     "output_type": "display_data"
    }
   ],
   "source": [
    "n = pks_exp.shape[0]\n",
    "dx = 0.25\n",
    "\n",
    "fig = plt.figure(figsize=(6,3))\n",
    "ax = fig.add_subplot(1,1,1)\n",
    "ax.bar(np.arange(n)-dx, lws_exp_hz, width=dx)\n",
    "ax.bar(np.arange(n), lws_sel_hz, width=dx)\n",
    "ax.bar(np.arange(n)+dx, lws_pip_hz, width=dx)\n",
    "ax.legend([\"100 kHz MAS\", \"PIPNet\", \"PIP\"], loc=\"upper left\")\n",
    "for x, lw in ref_lws:\n",
    "    ax.plot([x-1.5*dx, x+1.5*dx], [lw, lw], \"k\")\n",
    "ax.set_xticks(range(n))\n",
    "ax.set_ylabel(\"FWHM [Hz]\")\n",
    "ax.set_xlim(-2.5*dx, (n-1)+2.5*dx)\n",
    "fig.tight_layout()\n",
    "fig.savefig(f\"{fdir}fwhms_hz.pdf\")\n",
    "plt.show()\n",
    "plt.close()"
   ]
  },
  {
   "cell_type": "code",
   "execution_count": 22,
   "id": "86afd8b3-cf94-40f5-8abc-979af8a1fbf3",
   "metadata": {},
   "outputs": [
    {
     "data": {
      "image/png": "[encoded data removed]",
      "text/plain": [
       "<Figure size 600x300 with 1 Axes>"
      ]
     },
     "metadata": {},
     "output_type": "display_data"
    }
   ],
   "source": [
    "n = pks_exp.shape[0]\n",
    "dx = 0.8\n",
    "\n",
    "fig = plt.figure(figsize=(6,3))\n",
    "ax = fig.add_subplot(1,1,1)\n",
    "ax.bar(np.arange(n), pks_sel - pks_exp, width=dx, zorder=0)\n",
    "ax.plot([-2.5*dx, (n-1)+2.5*dx], [0., 0.], \"k\", zorder=1)\n",
    "ax.set_ylabel(\"∆ peak position [ppm]\")\n",
    "ax.set_xlim(-2.5*dx, (n-1)+2.5*dx)\n",
    "fig.tight_layout()\n",
    "fig.savefig(f\"{fdir}peak_pos_diffs.pdf\")\n",
    "plt.show()\n",
    "plt.close()"
   ]
  },
  {
   "cell_type": "code",
   "execution_count": 23,
   "id": "711077e5-ffff-4ba8-b0ca-314a350454e1",
   "metadata": {},
   "outputs": [
    {
     "data": {
      "image/png": "[encoded data removed]",
      "text/plain": [
       "<Figure size 600x300 with 1 Axes>"
      ]
     },
     "metadata": {},
     "output_type": "display_data"
    }
   ],
   "source": [
    "n = pks_exp.shape[0]\n",
    "dx = 0.8\n",
    "\n",
    "fig = plt.figure(figsize=(6,3))\n",
    "ax = fig.add_subplot(1,1,1)\n",
    "ax.bar(np.arange(n), pks_pip - pks_exp, width=dx, zorder=0)\n",
    "ax.plot([-2.5*dx, (n-1)+2.5*dx], [0., 0.], \"k\", zorder=1)\n",
    "ax.set_ylabel(\"∆ peak position [ppm]\")\n",
    "ax.set_xlim(-2.5*dx, (n-1)+2.5*dx)\n",
    "fig.tight_layout()\n",
    "fig.savefig(f\"{fdir}peak_pos_diffs_pip.pdf\")\n",
    "plt.show()\n",
    "plt.close()"
   ]
  },
  {
   "cell_type": "code",
   "execution_count": 24,
   "id": "497833b3-6f4f-43bf-a728-692350d5e6e0",
   "metadata": {},
   "outputs": [
    {
     "data": {
      "image/png": "[encoded data removed]",
      "text/plain": [
       "<Figure size 600x300 with 1 Axes>"
      ]
     },
     "metadata": {},
     "output_type": "display_data"
    }
   ],
   "source": [
    "n = pks_exp.shape[0]\n",
    "dx = 0.4\n",
    "\n",
    "fig = plt.figure(figsize=(6,3))\n",
    "ax = fig.add_subplot(1,1,1)\n",
    "ax.bar(np.arange(n)-dx/2, pks_sel - pks_exp, width=dx, zorder=0)\n",
    "ax.bar(np.arange(n)+dx/2, pks_pip - pks_exp, width=dx, zorder=0)\n",
    "ax.legend([\"PIPNet\", \"PIP\"])\n",
    "ax.plot([-2.5*dx, (n-1)+2.5*dx], [0., 0.], \"k\", zorder=1)\n",
    "ax.set_ylabel(\"∆ peak position [ppm]\")\n",
    "ax.set_xlim(-2.5*dx, (n-1)+2.5*dx)\n",
    "fig.tight_layout()\n",
    "fig.savefig(f\"{fdir}peak_pos_diffs_both.pdf\")\n",
    "plt.show()\n",
    "plt.close()"
   ]
  },
  {
   "cell_type": "code",
   "execution_count": 25,
   "id": "99c30ace-fffc-4376-a86b-23283b790e23",
   "metadata": {},
   "outputs": [
    {
     "data": {
      "image/png": "[encoded data removed]",
      "text/plain": [
       "<Figure size 300x300 with 1 Axes>"
      ]
     },
     "metadata": {},
     "output_type": "display_data"
    },
    {
     "name": "stdout",
     "output_type": "stream",
     "text": [
      "MAE: 0.04774334700862667\n",
      "RMSE: 0.060108293232813394\n",
      "R2: 0.999906806044351\n"
     ]
    }
   ],
   "source": [
    "fig = plt.figure(figsize=(3,3))\n",
    "ax = fig.add_subplot(1,1,1)\n",
    "ax.plot([0., 20.], [0., 20.], \"k\", linewidth=1., zorder=0)\n",
    "for x, y in zip(all_exp_pks, all_sel_pks):\n",
    "    ax.scatter(x, y, s=10, linewidth=0., zorder=1)\n",
    "\n",
    "ax.set_xlim(0., 20.)\n",
    "ax.set_ylim(0., 20.)\n",
    "ax.set_aspect(\"equal\", \"box\")\n",
    "ax.set_xlabel(\"100 kHz MAS [ppm]\")\n",
    "ax.set_ylabel(\"PIPNet [ppm]\")\n",
    "fig.tight_layout()\n",
    "fig.savefig(f\"{fdir}peak_pos.pdf\")\n",
    "plt.show()\n",
    "plt.close()\n",
    "\n",
    "print(\"MAE:\", np.mean(np.abs(pks_exp - pks_sel)))\n",
    "print(\"RMSE:\", np.sqrt(np.mean(np.square(pks_exp - pks_sel))))\n",
    "\n",
    "slope, intercept, r_value, p_value, std_err = scipy.stats.linregress(pks_exp, pks_sel)\n",
    "print(\"R2:\", r_value**2)"
   ]
  },
  {
   "cell_type": "code",
   "execution_count": 26,
   "id": "37bd50df-5c70-4bf3-adcd-964311d7eefa",
   "metadata": {},
   "outputs": [
    {
     "name": "stdout",
     "output_type": "stream",
     "text": [
      "[-0.03051256 -0.06102512 -0.12205024]\n",
      "[ 0.          0.         -0.06102504 -0.06102504 -0.03051252 -0.12205009\n",
      " -0.03051252]\n",
      "[-0.09153769 -0.03051256 -0.06102512 -0.06102512]\n",
      "[-0.0308211  0.        -0.0308211 -0.0308211]\n",
      "[-0.03051256 -0.03051256  0.         -0.03051256 -0.03051256]\n",
      "[ 0.03051254 -0.09153762 -0.12205016 -0.12205016]\n",
      "[-0.06102511]\n",
      "[ 0.03082109 -0.06164218  0.         -0.03082109]\n"
     ]
    },
    {
     "data": {
      "image/png": "[encoded data removed]",
      "text/plain": [
       "<Figure size 400x300 with 1 Axes>"
      ]
     },
     "metadata": {},
     "output_type": "display_data"
    },
    {
     "name": "stdout",
     "output_type": "stream",
     "text": [
      "MAE: 0.04774334700862667\n",
      "RMSE: 0.060108293232813394\n",
      "R2: 0.999906806044351\n"
     ]
    }
   ],
   "source": [
    "fig = plt.figure(figsize=(4,3))\n",
    "ax = fig.add_subplot(1,1,1)\n",
    "ax.plot([0., 20.], [0., 0.], \"k\", linewidth=1., zorder=0)\n",
    "for x, y in zip(all_exp_pks, all_sel_pks):\n",
    "    ax.scatter(x, y-x, s=15, linewidth=0., zorder=1)\n",
    "    print(y-x)\n",
    "\n",
    "ax.set_xlim(0., 20.)\n",
    "ax.set_xlabel(\"100 kHz MAS [ppm]\")\n",
    "ax.set_ylabel(\"PIPNet - 100 kHz MAS [ppm]\")\n",
    "fig.tight_layout()\n",
    "fig.savefig(f\"{fdir}peak_pos_diff.pdf\")\n",
    "plt.show()\n",
    "plt.close()\n",
    "\n",
    "print(\"MAE:\", np.mean(np.abs(pks_exp - pks_sel)))\n",
    "print(\"RMSE:\", np.sqrt(np.mean(np.square(pks_exp - pks_sel))))\n",
    "\n",
    "slope, intercept, r_value, p_value, std_err = scipy.stats.linregress(pks_exp, pks_sel)\n",
    "print(\"R2:\", r_value**2)"
   ]
  },
  {
   "cell_type": "code",
   "execution_count": 18,
   "id": "73a8b2b4-ca53-4269-bf8e-b004db76eadb",
   "metadata": {},
   "outputs": [
    {
     "name": "stdout",
     "output_type": "stream",
     "text": [
      "2.165802004302922 1.474759996694771\n",
      "1.0678641617172486 8.335482269070898\n"
     ]
    }
   ],
   "source": [
    "print(np.mean(lws_exp_hz / lws_sel_hz), np.std(lws_exp_hz / lws_sel_hz))\n",
    "print(np.min(lws_exp_hz / lws_sel_hz), np.max(lws_exp_hz / lws_sel_hz))"
   ]
  },
  {
   "cell_type": "code",
   "execution_count": 19,
   "id": "29c07152-8115-4257-b5a4-4ea5430e4235",
   "metadata": {},
   "outputs": [
    {
     "name": "stdout",
     "output_type": "stream",
     "text": [
      "5.660978937295878 3.8950608956354467\n",
      "0.9175761606916452 18.987034002013687\n"
     ]
    }
   ],
   "source": [
    "print(np.mean(lws_exp_hz / lws_pip_hz), np.std(lws_exp_hz / lws_pip_hz))\n",
    "print(np.min(lws_exp_hz / lws_pip_hz), np.max(lws_exp_hz / lws_pip_hz))"
   ]
  },
  {
   "cell_type": "code",
   "execution_count": 20,
   "id": "d7a697c6-b9b8-48d7-8dd8-68b3ce9beb93",
   "metadata": {},
   "outputs": [
    {
     "name": "stdout",
     "output_type": "stream",
     "text": [
      "0.16101714502440745 0.21684123337267847\n"
     ]
    }
   ],
   "source": [
    "x = np.concatenate(all_pip_lws)\n",
    "y = np.concatenate(all_sel_lws)\n",
    "\n",
    "print(np.mean(np.abs(x - y)), np.sqrt(np.mean(np.square(x - y))))"
   ]
  },
  {
   "cell_type": "code",
   "execution_count": 21,
   "id": "74a13d38-b6ce-4d4f-ac1d-fbc0f87ef489",
   "metadata": {},
   "outputs": [
    {
     "name": "stdout",
     "output_type": "stream",
     "text": [
      "0.07412651621285193 0.08715712943327265\n",
      "0.9996566452278\n"
     ]
    }
   ],
   "source": [
    "x = np.concatenate(all_pip_pks)\n",
    "y = np.concatenate(all_sel_pks)\n",
    "\n",
    "print(np.mean(np.abs(x - y)), np.sqrt(np.mean(np.square(x - y))))\n",
    "\n",
    "slope, intercept, r_value, p_value, std_err = scipy.stats.linregress(x, y)\n",
    "print(r_value**2)"
   ]
  },
  {
   "cell_type": "code",
   "execution_count": 22,
   "id": "9f02b0d3",
   "metadata": {
    "tags": []
   },
   "outputs": [],
   "source": [
    "def plot_lw(all_lws_fit, all_lws_net, all_pks_fit, all_pks_net, compounds, save):\n",
    "\n",
    "    fig = plt.figure(figsize=(8,3))\n",
    "    ax1 = fig.add_subplot(1,2,1)\n",
    "    ax2 = fig.add_subplot(1,2,2)\n",
    "    \n",
    "    ax1.plot([0., 0.5], [0., 0.5], \"k\", zorder=0)\n",
    "    ax2.plot([0., 15.], [0., 15.], \"k\", zorder=0)\n",
    "\n",
    "    for lws_fit, lws_net in zip(all_lws_fit, all_lws_net):\n",
    "        ax1.scatter(lws_fit, lws_net, s=10, linewidths=0., zorder=1)\n",
    "\n",
    "    hs = []\n",
    "    for pks_fit, pks_net in zip(all_pks_fit, all_pks_net):\n",
    "        h = ax2.scatter(pks_fit, pks_net, s=10, linewidths=0., zorder=1)\n",
    "        hs.append(h)\n",
    "        \n",
    "    ax1.set_xlabel(\"PIP linewidth [ppm]\")\n",
    "    ax1.set_ylabel(\"PIPNet linewidth [ppm]\")\n",
    "    ax2.set_xlabel(\"PIP peak [ppm]\")\n",
    "    ax2.set_ylabel(\"PIPNet peak [ppm]\")\n",
    "\n",
    "    ax2.legend(hs, compounds, bbox_to_anchor=(1., 1.))\n",
    "\n",
    "    ax1.set_xlim(0., 0.5)\n",
    "    ax1.set_ylim(0., 0.5)\n",
    "    ax2.set_xlim(0., 15.)\n",
    "    ax2.set_ylim(0., 15.)\n",
    "    fig.tight_layout()\n",
    "\n",
    "    plt.savefig(f\"{save}_preds.pdf\")\n",
    "    plt.close()\n",
    "\n",
    "    fig = plt.figure(figsize=(8,3))\n",
    "    ax1 = fig.add_subplot(1,2,1)\n",
    "    ax2 = fig.add_subplot(1,2,2)\n",
    "\n",
    "    for lws_fit, lws_net in zip(all_lws_fit, all_lws_net):\n",
    "        ax1.scatter(lws_fit, lws_net - lws_fit, s=10, linewidths=0.)\n",
    "\n",
    "    for pks_fit, pks_net in zip(all_pks_fit, all_pks_net):\n",
    "        ax2.scatter(pks_fit, pks_net - pks_fit, s=10, linewidths=0.)\n",
    "\n",
    "    ax1.set_xlabel(\"PIP linewidth [ppm]\")\n",
    "    ax1.set_ylabel(\"linewidth difference [ppm]\")\n",
    "    ax2.set_xlabel(\"PIP peak [ppm]\")\n",
    "    ax2.set_ylabel(\"peak difference [ppm]\")\n",
    "\n",
    "    lw_mae = np.mean(np.abs(np.concatenate(all_lws_fit) - np.concatenate(all_lws_net)))\n",
    "    pk_mae = np.mean(np.abs(np.concatenate(all_pks_fit) - np.concatenate(all_pks_net)))\n",
    "\n",
    "    ax1.title.set_text(f\"MAE = {lw_mae:.2f} ppm\")\n",
    "    ax2.title.set_text(f\"MAE = {pk_mae:.2f} ppm\")\n",
    "\n",
    "    ax2.legend(compounds, bbox_to_anchor=(1., 1.))\n",
    "\n",
    "    fig.tight_layout()\n",
    "\n",
    "    plt.savefig(f\"{save}_preds_diff.pdf\")\n",
    "    plt.close()\n",
    "    \n",
    "    return"
   ]
  },
  {
   "cell_type": "code",
   "execution_count": 23,
   "id": "3cc3492b-96fe-4221-b2fc-46eec98d5eaa",
   "metadata": {},
   "outputs": [],
   "source": [
    "plot_lw(all_pip_lws, all_sel_lws, all_pip_pks, all_sel_pks, compounds, f\"{fdir}linewidths_sel\")\n",
    "plot_lw(all_exp_lws, all_sel_lws, all_exp_pks, all_sel_pks, compounds, f\"{fdir}linewidths_sel_exp\")"
   ]
  },
  {
   "cell_type": "code",
   "execution_count": 24,
   "id": "05b3fe5a-59f5-4226-b65d-79aa1ece29c7",
   "metadata": {},
   "outputs": [],
   "source": [
    "def plot_integrals(all_X_int, all_y_int, compounds, int_regions, w=0.2, label_h=0.1, show=True, save=None):\n",
    "    \n",
    "    # Compound separations\n",
    "    sep = []\n",
    "    mid = []\n",
    "    labels = []\n",
    "    bounds = []\n",
    "    i = 0\n",
    "    for k in compounds:\n",
    "        if k in int_regions:\n",
    "            l = len(int_regions[k])\n",
    "            labels.append(k)\n",
    "            sep.append(i+l - 0.5)\n",
    "            mid.append(i + (l / 2) - 0.5)\n",
    "            i += l\n",
    "            bounds.append([r[1] for r in int_regions[k][:-1]])\n",
    "    sep = sep[:-1]\n",
    "    \n",
    "    err_avg = []\n",
    "    err_std = []\n",
    "    for xint, yint in zip(all_X_int, all_y_int):\n",
    "        err_avg.append(np.mean(np.abs(xint-yint)))\n",
    "        err_std.append(np.std(np.abs(xint-yint)))\n",
    "    \n",
    "    x = np.array(range(i))\n",
    "    \n",
    "    xint = np.concatenate(all_X_int)\n",
    "    yint = np.concatenate(all_y_int)\n",
    "    \n",
    "    M = max(np.max(xint), np.max(yint)) * 1.1\n",
    "    \n",
    "    fig = plt.figure(figsize=(i*0.4,3))\n",
    "    ax = fig.add_subplot(1,1,1)\n",
    "    \n",
    "    ax.bar(x-(w/2), xint, width=w)\n",
    "    ax.bar(x+(w/2), yint, width=w)\n",
    "    \n",
    "    ax.legend([\"100 kHz MAS\", \"PIPNet\"], bbox_to_anchor=(0.,0.9), loc=\"upper left\")\n",
    "    \n",
    "    for s in sep:\n",
    "        ax.plot([s, s], [0., M], \"k\")\n",
    "    \n",
    "    lx = 0.5\n",
    "    for b in bounds:\n",
    "        for bi in b:\n",
    "            ax.plot([lx, lx], [0, label_h], \"k:\")\n",
    "            ax.text(lx, label_h, f\" {bi} ppm\", rotation=90, ha=\"center\", va=\"bottom\", size=8)\n",
    "            lx += 1\n",
    "        lx += 1\n",
    "    \n",
    "    for em, es, m in zip(err_avg, err_std, mid):\n",
    "        ax.text(m, M*0.99, f\"mae: {em:.3f}\\n±{es:.3f}\", ha=\"center\", va=\"top\", size=8)\n",
    "    \n",
    "    ax.set_xticks(mid)\n",
    "    ax.set_xticklabels(labels)\n",
    "    \n",
    "    ax.set_ylabel(\"Relative integral\")\n",
    "    \n",
    "    ax.set_ylim(0., M)\n",
    "    ax.set_xlim(-0.5, i-0.5)\n",
    "    \n",
    "    if save is not None:\n",
    "        plt.savefig(save)\n",
    "    \n",
    "    if show:\n",
    "        plt.show()\n",
    "    \n",
    "    plt.close()\n",
    "    \n",
    "    return"
   ]
  },
  {
   "cell_type": "code",
   "execution_count": 25,
   "id": "96badcf2-6e61-46af-9227-ad3c525ec293",
   "metadata": {},
   "outputs": [
    {
     "data": {
      "image/png": "[encoded data removed]",
      "text/plain": [
       "<Figure size 1240x300 with 1 Axes>"
      ]
     },
     "metadata": {},
     "output_type": "display_data"
    }
   ],
   "source": [
    "plot_integrals(all_exp_int, all_sel_int, compounds, int_regions, save=f\"{fdir}integrals_sel.pdf\")"
   ]
  },
  {
   "cell_type": "code",
   "execution_count": null,
   "id": "74f337a8-bf89-4e80-acb0-3bb13867cac0",
   "metadata": {},
   "outputs": [],
   "source": []
  }
 ],
 "metadata": {
  "kernelspec": {
   "display_name": "PIPNet",
   "language": "python",
   "name": "pipnet"
  },
  "language_info": {
   "codemirror_mode": {
    "name": "ipython",
    "version": 3
   },
   "file_extension": ".py",
   "mimetype": "text/x-python",
   "name": "python",
   "nbconvert_exporter": "python",
   "pygments_lexer": "ipython3",
   "version": "3.9.13"
  }
 },
 "nbformat": 4,
 "nbformat_minor": 5
}
