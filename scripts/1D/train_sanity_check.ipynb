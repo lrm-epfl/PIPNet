{
 "cells": [
  {
   "cell_type": "code",
   "execution_count": 1,
   "id": "3549658f",
   "metadata": {},
   "outputs": [],
   "source": [
    "import numpy as np\n",
    "import os\n",
    "import sys\n",
    "\n",
    "import torch\n",
    "from torch import nn\n",
    "\n",
    "import matplotlib.pyplot as plt\n",
    "from IPython import display\n",
    "\n",
    "from pipnet import data\n",
    "from pipnet import model\n",
    "from pipnet import train\n",
    "\n",
    "np.random.seed(1)"
   ]
  },
  {
   "cell_type": "markdown",
   "id": "63d0745d",
   "metadata": {},
   "source": [
    "# Define data generation parameters"
   ]
  },
  {
   "cell_type": "code",
   "execution_count": 2,
   "id": "381ac2da",
   "metadata": {
    "tags": []
   },
   "outputs": [],
   "source": [
    "iso_pars = dict(\n",
    "    td = 512,\n",
    "    Fs = 12_800,\n",
    "    nmin = 1,\n",
    "    nmax = 15,\n",
    "    freq_range = [2_000., 10_000.],\n",
    "    gmin = 1,\n",
    "    gmax = 1,\n",
    "    spread = 5.,\n",
    "    lw_range = [[5e1, 2e2], [1e2, 5e2], [1e2, 1e3]],\n",
    "    lw_probs = [0.7, 0.2, 0.1],\n",
    "    int_range = [0.5, 1.], # Intensity\n",
    "    phase = 0.,\n",
    "    debug = False,\n",
    ")\n",
    "\n",
    "mas_pars = dict(\n",
    "    nw = 8,\n",
    "    mas_w_range = [30_000., 100_000.],\n",
    "    random_mas = False,\n",
    "    mas_phase_p = 0.5,\n",
    "    mas_phase_scale = 0.05,\n",
    "    \n",
    "    # First-order MAS-dependent parameters\n",
    "    mas1_lw_range = [[1e7, 5e7], [5e7, 1e8]],\n",
    "    mas1_lw_probs = [0.8, 0.2],\n",
    "    mas1_m_range = [[0., 0.], [0., 1e4], [1e4, 5e4]],\n",
    "    mas1_m_probs = [1., 0.1, 0.8],\n",
    "    mas1_s_range = [[-1e7, 1e7]],\n",
    "    mas1_s_probs = [1.],\n",
    "\n",
    "    # Second-order MAS-dependent parameters\n",
    "    mas2_prob = 1.,\n",
    "    mas2_lw_range = [[0., 0.], [1e11, 5e11]],\n",
    "    mas2_lw_probs = [0.2, 0.8],\n",
    "    mas2_m_range = [[0., 0.], [1e8, 5e8]],\n",
    "    mas2_m_probs = [0.9, 0.1],\n",
    "    mas2_s_range = [[0., 0.], [-2e10, 2e10]],\n",
    "    mas2_s_probs = [0.8, 0.2],\n",
    "    \n",
    "    # Other MAS-dependent parameters\n",
    "    non_mas_p = 0.5,\n",
    "    non_mas_m_trends = [\"constant\", \"increase\", \"decrease\"],\n",
    "    non_mas_m_probs = [0.34, 0.33, 0.33],\n",
    "    non_mas_m_range = [0., 1.],\n",
    "    \n",
    "    int_decrease_p = 0.1,\n",
    "    int_decrease_scale =[0.3, 0.7],\n",
    "    debug = False,\n",
    ")\n",
    "\n",
    "data_pars = dict(\n",
    "    iso_pars = iso_pars,\n",
    "    mas_pars = mas_pars,\n",
    "    \n",
    "    positive_iso = True,\n",
    "    encode_imag = False, # Encode the imaginary part of the MAS spectra\n",
    "    encode_wr = True, # Encode the MAS rate of the spectra\n",
    "\n",
    "    # noise parameters\n",
    "    noise = 0., # Noise level\n",
    "    mas_l_noise = 0.05,\n",
    "    mas_s_noise = 25.,\n",
    "    \n",
    "    smooth_end_len = 10, # Smooth ends of spectra\n",
    "    iso_spec_norm = 256., # Normalization factor for peaks\n",
    "    mas_spec_norm = 64., # Normalization factor for MAS spectra\n",
    "    wr_norm_factor = 100_000.,\n",
    "    wr_inv = False, # Encode inverse of MAS rate instead of MAS rate\n",
    "    gen_mas_shifts = True,\n",
    ")\n",
    "\n",
    "model_pars = dict(\n",
    "    input_dim = 2,\n",
    "    n_models = 4,\n",
    "    hidden_dim = [64, 64],\n",
    "    kernel_size = [5, 5],\n",
    "    num_layers = 2,\n",
    "    batch_input = 6,\n",
    "    bias = True,\n",
    "    output_bias = True,\n",
    "    return_all_layers = True,\n",
    "    batch_norm = False,\n",
    "    ndim = 1,\n",
    "    independent = True,\n",
    "    output_kernel_size = 5,\n",
    "    output_act = \"sigmoid\",\n",
    "    noise = 0.,\n",
    "    invert = False,\n",
    ")\n",
    "\n",
    "loss_pars = dict(\n",
    "    trg_fuzz=3.,\n",
    "    trg_fuzz_len=25,\n",
    "    ndim=1,\n",
    "    exp=1.0,\n",
    "    offset=1.0,\n",
    "    factor=100.0,\n",
    "    int_w=0.0,\n",
    "    int_exp=2.0,\n",
    "    return_components=False,\n",
    "    device=\"cpu\",\n",
    ")\n",
    "\n",
    "train_pars = dict(\n",
    "    batch_size = 4,\n",
    "    num_workers = 4,\n",
    "    batches_per_epoch = 100,\n",
    "    batches_per_eval = 50,\n",
    "    n_epochs = 10,\n",
    "    change_loss={3: {\"trg_fuzz\": 3.0, \"factor\": 10.},\n",
    "                 6: {\"trg_fuzz\": 0.0, \"factor\": 0.},\n",
    "                },\n",
    "    out_dir = \"../../data/sanity_check/\",\n",
    "    device = \"cuda\" if torch.cuda.is_available() else \"cpu\",\n",
    "    monitor_end = \"\\r\"\n",
    ")\n",
    "\n",
    "fig_dir = \"../../figures/1D/sanity_check/\"\n",
    "if not os.path.exists(fig_dir):\n",
    "    os.mkdir(fig_dir)\n",
    "    \n",
    "torch.set_num_threads(8)"
   ]
  },
  {
   "cell_type": "code",
   "execution_count": 3,
   "id": "09623693",
   "metadata": {},
   "outputs": [],
   "source": [
    "dataset = data.Dataset(**data_pars)"
   ]
  },
  {
   "cell_type": "markdown",
   "id": "adfbf561",
   "metadata": {
    "tags": []
   },
   "source": [
    "# Define network, loss and optimizer"
   ]
  },
  {
   "cell_type": "code",
   "execution_count": 4,
   "id": "22417ade-5000-4715-a4f6-9f91959553b7",
   "metadata": {},
   "outputs": [
    {
     "data": {
      "text/plain": [
       "<module 'pipnet.model' from '/Users/manuelcordova/Desktop/Work/PIP/PIPNet/src/pipnet/model.py'>"
      ]
     },
     "execution_count": 4,
     "metadata": {},
     "output_type": "execute_result"
    }
   ],
   "source": [
    "import importlib\n",
    "importlib.reload(train)\n",
    "importlib.reload(model)"
   ]
  },
  {
   "cell_type": "code",
   "execution_count": 5,
   "id": "e116f4b3",
   "metadata": {},
   "outputs": [],
   "source": [
    "net = model.ConvLSTMEnsemble(**model_pars)\n",
    "loss = model.PIPLoss(**loss_pars)\n",
    "opt = torch.optim.Adam(net.parameters(), lr=1e-3)\n",
    "sch = torch.optim.lr_scheduler.ReduceLROnPlateau(opt, factor=0.5, patience=50)"
   ]
  },
  {
   "cell_type": "code",
   "execution_count": null,
   "id": "7694d085-8750-480c-ae6b-f53e5138cb7b",
   "metadata": {},
   "outputs": [
    {
     "name": "stdout",
     "output_type": "stream",
     "text": [
      "Starting training...\n",
      "    Training batch  100: loss =  1.4408e+00, mean loss =  2.2418e+00, lr =  1.0000e-03...\n",
      "  Checkpoint reached, evaluating the model...\n",
      "    Validation batch   50: loss =  3.3523e+00, mean loss =  2.0727e+00...\n",
      "  End of evaluation.\n",
      "    Training batch  200: loss =  1.3495e+00, mean loss =  1.9204e+00, lr =  1.0000e-03...\n",
      "  Checkpoint reached, evaluating the model...\n",
      "    Validation batch   50: loss =  2.1490e+00, mean loss =  2.1526e+00...\n",
      "  End of evaluation.\n",
      "    Training batch  300: loss =  1.3166e+00, mean loss =  1.9343e+00, lr =  1.0000e-03...\n",
      "  Checkpoint reached, evaluating the model...\n",
      "    Validation batch   50: loss =  1.2444e+00, mean loss =  1.7741e+00...\n",
      "  End of evaluation.\n",
      "\n",
      "    Changing loss parameter trg_fuzz to 3.0...\n",
      "\n",
      "    Changing loss parameter factor to 10.0...\n",
      "    Training batch  356: loss =  1.4800e-01, mean loss =  1.9539e-01, lr =  1.0000e-03...\r"
     ]
    }
   ],
   "source": [
    "train.train(\n",
    "    dataset,\n",
    "    net,\n",
    "    opt,\n",
    "    loss,\n",
    "    sch,\n",
    "    **train_pars\n",
    ")"
   ]
  },
  {
   "cell_type": "code",
   "execution_count": null,
   "id": "218f9750-9321-4505-bbe6-b8f256d3ac6f",
   "metadata": {},
   "outputs": [],
   "source": []
  }
 ],
 "metadata": {
  "kernelspec": {
   "display_name": "PIPNet",
   "language": "python",
   "name": "pipnet"
  },
  "language_info": {
   "codemirror_mode": {
    "name": "ipython",
    "version": 3
   },
   "file_extension": ".py",
   "mimetype": "text/x-python",
   "name": "python",
   "nbconvert_exporter": "python",
   "pygments_lexer": "ipython3",
   "version": "3.9.13"
  }
 },
 "nbformat": 4,
 "nbformat_minor": 5
}
