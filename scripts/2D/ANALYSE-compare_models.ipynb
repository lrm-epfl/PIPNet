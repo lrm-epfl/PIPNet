{
 "cells": [
  {
   "cell_type": "code",
   "execution_count": 1,
   "id": "b48c4f58",
   "metadata": {
    "tags": []
   },
   "outputs": [],
   "source": [
    "import numpy as np\n",
    "import os\n",
    "import sys\n",
    "import copy\n",
    "\n",
    "import torch\n",
    "torch.set_num_threads(os.cpu_count())\n",
    "from torch import nn\n",
    "\n",
    "import pickle as pk\n",
    "\n",
    "import matplotlib as mpl\n",
    "import matplotlib.pyplot as plt\n",
    "\n",
    "from pipnet import data\n",
    "from pipnet import model\n",
    "from pipnet import utils\n",
    "\n",
    "device = \"cuda\" if torch.cuda.is_available() else \"cpu\"\n",
    "\n",
    "np.random.seed(1)"
   ]
  },
  {
   "cell_type": "code",
   "execution_count": 2,
   "id": "909326be",
   "metadata": {},
   "outputs": [],
   "source": [
    "comparison = \"layers\"\n",
    "\n",
    "if comparison == \"layers\":\n",
    "    \n",
    "    mods = [\n",
    "        \"PIPNet_2022_11_21_2_layers\",\n",
    "        \"PIPNet_2022_11_21_3_layers\",\n",
    "#        \"PIPNet_2022_11_21_4_layers\",\n",
    "    ]\n",
    "\n",
    "\n",
    "    labels = [\"2 layers\", \"3 layers\"]\n",
    "#    labels = [\"2 layers\", \"3 layers\", \"4 layers\"]\n",
    "\n",
    "else:\n",
    "    raise ValueError(f\"Unknown comparison: {comparison}\")\n",
    "    \n",
    "in_root = f\"../../figures/2D/\"\n",
    "\n",
    "fig_dir = f\"../../figures/2D/compare_{comparison}/\"\n",
    "\n",
    "if not os.path.exists(fig_dir):\n",
    "    os.mkdir(fig_dir)"
   ]
  },
  {
   "cell_type": "code",
   "execution_count": 3,
   "id": "5080b9b5-f4a8-4cde-b3cc-2fd9977f4f4b",
   "metadata": {},
   "outputs": [
    {
     "name": "stdout",
     "output_type": "stream",
     "text": [
      "Loading PIPNet_2022_11_21_2_layers\n",
      "Loading PIPNet_2022_11_21_3_layers\n"
     ]
    }
   ],
   "source": [
    "evaluations = []\n",
    "evaluation_keys = []\n",
    "for mod in mods:\n",
    "    \n",
    "    mod_evaluations = {}\n",
    "    mod_evaluation_keys = {}\n",
    "    \n",
    "    print(f\"Loading {mod}\")\n",
    "    \n",
    "    for f in sorted(os.listdir(f\"{in_root}{mod}/evaluation/\")):\n",
    "        if f.startswith(\"eval_\") and f.endswith(\".txt\"):\n",
    "            with open(f\"{in_root}{mod}/evaluation/{f}\", \"r\") as F:\n",
    "                lines = F.read().split(\"\\n\")\n",
    "            \n",
    "            ev = f.split(\"eval_\")[1].split(\".txt\")[0]\n",
    "            \n",
    "            mod_evaluations[ev] = []\n",
    "            mod_evaluation_keys[ev] = []\n",
    "            for l in lines:\n",
    "                if len(l) > 0:\n",
    "                    tmp = l.split()\n",
    "                    try:\n",
    "                        if ev == \"npeaks\":\n",
    "                            mod_evaluation_keys[ev].append(float(tmp[0])**2)\n",
    "                        else:\n",
    "                            mod_evaluation_keys[ev].append(float(tmp[0]))\n",
    "                    except:\n",
    "                        mod_evaluation_keys[ev].append(tmp[0])\n",
    "                    \n",
    "                    mod_evaluations[ev].append(list(map(float, tmp[1:])))\n",
    "            \n",
    "            mod_evaluations[ev] = np.array(mod_evaluations[ev])\n",
    "            \n",
    "    evaluations.append(mod_evaluations)\n",
    "    evaluation_keys.append(mod_evaluation_keys)"
   ]
  },
  {
   "cell_type": "code",
   "execution_count": 4,
   "id": "4024a5df-e88b-4596-9801-6def34e074a7",
   "metadata": {},
   "outputs": [],
   "source": [
    "for k in evaluation_keys[-1]:\n",
    "    \n",
    "    fig = plt.figure(figsize=(8,6))\n",
    "    ax1 = fig.add_subplot(2,2,1)\n",
    "    ax2 = fig.add_subplot(2,2,2)\n",
    "    ax3 = fig.add_subplot(2,2,3)\n",
    "    ax4 = fig.add_subplot(2,2,4)\n",
    "\n",
    "    fig2 = plt.figure(figsize=(8,6))\n",
    "    ax12 = fig2.add_subplot(2,2,1)\n",
    "    ax22 = fig2.add_subplot(2,2,2)\n",
    "    ax32 = fig2.add_subplot(2,2,3)\n",
    "    ax42 = fig2.add_subplot(2,2,4)\n",
    "    \n",
    "    max_errs = [0., 0., 0., 0.]\n",
    "    max_errs_norm = [0., 0., 0., 0.]\n",
    "    for i, (evk, ev) in enumerate(zip(evaluation_keys, evaluations)):\n",
    "        ax1.plot(evk[k], ev[k][:, 0], f\"C{i}.-\")\n",
    "        ax2.plot(evk[k], ev[k][:, 1], f\"C{i}.-\")\n",
    "        ax3.plot(evk[k], ev[k][:, 2], f\"C{i}.-\")\n",
    "        ax4.plot(evk[k], ev[k][:, 3], f\"C{i}.-\")\n",
    "        \n",
    "        m = np.max(ev[k][:, :4], axis=0)\n",
    "        max_errs[0] = max(max_errs[0], m[0])\n",
    "        max_errs[1] = max(max_errs[1], m[1])\n",
    "        max_errs[2] = max(max_errs[2], m[2])\n",
    "        max_errs[3] = max(max_errs[3], m[3])\n",
    "                \n",
    "        if ev[k].shape[1] > 4:\n",
    "            ax12.plot(evk[k], ev[k][:, 4], f\"C{i}.-\")\n",
    "            ax22.plot(evk[k], ev[k][:, 5], f\"C{i}.-\")\n",
    "            ax32.plot(evk[k], ev[k][:, 6], f\"C{i}.-\")\n",
    "            ax42.plot(evk[k], ev[k][:, 7], f\"C{i}.-\")\n",
    "        \n",
    "            m = np.max(ev[k][:, 4:], axis=0)\n",
    "            max_errs_norm[0] = max(max_errs_norm[0], m[0])\n",
    "            max_errs_norm[1] = max(max_errs_norm[1], m[1])\n",
    "            max_errs_norm[2] = max(max_errs_norm[2], m[2])\n",
    "            max_errs_norm[3] = max(max_errs_norm[3], m[3])\n",
    "            \n",
    "    ax1.set_ylabel(\"Spectrum MAE\")\n",
    "    ax2.set_ylabel(\"Integral MAE\")\n",
    "    ax3.set_ylabel(\"Spectrum MSE\")\n",
    "    ax4.set_ylabel(\"Cosine similarity\")\n",
    "    \n",
    "    ax1.set_xlabel(f\"{k}\")\n",
    "    ax2.set_xlabel(f\"{k}\")\n",
    "    ax3.set_xlabel(f\"{k}\")\n",
    "    ax4.set_xlabel(f\"{k}\")\n",
    "    \n",
    "    if k == \"noise\" or k == \"lw_noise\":\n",
    "        ax1.set_xscale(\"log\")\n",
    "        ax2.set_xscale(\"log\")\n",
    "        ax3.set_xscale(\"log\")\n",
    "        ax4.set_xscale(\"log\")\n",
    "    \n",
    "    ax1.set_ylim(0., max_errs[0] * 1.1)\n",
    "    ax2.set_ylim(0., max_errs[1] * 1.1)\n",
    "    ax3.set_ylim(0., max_errs[2] * 1.1)\n",
    "    ax4.set_ylim(0., max_errs[3] * 1.1)\n",
    "    \n",
    "    ax2.legend(labels)\n",
    "    \n",
    "    fig.tight_layout()\n",
    "    fig.savefig(f\"{fig_dir}compare_{k}.pdf\")\n",
    "    plt.close(fig) \n",
    "        \n",
    "    if ev[k].shape[1] > 4:\n",
    "        ax12.set_ylabel(\"Spectrum MAE\")\n",
    "        ax22.set_ylabel(\"Integral MAE\")\n",
    "        ax32.set_ylabel(\"Spectrum MSE\")\n",
    "        ax42.set_ylabel(\"Cosine similarity\")\n",
    "\n",
    "        ax12.set_xlabel(f\"{k}\")\n",
    "        ax22.set_xlabel(f\"{k}\")\n",
    "        ax32.set_xlabel(f\"{k}\")\n",
    "        ax42.set_xlabel(f\"{k}\")\n",
    "    \n",
    "        ax12.set_ylim(0., max_errs_norm[0] * 1.1)\n",
    "        ax22.set_ylim(0., max_errs_norm[1] * 1.1)\n",
    "        ax32.set_ylim(0., max_errs_norm[2] * 1.1)\n",
    "        ax42.set_ylim(0., max_errs_norm[3] * 1.1)\n",
    "\n",
    "        ax22.legend(labels)\n",
    "\n",
    "        fig2.tight_layout()\n",
    "        fig2.savefig(f\"{fig_dir}compare_{k}_norm.pdf\")\n",
    "\n",
    "    plt.close(fig2)"
   ]
  },
  {
   "cell_type": "code",
   "execution_count": 10,
   "id": "b1fa92a8-03a9-4ff6-bcaf-5339c2f913ab",
   "metadata": {},
   "outputs": [
    {
     "name": "stdout",
     "output_type": "stream",
     "text": [
      "['wr1', 'wr2', 'wr1+wr2', 'Constant', 'Constant', 'Constant']\n"
     ]
    },
    {
     "ename": "KeyError",
     "evalue": "'constant'",
     "output_type": "error",
     "traceback": [
      "\u001b[0;31m---------------------------------------------------------------------------\u001b[0m",
      "\u001b[0;31mKeyError\u001b[0m                                  Traceback (most recent call last)",
      "Input \u001b[0;32mIn [10]\u001b[0m, in \u001b[0;36m<cell line: 5>\u001b[0;34m()\u001b[0m\n\u001b[1;32m      5\u001b[0m \u001b[38;5;28;01mfor\u001b[39;00m ev \u001b[38;5;129;01min\u001b[39;00m evaluations:\n\u001b[1;32m      6\u001b[0m     evs \u001b[38;5;241m=\u001b[39m ev[\u001b[38;5;124m\"\u001b[39m\u001b[38;5;124mwr12\u001b[39m\u001b[38;5;124m\"\u001b[39m]\n\u001b[0;32m----> 7\u001b[0m     evs \u001b[38;5;241m=\u001b[39m np\u001b[38;5;241m.\u001b[39mappend(evs, \u001b[43mev\u001b[49m\u001b[43m[\u001b[49m\u001b[38;5;124;43m\"\u001b[39;49m\u001b[38;5;124;43mconstant\u001b[39;49m\u001b[38;5;124;43m\"\u001b[39;49m\u001b[43m]\u001b[49m[\u001b[38;5;241m1\u001b[39m][\u001b[38;5;28;01mNone\u001b[39;00m, :], axis\u001b[38;5;241m=\u001b[39m\u001b[38;5;241m0\u001b[39m)\n\u001b[1;32m      8\u001b[0m     all_evs\u001b[38;5;241m.\u001b[39mappend(evs)\n",
      "\u001b[0;31mKeyError\u001b[0m: 'constant'"
     ]
    }
   ],
   "source": [
    "keys = evaluation_keys[0][\"wr12\"]\n",
    "keys.append(evaluation_keys[0][\"constant\"][1])\n",
    "print(keys)\n",
    "all_evs = []\n",
    "for ev in evaluations:\n",
    "    evs = ev[\"wr12\"]\n",
    "    evs = np.append(evs, ev[\"constant\"][1][None, :], axis=0)\n",
    "    all_evs.append(evs)"
   ]
  },
  {
   "cell_type": "code",
   "execution_count": 11,
   "id": "252b6ce3-bcb9-4d6a-b285-aa5ecf843425",
   "metadata": {},
   "outputs": [
    {
     "data": {
      "text/plain": [
       "['wr1', 'wr2', 'wr1+wr2', 'Constant', 'Constant', 'Constant']"
      ]
     },
     "execution_count": 11,
     "metadata": {},
     "output_type": "execute_result"
    }
   ],
   "source": [
    "keys"
   ]
  },
  {
   "cell_type": "code",
   "execution_count": 7,
   "id": "66fe4930-b586-4fcb-a823-3edd3515ee47",
   "metadata": {},
   "outputs": [
    {
     "data": {
      "image/png": "[encoded data removed]",
      "text/plain": [
       "<Figure size 800x600 with 4 Axes>"
      ]
     },
     "metadata": {},
     "output_type": "display_data"
    }
   ],
   "source": [
    "mod = \"final_model\"\n",
    "\n",
    "fig = plt.figure(figsize=(8,6))\n",
    "ax1 = fig.add_subplot(2,2,1)\n",
    "ax2 = fig.add_subplot(2,2,2)\n",
    "ax3 = fig.add_subplot(2,2,3)\n",
    "ax4 = fig.add_subplot(2,2,4)\n",
    "\n",
    "max_errs = [0., 0., 0., 0.]\n",
    "max_errs_norm = [0., 0., 0., 0.]\n",
    "\n",
    "for i, evs in enumerate(all_evs):\n",
    "    ax1.plot(keys, evs[:, 0], f\"C{i}.-\")\n",
    "    ax2.plot(keys, evs[:, 1], f\"C{i}.-\")\n",
    "    ax3.plot(keys, evs[:, 2], f\"C{i}.-\")\n",
    "    ax4.plot(keys, evs[:, 3], f\"C{i}.-\")\n",
    "\n",
    "ax1.set_ylabel(\"Spectrum MAE\")\n",
    "ax2.set_ylabel(\"Integral MAE\")\n",
    "ax3.set_ylabel(\"Spectrum MSE\")\n",
    "ax4.set_ylabel(\"Cosine similarity\")\n",
    "\n",
    "#ax1.set_ylim(0., max_errs[0] * 1.1)\n",
    "#ax2.set_ylim(0., max_errs[1] * 1.1)\n",
    "#ax3.set_ylim(0., max_errs[2] * 1.1)\n",
    "#ax4.set_ylim(0., max_errs[3] * 1.1)\n",
    "\n",
    "fig.tight_layout()\n",
    "fig.savefig(f\"{fig_dir}final_model_wr_dependence.pdf\")\n",
    "plt.show()\n",
    "plt.close()"
   ]
  },
  {
   "cell_type": "code",
   "execution_count": null,
   "id": "99a40d84-13f9-4403-b58e-4e2a291d8d64",
   "metadata": {},
   "outputs": [],
   "source": []
  },
  {
   "cell_type": "code",
   "execution_count": null,
   "id": "7145b635-e69e-439b-b745-463b9fa72d7a",
   "metadata": {},
   "outputs": [],
   "source": []
  }
 ],
 "metadata": {
  "kernelspec": {
   "display_name": "PIPNet",
   "language": "python",
   "name": "pipnet"
  },
  "language_info": {
   "codemirror_mode": {
    "name": "ipython",
    "version": 3
   },
   "file_extension": ".py",
   "mimetype": "text/x-python",
   "name": "python",
   "nbconvert_exporter": "python",
   "pygments_lexer": "ipython3",
   "version": "3.9.13"
  }
 },
 "nbformat": 4,
 "nbformat_minor": 5
}
