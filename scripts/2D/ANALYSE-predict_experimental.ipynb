{
 "cells": [
  {
   "cell_type": "code",
   "execution_count": 1,
   "id": "b48c4f58",
   "metadata": {},
   "outputs": [],
   "source": [
    "import numpy as np\n",
    "import os\n",
    "import sys\n",
    "import copy\n",
    "\n",
    "import torch\n",
    "torch.set_num_threads(os.cpu_count())\n",
    "from torch import nn\n",
    "\n",
    "import importlib\n",
    "import json\n",
    "\n",
    "import matplotlib as mpl\n",
    "import matplotlib.pyplot as plt\n",
    "\n",
    "from pipnet import data\n",
    "from pipnet import model\n",
    "from pipnet import utils\n",
    "\n",
    "#import nmrglue as ng\n",
    "import scipy\n",
    "import scipy.io\n",
    "\n",
    "device = \"cuda\" if torch.cuda.is_available() else \"cpu\"\n",
    "\n",
    "np.random.seed(123)"
   ]
  },
  {
   "cell_type": "code",
   "execution_count": 2,
   "id": "909326be",
   "metadata": {},
   "outputs": [],
   "source": [
    "model_name = \"PIPNet_2022_11_15_2_layers\"\n",
    "model_dir = f\"../../data/2D/{model_name}/\"\n",
    "fig_dir = f\"../../figures/2D/{model_name}/\"\n",
    "\n",
    "epoch = 250\n",
    "\n",
    "sel_wrs = [\n",
    "    50000., 51000., 52000., 53000., 54000.,\n",
    "    55000., 56000., 57000., 58000., 59000.,\n",
    "    60000., 61000., 62000., 63000., 64000.,\n",
    "    65000., 66000., 67000., 68000., 69000.,\n",
    "    70000., 71000., 72000., 73000., 74000.,\n",
    "    75000., 76000., 77000., 78000., 79000.,\n",
    "    80000., 81000., 82000., 83000., 84000.,\n",
    "    85000., 86000., 87000., 88000., 89000.,\n",
    "    90000., 91000., 92000., 93000., 94000.,\n",
    "    95000., 96000., 97000., 98000., 99000., 100000.\n",
    "]\n",
    "\n",
    "dw_max = 500.\n",
    "\n",
    "ppm_range_x = [-2, 12.]\n",
    "ppm_range_y = [-7., 20.]\n",
    "\n",
    "compounds = [\"20220216_ampicillin_baba_vmas_9\", \"20220215_tyrosine_baba_vmas_9\"]\n",
    "\n",
    "exp_dir = \"../../data/experimental_spectra/2D/\"\n",
    "\n",
    "fields = {\n",
    "    \"20220216_ampicillin_baba_vmas_9\": 800.,\n",
    "    \"20220215_tyrosine_baba_vmas_9\": 800.,\n",
    "}\n",
    "\n",
    "peaks = {\n",
    "    \"20220216_ampicillin_baba_vmas_9\": [],\n",
    "    \"20220215_tyrosine_baba_vmas_9\": [],\n",
    "}\n",
    "\n",
    "peaks2 = {\n",
    "    \"20220216_ampicillin_baba_vmas_9\": [],\n",
    "    \"20220215_tyrosine_baba_vmas_9\": [],\n",
    "}\n",
    "\n",
    "int_regions = {\n",
    "    \"20220216_ampicillin_baba_vmas_9\": [],\n",
    "    \"20220215_tyrosine_baba_vmas_9\": [],\n",
    "}"
   ]
  },
  {
   "cell_type": "code",
   "execution_count": 3,
   "id": "2050d25c",
   "metadata": {},
   "outputs": [],
   "source": [
    "if not os.path.exists(model_dir):\n",
    "    raise ValueError(f\"Unknown model: {model_name}\")\n",
    "    \n",
    "if not os.path.exists(fig_dir):\n",
    "    os.mkdir(fig_dir)\n",
    "    \n",
    "fdir = fig_dir + \"eval_experimental/\"\n",
    "if not os.path.exists(fdir):\n",
    "    os.mkdir(fdir)"
   ]
  },
  {
   "cell_type": "code",
   "execution_count": 4,
   "id": "6b523e1b-3389-41e8-b756-88d8207f72fa",
   "metadata": {},
   "outputs": [],
   "source": [
    "with open(f\"{model_dir}model_pars.json\", \"r\") as F:\n",
    "    model_pars = json.load(F)\n",
    "model_pars[\"noise\"] = 0.\n",
    "\n",
    "with open(f\"{model_dir}data_pars.json\", \"r\") as F:\n",
    "    data_pars = json.load(F)"
   ]
  },
  {
   "cell_type": "code",
   "execution_count": 5,
   "id": "31b7ad06-a5ec-4af6-a2a9-426ef86de5b2",
   "metadata": {},
   "outputs": [],
   "source": [
    "net = model.ConvLSTMEnsemble(**model_pars).to(device)\n",
    "net.load_state_dict(torch.load(model_dir + f\"epoch_{epoch}_network\", map_location=torch.device(device)))\n",
    "net = net.eval()"
   ]
  },
  {
   "cell_type": "code",
   "execution_count": 6,
   "id": "9a56dc00-578a-4848-8608-5af7a6974b40",
   "metadata": {},
   "outputs": [
    {
     "name": "stdout",
     "output_type": "stream",
     "text": [
      "20220216_ampicillin_baba_vmas_9\n",
      "20220215_tyrosine_baba_vmas_9\n",
      "CPU times: user 14min 20s, sys: 2min 27s, total: 16min 48s\n",
      "Wall time: 3min 10s\n"
     ]
    }
   ],
   "source": [
    "%%time\n",
    "\n",
    "for compound in compounds:\n",
    "    \n",
    "    print(compound)\n",
    "    \n",
    "    ppm_x, ppm_y, hz_x, hz_y, ws, xrr, xri, xir, xii = utils.extract_2d_dataset(f\"{exp_dir}{compound}/\", 1, 30, load_imag=data_pars[\"encode_imag\"])\n",
    "\n",
    "    inds_x = np.where(np.logical_and(ppm_x >= ppm_range_x[0], ppm_x <= ppm_range_x[1]))[0]\n",
    "    inds_y = np.where(np.logical_and(ppm_y >= ppm_range_y[0], ppm_y <= ppm_range_y[1]))[0]\n",
    "\n",
    "    ppm_x = ppm_x[inds_x]\n",
    "    hz_x = hz_x[inds_x]\n",
    "    xrr = xrr[:, :, inds_x]\n",
    "    if data_pars[\"encode_imag\"]:\n",
    "        xri = xri[:, :, inds_x]\n",
    "        xir = xir[:, :, inds_x]\n",
    "        xii = xii[:, :, inds_x]\n",
    "\n",
    "    ppm_y = ppm_y[inds_y]\n",
    "    hz_y = hz_y[inds_y]\n",
    "    xrr = xrr[:, inds_y, :]\n",
    "    if data_pars[\"encode_imag\"]:\n",
    "        xri = xri[:, inds_y, :]\n",
    "        xir = xir[:, inds_y, :]\n",
    "        xii = xii[:, inds_y, :]\n",
    "\n",
    "    X = utils.prepare_2d_input(xrr, ws, data_pars, xri=xri, xir=xir, xii=xii, xmax=0.5)\n",
    "\n",
    "    wr_inds = [np.argmin(np.abs(ws - w)) for w in sel_wrs if np.min(np.abs(ws - w)) < dw_max ]\n",
    "    X = X[:, wr_inds]\n",
    "\n",
    "    with torch.no_grad():\n",
    "        y_pred, _, _ = net(X)\n",
    "    y_pred = y_pred.numpy()\n",
    "    \n",
    "    utils.plot_2d_iso_prediction(\n",
    "        X[0].numpy(),\n",
    "        y_pred[0],\n",
    "        xvals=ppm_x,\n",
    "        yvals=ppm_y,\n",
    "        wr_factor=data_pars[\"wr_norm_factor\"],\n",
    "        all_steps=True,\n",
    "        show=False,\n",
    "        level_neg=True,\n",
    "        equal_axes=False,\n",
    "        xinv=True,\n",
    "        yinv=True,\n",
    "        lw=0.5,\n",
    "        save=f\"{fdir}sel_wr_{compound}.pdf\"\n",
    "    )"
   ]
  },
  {
   "cell_type": "code",
   "execution_count": 7,
   "id": "e2f6e874-7ffb-404c-b682-1257706cf616",
   "metadata": {},
   "outputs": [],
   "source": [
    "compounds2 = [\"ampicillin_unshear_gandl_220307\", \"tyrosine_unshear_gls_220302_0toInf_0to5\"]"
   ]
  },
  {
   "cell_type": "code",
   "execution_count": 8,
   "id": "ff3d6818-1f35-4ce1-abc4-d25a252a1852",
   "metadata": {},
   "outputs": [
    {
     "name": "stdout",
     "output_type": "stream",
     "text": [
      "ampicillin_unshear_gandl_220307\n",
      "tyrosine_unshear_gls_220302_0toInf_0to5\n",
      "CPU times: user 48.3 s, sys: 3.22 s, total: 51.6 s\n",
      "Wall time: 13.7 s\n"
     ]
    }
   ],
   "source": [
    "%%time\n",
    "\n",
    "for compound in compounds2:\n",
    "    \n",
    "    print(compound)\n",
    "    \n",
    "    m = scipy.io.loadmat(f\"{exp_dir}{compound}.mat\")\n",
    "    xrr = np.transpose(m[\"newsignal2\"], axes=(2, 0, 1))\n",
    "    ws = m[\"wr\"][0].astype(float)\n",
    "\n",
    "    X = utils.prepare_2d_input(xrr, ws, data_pars, xmax=0.5)\n",
    "\n",
    "    wr_inds = [np.argmin(np.abs(ws - w)) for w in sel_wrs if np.min(np.abs(ws - w)) < dw_max]\n",
    "    X = X[:, wr_inds]\n",
    "\n",
    "    with torch.no_grad():\n",
    "        y_pred, _, _ = net(X)\n",
    "    y_pred = y_pred.numpy()\n",
    "    \n",
    "    utils.plot_2d_iso_prediction(\n",
    "        X[0].numpy(),\n",
    "        y_pred[0],\n",
    "        wr_factor=data_pars[\"wr_norm_factor\"],\n",
    "        all_steps=True,\n",
    "        show=False,\n",
    "        level_neg=True,\n",
    "        equal_axes=False,\n",
    "        save=f\"{fdir}sel_wr_{compound}.pdf\"\n",
    "    )"
   ]
  },
  {
   "cell_type": "code",
   "execution_count": null,
   "id": "07889de7-7976-4df4-a4ad-519b2da53863",
   "metadata": {},
   "outputs": [],
   "source": []
  }
 ],
 "metadata": {
  "kernelspec": {
   "display_name": "PIPNet",
   "language": "python",
   "name": "pipnet"
  },
  "language_info": {
   "codemirror_mode": {
    "name": "ipython",
    "version": 3
   },
   "file_extension": ".py",
   "mimetype": "text/x-python",
   "name": "python",
   "nbconvert_exporter": "python",
   "pygments_lexer": "ipython3",
   "version": "3.9.13"
  }
 },
 "nbformat": 4,
 "nbformat_minor": 5
}
