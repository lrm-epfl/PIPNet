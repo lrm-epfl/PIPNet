{
 "cells": [
  {
   "cell_type": "code",
   "execution_count": 1,
   "id": "3549658f",
   "metadata": {},
   "outputs": [],
   "source": [
    "import numpy as np\n",
    "import os\n",
    "import sys\n",
    "\n",
    "import torch\n",
    "torch.set_num_threads(os.cpu_count())\n",
    "from torch import nn\n",
    "\n",
    "import matplotlib.pyplot as plt\n",
    "from IPython import display\n",
    "\n",
    "from pipnet import data\n",
    "from pipnet import model\n",
    "from pipnet import train\n",
    "\n",
    "np.random.seed(1)"
   ]
  },
  {
   "cell_type": "markdown",
   "id": "63d0745d",
   "metadata": {},
   "source": [
    "# Define data generation parameters"
   ]
  },
  {
   "cell_type": "code",
   "execution_count": 7,
   "id": "238c9502-902e-44c1-8cc8-ef0f4ce691b1",
   "metadata": {},
   "outputs": [],
   "source": [
    "import pickle\n",
    "import json\n",
    "import os"
   ]
  },
  {
   "cell_type": "code",
   "execution_count": 9,
   "id": "18760fd5-fd13-4257-9815-53afe6c4b3a7",
   "metadata": {},
   "outputs": [],
   "source": [
    "in_dir = \"../../trained_models/PIPNet_model/\"\n",
    "for f in os.listdir(in_dir):\n",
    "    if f.endswith(\".pk\"):\n",
    "        \n",
    "        with open(in_dir + f, \"rb\") as F:\n",
    "            tmp = pk.load(F)\n",
    "        \n",
    "        with open(in_dir + f.replace(\".pk\", \".json\"), \"w\") as F:\n",
    "            json.dump(tmp, F)"
   ]
  },
  {
   "cell_type": "code",
   "execution_count": 2,
   "id": "381ac2da",
   "metadata": {
    "tags": []
   },
   "outputs": [],
   "source": [
    "iso_pars = dict(\n",
    "    td = 128,\n",
    "    Fs = 3_200,\n",
    "    nmin = 1,\n",
    "    nmax = 5,\n",
    "    freq_range = [500., 2700.],\n",
    "    gmin = 1,\n",
    "    gmax = 1,\n",
    "    spread = 5.,\n",
    "    lw_range = [[5e1, 2e2], [1e2, 5e2], [1e2, 1e3]],\n",
    "    lw_probs = [0.7, 0.2, 0.1],\n",
    "    int_range = [0.5, 1.], # Intensity\n",
    "    phase = 0.,\n",
    "    debug = False,\n",
    ")\n",
    "\n",
    "mas_pars = dict(\n",
    "    nw = 8,\n",
    "    mas_w_range = [50_000., 100_000.],\n",
    "    random_mas = False,\n",
    "    mas_phase_p = 0.5,\n",
    "    mas_phase_scale = 0.05,\n",
    "    \n",
    "    # First-order MAS-dependent parameters\n",
    "    mas1_lw_range = [[1e7, 5e7], [5e7, 1e8]],\n",
    "    mas1_lw_probs = [0.8, 0.2],\n",
    "    mas1_m_range = [[0., 0.], [0., 1e4], [1e4, 5e4]],\n",
    "    mas1_m_probs = [0.1, 0.1, 0.8],\n",
    "    mas1_s_range = [[-1e7, 1e7]],\n",
    "    mas1_s_probs = [1.],\n",
    "\n",
    "    # Second-order MAS-dependent parameters\n",
    "    mas2_prob = 1.,\n",
    "    mas2_lw_range = [[0., 0.], [1e11, 5e11]],\n",
    "    mas2_lw_probs = [0.5, 0.5],\n",
    "    mas2_m_range = [[0., 0.], [1e8, 5e8]],\n",
    "    mas2_m_probs = [0.8, 0.2],\n",
    "    mas2_s_range = [[0., 0.], [-2e10, 2e10]],\n",
    "    mas2_s_probs = [0.8, 0.2],\n",
    "    \n",
    "    # Other MAS-dependent parameters\n",
    "    non_mas_p = 0.5,\n",
    "    non_mas_m_trends = [\"constant\", \"increase\", \"decrease\"],\n",
    "    non_mas_m_probs = [0.34, 0.33, 0.33],\n",
    "    non_mas_m_range = [0., 1.],\n",
    "    \n",
    "    int_decrease_p = 0.1,\n",
    "    int_decrease_scale =[0.3, 0.7],\n",
    "    debug = False,\n",
    ")\n",
    "\n",
    "data_pars = dict(\n",
    "    iso_pars = iso_pars,\n",
    "    mas_pars = mas_pars,\n",
    "    \n",
    "    positive_iso = True,\n",
    "    encode_imag = False, # Encode the imaginary part of the MAS spectra\n",
    "    encode_wr = True, # Encode the MAS rate of the spectra\n",
    "\n",
    "    # noise parameters\n",
    "    noise = 0., # Noise level\n",
    "    mas_l_noise = 0.05,\n",
    "    mas_s_noise = 25.,\n",
    "    \n",
    "    smooth_end_len = 10, # Smooth ends of spectra\n",
    "    iso_spec_norm = 40., # Normalization factor for peaks\n",
    "    mas_spec_norm = 8., # Normalization factor for MAS spectra\n",
    "    wr_norm_factor = 100_000.,\n",
    "    wr_inv = False, # Encode inverse of MAS rate instead of MAS rate\n",
    "    gen_mas_shifts = True,\n",
    ")\n",
    "\n",
    "model_pars = dict(\n",
    "    input_dim = 2,\n",
    "    n_models = 1,\n",
    "    hidden_dim = [64, 64],\n",
    "    kernel_size = [5, 5],\n",
    "    num_layers = 2,\n",
    "    batch_input = 1,\n",
    "    bias = True,\n",
    "    output_bias = True,\n",
    "    return_all_layers = True,\n",
    "    batch_norm = False,\n",
    "    ndim = 2,\n",
    "    independent = True,\n",
    "    output_kernel_size = 5,\n",
    "    output_act = \"sigmoid\",\n",
    "    noise = 0.,\n",
    "    invert = False,\n",
    ")\n",
    "\n",
    "loss_pars = dict(\n",
    "    trg_fuzz=3.,\n",
    "    trg_fuzz_len=25,\n",
    "    ndim=2,\n",
    "    exp=1.0,\n",
    "    offset=1.0,\n",
    "    factor=100.0,\n",
    "    int_w=0.0,\n",
    "    int_exp=2.0,\n",
    "    return_components=False,\n",
    "    device=\"cpu\",\n",
    ")\n",
    "\n",
    "train_pars = dict(\n",
    "    batch_size = 4,\n",
    "    num_workers = 4,\n",
    "    batches_per_epoch = 10,\n",
    "    batches_per_eval = 5,\n",
    "    n_epochs = 10,\n",
    "    change_loss={3: {\"trg_fuzz\": 3.0, \"factor\": 10.},\n",
    "                 6: {\"trg_fuzz\": 0.0, \"factor\": 0.},\n",
    "                },\n",
    "    out_dir = \"../../data/2D/sanity_check/\",\n",
    "    device = \"cuda\" if torch.cuda.is_available() else \"cpu\",\n",
    "    monitor_end = \"\\r\"\n",
    ")\n",
    "\n",
    "fig_dir = \"../../figures/2D/sanity_check/\"\n",
    "if not os.path.exists(fig_dir):\n",
    "    os.mkdir(fig_dir)"
   ]
  },
  {
   "cell_type": "code",
   "execution_count": 3,
   "id": "fac2e3f6-448a-4111-a4e4-0782b1dd9d43",
   "metadata": {},
   "outputs": [],
   "source": [
    "import pickle as pk\n",
    "import json"
   ]
  },
  {
   "cell_type": "code",
   "execution_count": 5,
   "id": "b75ef3b5-4900-43b9-9ea6-743cb99951bb",
   "metadata": {},
   "outputs": [],
   "source": [
    "with open(\"model_pars.json\", \"w\") as F:\n",
    "    json.dump(model_pars, F)"
   ]
  },
  {
   "cell_type": "code",
   "execution_count": 3,
   "id": "09623693",
   "metadata": {},
   "outputs": [],
   "source": [
    "dataset = data.Dataset2D(params_x=data_pars, params_y=data_pars)"
   ]
  },
  {
   "cell_type": "markdown",
   "id": "adfbf561",
   "metadata": {
    "tags": []
   },
   "source": [
    "# Define network, loss and optimizer"
   ]
  },
  {
   "cell_type": "code",
   "execution_count": 4,
   "id": "e116f4b3",
   "metadata": {},
   "outputs": [],
   "source": [
    "net = model.ConvLSTMEnsemble(**model_pars)\n",
    "loss = model.PIPLoss(**loss_pars)\n",
    "opt = torch.optim.Adam(net.parameters(), lr=1e-3)\n",
    "sch = torch.optim.lr_scheduler.ReduceLROnPlateau(opt, factor=0.5, patience=50)"
   ]
  },
  {
   "cell_type": "code",
   "execution_count": null,
   "id": "7694d085-8750-480c-ae6b-f53e5138cb7b",
   "metadata": {},
   "outputs": [
    {
     "name": "stdout",
     "output_type": "stream",
     "text": [
      "Starting training...\n",
      "    Training batch   10: loss =  1.3097e+00, mean loss =  3.8998e+00, lr =  1.0000e-03...\n",
      "  Checkpoint reached, evaluating the model...\n",
      "    Validation batch    5: loss =  1.8110e+00, mean loss =  3.2327e+00...\n",
      "  End of evaluation.\n",
      "    Training batch   20: loss =  2.3213e+00, mean loss =  3.0231e+00, lr =  1.0000e-03...\n",
      "  Checkpoint reached, evaluating the model...\n",
      "    Validation batch    5: loss =  3.1381e+00, mean loss =  1.9597e+00...\n",
      "  End of evaluation.\n",
      "    Training batch   30: loss =  2.1449e+00, mean loss =  3.2398e+00, lr =  1.0000e-03...\n",
      "  Checkpoint reached, evaluating the model...\n",
      "    Validation batch    5: loss =  1.8491e+00, mean loss =  3.7431e+00...\n",
      "  End of evaluation.\n",
      "\n",
      "    Changing loss parameter trg_fuzz to 3.0...\n",
      "\n",
      "    Changing loss parameter factor to 10.0...\n",
      "    Training batch   40: loss =  2.5312e-01, mean loss =  4.1699e-01, lr =  1.0000e-03...\n",
      "  Checkpoint reached, evaluating the model...\n",
      "    Validation batch    5: loss =  5.0436e-01, mean loss =  4.2886e-01...\n",
      "  End of evaluation.\n",
      "    Training batch   50: loss =  1.7850e-01, mean loss =  3.2815e-01, lr =  1.0000e-03...\n",
      "  Checkpoint reached, evaluating the model...\n",
      "    Validation batch    5: loss =  1.7493e-01, mean loss =  2.4491e-01...\n",
      "  End of evaluation.\n",
      "    Training batch   60: loss =  3.2581e-01, mean loss =  4.4117e-01, lr =  1.0000e-03...\n",
      "  Checkpoint reached, evaluating the model...\n",
      "    Validation batch    5: loss =  4.2717e-01, mean loss =  3.4211e-01...\n",
      "  End of evaluation.\n",
      "\n",
      "    Changing loss parameter trg_fuzz to 0.0...\n",
      "\n",
      "    Changing loss parameter factor to 0.0...\n",
      "    Training batch   70: loss =  4.8660e-02, mean loss =  5.7031e-02, lr =  1.0000e-03...\n",
      "  Checkpoint reached, evaluating the model...\n",
      "    Validation batch    5: loss =  2.8060e-02, mean loss =  3.7747e-02...\n",
      "  End of evaluation.\n",
      "    Training batch   80: loss =  1.8659e-02, mean loss =  3.6094e-02, lr =  1.0000e-03...\n",
      "  Checkpoint reached, evaluating the model...\n",
      "    Validation batch    5: loss =  4.1527e-03, mean loss =  1.7821e-02...\n",
      "  End of evaluation.\n",
      "    Training batch   84: loss =  1.8054e-02, mean loss =  2.6651e-02, lr =  1.0000e-03...\r"
     ]
    }
   ],
   "source": [
    "train.train(\n",
    "    dataset,\n",
    "    net,\n",
    "    opt,\n",
    "    loss,\n",
    "    sch,\n",
    "    **train_pars\n",
    ")"
   ]
  },
  {
   "cell_type": "code",
   "execution_count": null,
   "id": "218f9750-9321-4505-bbe6-b8f256d3ac6f",
   "metadata": {},
   "outputs": [],
   "source": []
  }
 ],
 "metadata": {
  "kernelspec": {
   "display_name": "PIPNet",
   "language": "python",
   "name": "pipnet"
  },
  "language_info": {
   "codemirror_mode": {
    "name": "ipython",
    "version": 3
   },
   "file_extension": ".py",
   "mimetype": "text/x-python",
   "name": "python",
   "nbconvert_exporter": "python",
   "pygments_lexer": "ipython3",
   "version": "3.9.13"
  }
 },
 "nbformat": 4,
 "nbformat_minor": 5
}
