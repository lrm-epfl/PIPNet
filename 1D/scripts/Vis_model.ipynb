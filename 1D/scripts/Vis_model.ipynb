{
 "cells": [
  {
   "cell_type": "code",
   "execution_count": 1,
   "id": "d82035b4",
   "metadata": {},
   "outputs": [],
   "source": [
    "import numpy as np\n",
    "import os\n",
    "import sys\n",
    "\n",
    "import torch\n",
    "from torch import nn\n",
    "from torchsummary import summary\n",
    "\n",
    "import importlib\n",
    "\n",
    "import matplotlib.pyplot as plt\n",
    "\n",
    "sys.path.insert(0, \"../src/\")\n",
    "import data\n",
    "import model\n",
    "import train\n",
    "\n",
    "import nmrglue as ng\n",
    "\n",
    "np.random.seed(123)"
   ]
  },
  {
   "cell_type": "code",
   "execution_count": 2,
   "id": "dc7cac59",
   "metadata": {},
   "outputs": [],
   "source": [
    "mod = \"Ensemble_PIPNet_2021_10_14_lin_noise_multiscale\"\n",
    "\n",
    "in_dir = f\"../data/{mod}/\"\n",
    "fig_dir = f\"../figures/{mod}/\"\n",
    "\n",
    "load_model = True\n",
    "\n",
    "eval_history = False\n",
    "\n",
    "n_samples = 4\n",
    "\n",
    "eval_evolution = False\n",
    "\n",
    "eval_sparse = False\n",
    "\n",
    "eval_noise = False\n",
    "noise_levels = [1e-5, 1e-4, 1e-3]\n",
    "\n",
    "vis_filters = True\n",
    "\n",
    "eval_exp = False\n",
    "exp_dir = f\"../data/experimental_spectra/topspin/\"\n",
    "exp_compounds = [\"ampicillin\", \"aspala\", \"flutamide\", \"histidine\", \"thymol\", \"tyrosine\"]\n",
    "exp_range = {\"ampicillin\": [1500, 2500],\n",
    "             \"aspala\": [700, 1300],\n",
    "             \"flutamide\": [800, 1300],\n",
    "             \"histidine\": [700, 1300],\n",
    "             \"thymol\": [800, 1300],\n",
    "             \"tyrosine\": [700, 1300],\n",
    "            }\n",
    "sel_wrs = [30000., 40000., 50000., 60000., 70000., 80000., 90000.]\n",
    "\n",
    "data_pars = dict(\n",
    "                 # General parameters\n",
    "                 td = 512, # Number of points\n",
    "                 Fs = 10, # Sampling frequency\n",
    "                 debug = False, # Print data generation details\n",
    "\n",
    "                 # Peak parameters\n",
    "                 pmin = 1, # Minimum number of Gaussians in a peak\n",
    "                 pmax = 10, # Maximum number of Gaussians in a peak\n",
    "                 ds = 0.03, # Spread of chemical shift values for each peak\n",
    "                 lw = [1e-2, 1e-1], # Linewidth range for Gaussians\n",
    "                 phase = 0., # Spread of phase\n",
    "\n",
    "                 # Isotropic parameters\n",
    "                 nmin = 1, # Minimum number of peaks\n",
    "                 nmax = 10, # Maximum number of peaks\n",
    "                 shift_range = [1., 9.], # Chemical shift range\n",
    "                 positive = True, # Force the spectrum to be positive\n",
    "\n",
    "                 # MAS-dependent parameters\n",
    "                 mas_g_range = [1e4, 1e5], # MAS-dependent Gaussian broadening range\n",
    "                 mas_l_range = [1e4, 1e5], # MAS-dependent Lorentzian broadening range\n",
    "                 mas_s_range = [-1e4, 1e4], # MAS-dependent shift range\n",
    "                 mas_phase = 0.1, # Random phase range for MAS spectra\n",
    "                 peakwise_phase = True, # Whether the phase should be peak-wise or spectrum-wise\n",
    "                 encode_imag = False, # Encode the imaginary part of the MAS spectra\n",
    "                 nw = 8, # Number of MAS rates\n",
    "                 mas_w_range = [30000, 100000], # MAS rate range\n",
    "                 random_mas = False,\n",
    "                 encode_w = False, # Encode the MAS rate of the spectra\n",
    "\n",
    "                 # Post-processing parameters\n",
    "                 noise = 0., # Noise level\n",
    "                 smooth_end_len = 10, # Smooth ends of spectra\n",
    "                 scale_iso = 0.8, # Scale isotropic spectra\n",
    "                 offset = 0., # Baseline offset\n",
    "                 norm_wr = True, # Normalize MAS rate values\n",
    "                 wr_inv = False # Encode inverse of MAS rate instead of MAS rate\n",
    "                )\n",
    "\n",
    "dataset = data.PIPDataset(**data_pars)"
   ]
  },
  {
   "cell_type": "code",
   "execution_count": 3,
   "id": "99055dd4",
   "metadata": {},
   "outputs": [],
   "source": [
    "if not os.path.exists(in_dir):\n",
    "    raise ValueError(f\"Unknown model: {mod}\")\n",
    "    \n",
    "if not os.path.exists(fig_dir):\n",
    "    os.mkdir(fig_dir)"
   ]
  },
  {
   "cell_type": "code",
   "execution_count": 4,
   "id": "0cebf17e",
   "metadata": {},
   "outputs": [],
   "source": [
    "def clean_split(l, delimiter):\n",
    "    \"\"\"\n",
    "    Split a line with the desired delimiter, ignoring delimiters present in arrays or strings\n",
    "    \n",
    "    Inputs: - l     Input line\n",
    "    \n",
    "    Output: - ls    List of sub-strings making up the line\n",
    "    \"\"\"\n",
    "    \n",
    "    # Initialize sub-strings\n",
    "    ls = []\n",
    "    clean_l = \"\"\n",
    "    \n",
    "    # Loop over all line characters\n",
    "    in_dq = False\n",
    "    in_sq = False\n",
    "    arr_depth = 0\n",
    "    for li in l:\n",
    "        # Identify strings with double quotes\n",
    "        if li == \"\\\"\":\n",
    "            if not in_dq:\n",
    "                in_dq = True\n",
    "            else:\n",
    "                in_dq = False\n",
    "        \n",
    "        # Identify strings with single quotes\n",
    "        if li == \"\\'\":\n",
    "            if not in_sq:\n",
    "                in_sq = True\n",
    "            else:\n",
    "                in_sq = False\n",
    "        \n",
    "        # Identify arrays\n",
    "        if li == \"[\":\n",
    "            if not in_sq and not in_dq:\n",
    "                arr_depth += 1\n",
    "        if li == \"]\":\n",
    "            if not in_sq and not in_dq:\n",
    "                arr_depth -= 1\n",
    "        \n",
    "        # If the delimiter is not within quotes or in an array, split the line at that character\n",
    "        if li == delimiter and not in_dq and not in_sq and arr_depth == 0:\n",
    "            ls.append(clean_l)\n",
    "            clean_l = \"\"\n",
    "        else:\n",
    "            clean_l += li\n",
    "    \n",
    "    ls.append(clean_l)\n",
    "        \n",
    "    return ls"
   ]
  },
  {
   "cell_type": "code",
   "execution_count": 5,
   "id": "d26bb2d9",
   "metadata": {},
   "outputs": [],
   "source": [
    "def get_array(l):\n",
    "    \"\"\"\n",
    "    Get the values in an array contained in a line\n",
    "    \n",
    "    Input:  - l         Input line\n",
    "    \n",
    "    Output: - vals      Array of values\n",
    "    \"\"\"\n",
    "    \n",
    "    # Identify empty array\n",
    "    if l.strip() == \"[]\":\n",
    "        return []\n",
    "    \n",
    "    # Initialize array\n",
    "    vals = []\n",
    "    clean_l = \"\"\n",
    "    \n",
    "    # Loop over all line characters\n",
    "    arr_depth = 0\n",
    "    for li in l:\n",
    "    \n",
    "        # Identify end of array\n",
    "        if li == \"]\":\n",
    "            arr_depth -= 1\n",
    "            \n",
    "            # Check that there are not too many closing brackets for the opening ones\n",
    "            if arr_depth < 0:\n",
    "                raise ValueError(\"Missing \\\"[\\\" for matching the number of \\\"]\\\"\")\n",
    "        \n",
    "        # If we are within the array, extract the character\n",
    "        if arr_depth > 0:\n",
    "            clean_l += li\n",
    "    \n",
    "        # Identify start of array\n",
    "        if li == \"[\":\n",
    "            arr_depth += 1\n",
    "    \n",
    "    # Check that the array is properly closed at the end\n",
    "    if arr_depth > 0:\n",
    "        raise ValueError(\"Missing \\\"]\\\" for matching the number of \\\"[\\\"\")\n",
    "    \n",
    "    # Extract elements in the array\n",
    "    ls = clean_split(clean_l, \",\")\n",
    "    \n",
    "    # Get the value of each element in the array\n",
    "    for li in ls:\n",
    "        vals.append(get_val(li.strip()))\n",
    "\n",
    "    return vals"
   ]
  },
  {
   "cell_type": "code",
   "execution_count": 6,
   "id": "e9298009",
   "metadata": {},
   "outputs": [],
   "source": [
    "def get_val(val):\n",
    "    \n",
    "    # Remove tailing comma\n",
    "    if val.endswith(\",\"):\n",
    "        val = val[:-1]\n",
    "    \n",
    "    # Float / Int\n",
    "    if val.isnumeric():\n",
    "        \n",
    "        if \".\" in val:\n",
    "            return float(val)\n",
    "        else:\n",
    "            return int(val)\n",
    "    \n",
    "    # Bool\n",
    "    if val in [\"True\", \"False\"]:\n",
    "        return bool(val)\n",
    "    \n",
    "    # String\n",
    "    if val.startswith(\"\\\"\"):\n",
    "        return val.split(\"\\\"\")[1]\n",
    "    \n",
    "    # List\n",
    "    if val.startswith(\"[\"):\n",
    "        \n",
    "        return get_array(val)\n",
    "    \n",
    "    # Try to return a float anyway\n",
    "    return float(val)"
   ]
  },
  {
   "cell_type": "code",
   "execution_count": 7,
   "id": "d77abe94",
   "metadata": {},
   "outputs": [],
   "source": [
    "# Get model architecture\n",
    "with open(mod + \".py\", \"r\") as F:\n",
    "    lines = F.read().split(\"\\n\")\n",
    "\n",
    "model_pars = {}\n",
    "in_pars = False\n",
    "\n",
    "# Parse script\n",
    "for l in lines:\n",
    "    \n",
    "    # Identify model parameter block start\n",
    "    if \"model_pars = \" in l:\n",
    "        in_pars = True\n",
    "    \n",
    "    # Identify model parameter block end\n",
    "    if l.strip() == \")\":\n",
    "        in_pars = False\n",
    "    \n",
    "    if in_pars:\n",
    "        # Get line\n",
    "        if \"(\" in l:\n",
    "            L = l.split(\"(\")[1].split(\"#\")[0]\n",
    "        else:\n",
    "            L = l.strip().split(\"#\")[0]\n",
    "        \n",
    "        key, val = L.split(\"=\")\n",
    "        \n",
    "        v = get_val(val.strip())\n",
    "        \n",
    "        model_pars[key.strip()] = v\n",
    "\n",
    "model_pars[\"noise\"] = 0."
   ]
  },
  {
   "cell_type": "code",
   "execution_count": 8,
   "id": "e0bc653d",
   "metadata": {},
   "outputs": [
    {
     "name": "stdout",
     "output_type": "stream",
     "text": [
      "98\n"
     ]
    }
   ],
   "source": [
    "# Load loss and learning rate\n",
    "all_lrs = np.load(in_dir + \"all_lrs.npy\")\n",
    "all_losses = np.load(in_dir + \"all_losses.npy\")\n",
    "all_val_losses = np.load(in_dir + \"all_val_losses.npy\")\n",
    "\n",
    "n_chk = all_losses.shape[0]\n",
    "best_chk = np.argmin(np.mean(all_val_losses, axis=1))\n",
    "print(best_chk)"
   ]
  },
  {
   "cell_type": "code",
   "execution_count": 9,
   "id": "8f1b0c9e",
   "metadata": {},
   "outputs": [
    {
     "data": {
      "image/png": "[encoded data removed]",
      "text/plain": [
       "<Figure size 288x216 with 1 Axes>"
      ]
     },
     "metadata": {
      "needs_background": "light"
     },
     "output_type": "display_data"
    },
    {
     "data": {
      "image/png": "[encoded data removed]",
      "text/plain": [
       "<Figure size 288x216 with 1 Axes>"
      ]
     },
     "metadata": {
      "needs_background": "light"
     },
     "output_type": "display_data"
    },
    {
     "data": {
      "image/png": "[encoded data removed]",
      "text/plain": [
       "<Figure size 288x216 with 1 Axes>"
      ]
     },
     "metadata": {
      "needs_background": "light"
     },
     "output_type": "display_data"
    },
    {
     "data": {
      "image/png": "[encoded data removed]",
      "text/plain": [
       "<Figure size 288x216 with 1 Axes>"
      ]
     },
     "metadata": {
      "needs_background": "light"
     },
     "output_type": "display_data"
    }
   ],
   "source": [
    "# Plot loss\n",
    "fig = plt.figure(figsize=(4,3))\n",
    "ax = fig.add_subplot(1,1,1)\n",
    "\n",
    "ax.plot(range(1, n_chk+1), np.mean(all_losses, axis=1))\n",
    "ax.plot(range(1, n_chk+1), np.mean(all_val_losses, axis=1))\n",
    "\n",
    "ax.set_xlabel(\"Training epoch\")\n",
    "ax.set_ylabel(\"Loss\")\n",
    "\n",
    "ax.legend([\"Training\", \"Validation\"])\n",
    "\n",
    "fig.tight_layout()\n",
    "\n",
    "plt.savefig(fig_dir + \"loss.pdf\")\n",
    "\n",
    "plt.show()\n",
    "plt.close()\n",
    "\n",
    "# Plot loss, log\n",
    "fig = plt.figure(figsize=(4,3))\n",
    "ax = fig.add_subplot(1,1,1)\n",
    "\n",
    "ax.semilogy(range(1, n_chk+1), np.mean(all_losses, axis=1))\n",
    "ax.semilogy(range(1, n_chk+1), np.mean(all_val_losses, axis=1))\n",
    "\n",
    "ax.set_xlabel(\"Training epoch\")\n",
    "ax.set_ylabel(\"Loss\")\n",
    "\n",
    "ax.legend([\"Training\", \"Validation\"])\n",
    "\n",
    "fig.tight_layout()\n",
    "\n",
    "plt.savefig(fig_dir + \"loss_log.pdf\")\n",
    "\n",
    "plt.show()\n",
    "plt.close()\n",
    "\n",
    "# Plot learning rate\n",
    "fig = plt.figure(figsize=(4,3))\n",
    "ax = fig.add_subplot(1,1,1)\n",
    "\n",
    "ax.plot(range(1, n_chk+1), np.mean(all_lrs, axis=1))\n",
    "\n",
    "fig.tight_layout()\n",
    "\n",
    "plt.savefig(fig_dir + \"lrs.pdf\")\n",
    "\n",
    "plt.show()\n",
    "plt.close()\n",
    "\n",
    "# Plot learning rate, log\n",
    "fig = plt.figure(figsize=(4,3))\n",
    "ax = fig.add_subplot(1,1,1)\n",
    "\n",
    "ax.semilogy(range(1, n_chk+1), np.mean(all_lrs, axis=1))\n",
    "\n",
    "fig.tight_layout()\n",
    "\n",
    "plt.savefig(fig_dir + \"lrs_log.pdf\")\n",
    "\n",
    "plt.show()\n",
    "plt.close()"
   ]
  },
  {
   "cell_type": "code",
   "execution_count": 10,
   "id": "67c5c22c",
   "metadata": {},
   "outputs": [
    {
     "data": {
      "image/png": "[encoded data removed]",
      "text/plain": [
       "<Figure size 288x216 with 3 Axes>"
      ]
     },
     "metadata": {
      "needs_background": "light"
     },
     "output_type": "display_data"
    }
   ],
   "source": [
    "d = 0.5\n",
    "\n",
    "mean_losses = np.mean(all_losses, axis=1)\n",
    "mean_losses_dif = np.abs(mean_losses[1:] - mean_losses[:-1])\n",
    "rel_diffs = mean_losses_dif / mean_losses[:-1]\n",
    "jumps = np.where(rel_diffs > 0.3)[0]+1\n",
    "\n",
    "fig = plt.figure(figsize=(4,3))\n",
    "\n",
    "axs = []\n",
    "for i in range(len(jumps) + 1):\n",
    "    axs.append(fig.add_subplot(len(jumps)+1, 1,i+1))\n",
    "    \n",
    "    # Plot broken axes markers\n",
    "    if i > 0:\n",
    "        axs[i].plot([0, 1], [1, 1], transform=axs[i].transAxes, marker=[(-1, -d), (1, d)],\n",
    "                    markersize=12, linestyle=\"none\", color=\"k\", mec=\"k\", mew=1, clip_on=False)\n",
    "        \n",
    "        axs[i].spines[\"top\"].set_visible(False)\n",
    "        \n",
    "    if i < len(jumps):\n",
    "        axs[i].plot([0, 1], [0, 0], transform=axs[i].transAxes, marker=[(-1, -d), (1, d)],\n",
    "                    markersize=12, linestyle=\"none\", color=\"k\", mec=\"k\", mew=1, clip_on=False)\n",
    "        \n",
    "        axs[i].spines[\"bottom\"].set_visible(False)\n",
    "        axs[i].set_xticks([])\n",
    "    \n",
    "    axs[i].plot(range(1, n_chk+1), mean_losses)\n",
    "    axs[i].set_xlim(1, n_chk)\n",
    "    \n",
    "    if i == 0:\n",
    "        M = np.max(mean_losses[:jumps[i]])\n",
    "        m = np.min(mean_losses[:jumps[i]])\n",
    "        \n",
    "    elif i == len(jumps):\n",
    "        M = np.max(mean_losses[jumps[i-1]:])\n",
    "        m = np.min(mean_losses[jumps[i-1]:])\n",
    "    \n",
    "    else:\n",
    "        M = np.max(mean_losses[jumps[i-1]:jumps[i]])\n",
    "        m = np.min(mean_losses[jumps[i-1]:jumps[i]])\n",
    "    \n",
    "    r = M - m\n",
    "    \n",
    "    axs[i].set_ylim(m - 0.1 * r, M + 0.1 * r)\n",
    "    \n",
    "fig.tight_layout()\n",
    "\n",
    "plt.savefig(fig_dir + \"lrs_split.pdf\")"
   ]
  },
  {
   "cell_type": "markdown",
   "id": "b7827508",
   "metadata": {},
   "source": [
    "# Evaluate the model history"
   ]
  },
  {
   "cell_type": "code",
   "execution_count": 11,
   "id": "0498f656",
   "metadata": {},
   "outputs": [
    {
     "name": "stdout",
     "output_type": "stream",
     "text": [
      "All done!\n"
     ]
    }
   ],
   "source": [
    "if eval_history:\n",
    "\n",
    "    fdir = fig_dir + \"eval_history/\"\n",
    "\n",
    "    if not os.path.exists(fdir):\n",
    "        os.mkdir(fdir)\n",
    "\n",
    "    for i in range(n_chk):\n",
    "\n",
    "        d = fdir + f\"checkpoint_{i+1}/\"\n",
    "        if not os.path.exists(d):\n",
    "            os.mkdir(d)\n",
    "\n",
    "        X = np.load(in_dir + f\"checkpoint_{i+1}_in.npy\")\n",
    "        y_trg = np.load(in_dir + f\"checkpoint_{i+1}_trg.npy\")\n",
    "        y_pred = np.load(in_dir + f\"checkpoint_{i+1}_pred.npy\")\n",
    "        y_std = np.load(in_dir + f\"checkpoint_{i+1}_std.npy\")\n",
    "\n",
    "        plot_checkpoint(X, y_trg, y_pred, y_std, show=False, save=d)\n",
    "        \n",
    "        break\n",
    "\n",
    "print(\"All done!\")"
   ]
  },
  {
   "cell_type": "markdown",
   "id": "27e99357",
   "metadata": {},
   "source": [
    "# Load model and generate dataset"
   ]
  },
  {
   "cell_type": "code",
   "execution_count": 12,
   "id": "6b519364",
   "metadata": {},
   "outputs": [],
   "source": [
    "if eval_evolution or eval_sparse or eval_noise or eval_exp or vis_filters:\n",
    "\n",
    "    net = model.ConvLSTMEnsemble(**model_pars)\n",
    "    \n",
    "    if eval_evolution or eval_sparse or eval_noise or vis_filters:\n",
    "\n",
    "        X = []\n",
    "        y = []\n",
    "\n",
    "        for i in range(n_samples):\n",
    "            Xi, _, yi = dataset.__getitem__(0)\n",
    "            X.append(Xi.unsqueeze(0))\n",
    "            y.append(yi.unsqueeze(0))\n",
    "\n",
    "        X = torch.cat(X, dim=0)\n",
    "        y = torch.cat(y, dim=0)"
   ]
  },
  {
   "cell_type": "code",
   "execution_count": 13,
   "id": "aab48247",
   "metadata": {},
   "outputs": [
    {
     "data": {
      "text/plain": [
       "torch.Size([4, 8, 1, 512])"
      ]
     },
     "execution_count": 13,
     "metadata": {},
     "output_type": "execute_result"
    }
   ],
   "source": [
    "X.shape"
   ]
  },
  {
   "cell_type": "code",
   "execution_count": 14,
   "id": "18cf5917",
   "metadata": {},
   "outputs": [],
   "source": [
    "activation = {}\n",
    "def get_activation(name):\n",
    "    def hook(model, input, output):\n",
    "        activation[name] = output.detach()\n",
    "    return hook"
   ]
  },
  {
   "cell_type": "code",
   "execution_count": 33,
   "id": "7ee5a557",
   "metadata": {},
   "outputs": [],
   "source": [
    "h, c = net.models[0]._init_hidden(batch_size=X.shape[0],image_size=X.shape[-1])[0]\n",
    "X1 = net.models[0]._batch_input(X)\n",
    "\n",
    "all_h = []\n",
    "all_c = []\n",
    "all_x = []\n",
    "all_i = []\n",
    "all_f = []\n",
    "all_o = []\n",
    "all_g = []\n",
    "\n",
    "for ind in range(X1.shape[1]):\n",
    "    i, f, o, g, h2, c2 = net.models[0].cell_list[0].analyze(X1[:, ind], [h, c])\n",
    "    \n",
    "    all_h.append(h.clone())\n",
    "    all_c.append(c.clone())\n",
    "    all_x.append(X1[:, ind].clone())\n",
    "    all_i.append(i.detach().clone())\n",
    "    all_f.append(f.detach().clone())\n",
    "    all_o.append(o.detach().clone())\n",
    "    all_g.append(g.detach().clone())\n",
    "    \n",
    "    h = h2.detach().clone()\n",
    "    c = c2.detach().clone()"
   ]
  },
  {
   "cell_type": "code",
   "execution_count": 69,
   "id": "c3776ed0",
   "metadata": {},
   "outputs": [
    {
     "name": "stdout",
     "output_type": "stream",
     "text": [
      "64 8 8\n"
     ]
    }
   ],
   "source": [
    "n_filt = all_h[0].shape[1] + 1\n",
    "n_row = int(np.sqrt(n_filt))\n",
    "n_col = int(n_filt / n_row)\n",
    "\n",
    "print(n_filt, n_row, n_col)"
   ]
  },
  {
   "cell_type": "code",
   "execution_count": 54,
   "id": "eb30dfc3",
   "metadata": {},
   "outputs": [
    {
     "name": "stdout",
     "output_type": "stream",
     "text": [
      "8 8\n"
     ]
    },
    {
     "ename": "TypeError",
     "evalue": "missing a required argument: 'y'",
     "output_type": "error",
     "traceback": [
      "\u001b[0;31m---------------------------------------------------------------------------\u001b[0m",
      "\u001b[0;31mTypeError\u001b[0m                                 Traceback (most recent call last)",
      "\u001b[0;32m<ipython-input-54-6a25b283b70f>\u001b[0m in \u001b[0;36m<module>\u001b[0;34m\u001b[0m\n\u001b[1;32m     16\u001b[0m \u001b[0;34m\u001b[0m\u001b[0m\n\u001b[1;32m     17\u001b[0m         \u001b[0;32mfor\u001b[0m \u001b[0mfilt\u001b[0m \u001b[0;32min\u001b[0m \u001b[0mrange\u001b[0m\u001b[0;34m(\u001b[0m\u001b[0mh\u001b[0m\u001b[0;34m.\u001b[0m\u001b[0mshape\u001b[0m\u001b[0;34m[\u001b[0m\u001b[0;36m1\u001b[0m\u001b[0;34m]\u001b[0m\u001b[0;34m)\u001b[0m\u001b[0;34m:\u001b[0m\u001b[0;34m\u001b[0m\u001b[0;34m\u001b[0m\u001b[0m\n\u001b[0;32m---> 18\u001b[0;31m             \u001b[0maxs\u001b[0m\u001b[0;34m[\u001b[0m\u001b[0mfilt\u001b[0m\u001b[0;34m]\u001b[0m\u001b[0;34m.\u001b[0m\u001b[0mscatter\u001b[0m\u001b[0;34m(\u001b[0m\u001b[0mrange\u001b[0m\u001b[0;34m(\u001b[0m\u001b[0mx\u001b[0m\u001b[0;34m.\u001b[0m\u001b[0mshape\u001b[0m\u001b[0;34m[\u001b[0m\u001b[0;34m-\u001b[0m\u001b[0;36m1\u001b[0m\u001b[0;34m]\u001b[0m\u001b[0;34m)\u001b[0m\u001b[0;34m)\u001b[0m\u001b[0;34m\u001b[0m\u001b[0;34m\u001b[0m\u001b[0m\n\u001b[0m\u001b[1;32m     19\u001b[0m             \u001b[0ma\u001b[0m \u001b[0;34m=\u001b[0m \u001b[0;36m0\u001b[0m\u001b[0;34m\u001b[0m\u001b[0;34m\u001b[0m\u001b[0m\n\u001b[1;32m     20\u001b[0m \u001b[0;34m\u001b[0m\u001b[0m\n",
      "\u001b[0;32m//anaconda3/envs/torch/lib/python3.8/site-packages/matplotlib/__init__.py\u001b[0m in \u001b[0;36minner\u001b[0;34m(ax, data, *args, **kwargs)\u001b[0m\n\u001b[1;32m   1563\u001b[0m     \u001b[0;32mdef\u001b[0m \u001b[0minner\u001b[0m\u001b[0;34m(\u001b[0m\u001b[0max\u001b[0m\u001b[0;34m,\u001b[0m \u001b[0;34m*\u001b[0m\u001b[0margs\u001b[0m\u001b[0;34m,\u001b[0m \u001b[0mdata\u001b[0m\u001b[0;34m=\u001b[0m\u001b[0;32mNone\u001b[0m\u001b[0;34m,\u001b[0m \u001b[0;34m**\u001b[0m\u001b[0mkwargs\u001b[0m\u001b[0;34m)\u001b[0m\u001b[0;34m:\u001b[0m\u001b[0;34m\u001b[0m\u001b[0;34m\u001b[0m\u001b[0m\n\u001b[1;32m   1564\u001b[0m         \u001b[0;32mif\u001b[0m \u001b[0mdata\u001b[0m \u001b[0;32mis\u001b[0m \u001b[0;32mNone\u001b[0m\u001b[0;34m:\u001b[0m\u001b[0;34m\u001b[0m\u001b[0;34m\u001b[0m\u001b[0m\n\u001b[0;32m-> 1565\u001b[0;31m             \u001b[0;32mreturn\u001b[0m \u001b[0mfunc\u001b[0m\u001b[0;34m(\u001b[0m\u001b[0max\u001b[0m\u001b[0;34m,\u001b[0m \u001b[0;34m*\u001b[0m\u001b[0mmap\u001b[0m\u001b[0;34m(\u001b[0m\u001b[0msanitize_sequence\u001b[0m\u001b[0;34m,\u001b[0m \u001b[0margs\u001b[0m\u001b[0;34m)\u001b[0m\u001b[0;34m,\u001b[0m \u001b[0;34m**\u001b[0m\u001b[0mkwargs\u001b[0m\u001b[0;34m)\u001b[0m\u001b[0;34m\u001b[0m\u001b[0;34m\u001b[0m\u001b[0m\n\u001b[0m\u001b[1;32m   1566\u001b[0m \u001b[0;34m\u001b[0m\u001b[0m\n\u001b[1;32m   1567\u001b[0m         \u001b[0mbound\u001b[0m \u001b[0;34m=\u001b[0m \u001b[0mnew_sig\u001b[0m\u001b[0;34m.\u001b[0m\u001b[0mbind\u001b[0m\u001b[0;34m(\u001b[0m\u001b[0max\u001b[0m\u001b[0;34m,\u001b[0m \u001b[0;34m*\u001b[0m\u001b[0margs\u001b[0m\u001b[0;34m,\u001b[0m \u001b[0;34m**\u001b[0m\u001b[0mkwargs\u001b[0m\u001b[0;34m)\u001b[0m\u001b[0;34m\u001b[0m\u001b[0;34m\u001b[0m\u001b[0m\n",
      "\u001b[0;32m//anaconda3/envs/torch/lib/python3.8/site-packages/matplotlib/cbook/deprecation.py\u001b[0m in \u001b[0;36mwrapper\u001b[0;34m(*args, **kwargs)\u001b[0m\n\u001b[1;32m    347\u001b[0m     \u001b[0;34m@\u001b[0m\u001b[0mfunctools\u001b[0m\u001b[0;34m.\u001b[0m\u001b[0mwraps\u001b[0m\u001b[0;34m(\u001b[0m\u001b[0mfunc\u001b[0m\u001b[0;34m)\u001b[0m\u001b[0;34m\u001b[0m\u001b[0;34m\u001b[0m\u001b[0m\n\u001b[1;32m    348\u001b[0m     \u001b[0;32mdef\u001b[0m \u001b[0mwrapper\u001b[0m\u001b[0;34m(\u001b[0m\u001b[0;34m*\u001b[0m\u001b[0margs\u001b[0m\u001b[0;34m,\u001b[0m \u001b[0;34m**\u001b[0m\u001b[0mkwargs\u001b[0m\u001b[0;34m)\u001b[0m\u001b[0;34m:\u001b[0m\u001b[0;34m\u001b[0m\u001b[0;34m\u001b[0m\u001b[0m\n\u001b[0;32m--> 349\u001b[0;31m         \u001b[0marguments\u001b[0m \u001b[0;34m=\u001b[0m \u001b[0mfunc\u001b[0m\u001b[0;34m.\u001b[0m\u001b[0m__signature__\u001b[0m\u001b[0;34m.\u001b[0m\u001b[0mbind\u001b[0m\u001b[0;34m(\u001b[0m\u001b[0;34m*\u001b[0m\u001b[0margs\u001b[0m\u001b[0;34m,\u001b[0m \u001b[0;34m**\u001b[0m\u001b[0mkwargs\u001b[0m\u001b[0;34m)\u001b[0m\u001b[0;34m.\u001b[0m\u001b[0marguments\u001b[0m\u001b[0;34m\u001b[0m\u001b[0;34m\u001b[0m\u001b[0m\n\u001b[0m\u001b[1;32m    350\u001b[0m         \u001b[0;31m# We cannot just check `name not in arguments` because the pyplot\u001b[0m\u001b[0;34m\u001b[0m\u001b[0;34m\u001b[0m\u001b[0;34m\u001b[0m\u001b[0m\n\u001b[1;32m    351\u001b[0m         \u001b[0;31m# wrappers always pass all arguments explicitly.\u001b[0m\u001b[0;34m\u001b[0m\u001b[0;34m\u001b[0m\u001b[0;34m\u001b[0m\u001b[0m\n",
      "\u001b[0;32m//anaconda3/envs/torch/lib/python3.8/inspect.py\u001b[0m in \u001b[0;36mbind\u001b[0;34m(self, *args, **kwargs)\u001b[0m\n\u001b[1;32m   3035\u001b[0m         \u001b[0;32mif\u001b[0m \u001b[0mthe\u001b[0m \u001b[0mpassed\u001b[0m \u001b[0marguments\u001b[0m \u001b[0mcan\u001b[0m \u001b[0;32mnot\u001b[0m \u001b[0mbe\u001b[0m \u001b[0mbound\u001b[0m\u001b[0;34m.\u001b[0m\u001b[0;34m\u001b[0m\u001b[0;34m\u001b[0m\u001b[0m\n\u001b[1;32m   3036\u001b[0m         \"\"\"\n\u001b[0;32m-> 3037\u001b[0;31m         \u001b[0;32mreturn\u001b[0m \u001b[0mself\u001b[0m\u001b[0;34m.\u001b[0m\u001b[0m_bind\u001b[0m\u001b[0;34m(\u001b[0m\u001b[0margs\u001b[0m\u001b[0;34m,\u001b[0m \u001b[0mkwargs\u001b[0m\u001b[0;34m)\u001b[0m\u001b[0;34m\u001b[0m\u001b[0;34m\u001b[0m\u001b[0m\n\u001b[0m\u001b[1;32m   3038\u001b[0m \u001b[0;34m\u001b[0m\u001b[0m\n\u001b[1;32m   3039\u001b[0m     \u001b[0;32mdef\u001b[0m \u001b[0mbind_partial\u001b[0m\u001b[0;34m(\u001b[0m\u001b[0mself\u001b[0m\u001b[0;34m,\u001b[0m \u001b[0;34m/\u001b[0m\u001b[0;34m,\u001b[0m \u001b[0;34m*\u001b[0m\u001b[0margs\u001b[0m\u001b[0;34m,\u001b[0m \u001b[0;34m**\u001b[0m\u001b[0mkwargs\u001b[0m\u001b[0;34m)\u001b[0m\u001b[0;34m:\u001b[0m\u001b[0;34m\u001b[0m\u001b[0;34m\u001b[0m\u001b[0m\n",
      "\u001b[0;32m//anaconda3/envs/torch/lib/python3.8/inspect.py\u001b[0m in \u001b[0;36m_bind\u001b[0;34m(self, args, kwargs, partial)\u001b[0m\n\u001b[1;32m   2950\u001b[0m                             \u001b[0mmsg\u001b[0m \u001b[0;34m=\u001b[0m \u001b[0;34m'missing a required argument: {arg!r}'\u001b[0m\u001b[0;34m\u001b[0m\u001b[0;34m\u001b[0m\u001b[0m\n\u001b[1;32m   2951\u001b[0m                             \u001b[0mmsg\u001b[0m \u001b[0;34m=\u001b[0m \u001b[0mmsg\u001b[0m\u001b[0;34m.\u001b[0m\u001b[0mformat\u001b[0m\u001b[0;34m(\u001b[0m\u001b[0marg\u001b[0m\u001b[0;34m=\u001b[0m\u001b[0mparam\u001b[0m\u001b[0;34m.\u001b[0m\u001b[0mname\u001b[0m\u001b[0;34m)\u001b[0m\u001b[0;34m\u001b[0m\u001b[0;34m\u001b[0m\u001b[0m\n\u001b[0;32m-> 2952\u001b[0;31m                             \u001b[0;32mraise\u001b[0m \u001b[0mTypeError\u001b[0m\u001b[0;34m(\u001b[0m\u001b[0mmsg\u001b[0m\u001b[0;34m)\u001b[0m \u001b[0;32mfrom\u001b[0m \u001b[0;32mNone\u001b[0m\u001b[0;34m\u001b[0m\u001b[0;34m\u001b[0m\u001b[0m\n\u001b[0m\u001b[1;32m   2953\u001b[0m             \u001b[0;32melse\u001b[0m\u001b[0;34m:\u001b[0m\u001b[0;34m\u001b[0m\u001b[0;34m\u001b[0m\u001b[0m\n\u001b[1;32m   2954\u001b[0m                 \u001b[0;31m# We have a positional argument to process\u001b[0m\u001b[0;34m\u001b[0m\u001b[0;34m\u001b[0m\u001b[0;34m\u001b[0m\u001b[0m\n",
      "\u001b[0;31mTypeError\u001b[0m: missing a required argument: 'y'"
     ]
    },
    {
     "data": {
      "image/png": "[encoded data removed]",
      "text/plain": [
       "<Figure size 432x432 with 64 Axes>"
      ]
     },
     "metadata": {
      "needs_background": "light"
     },
     "output_type": "display_data"
    }
   ],
   "source": [
    "n_filt = all_h[0].shape[1]\n",
    "n_row = int(np.sqrt(n_filt))\n",
    "n_col = int(n_filt / n_row)\n",
    "\n",
    "print(n_row, n_col)\n",
    "\n",
    "for h, c, x, i, f, o, g in zip(all_h, all_c, all_x, all_i, all_f, all_o, all_g):\n",
    "    \n",
    "    for sample in range(h.shape[0]):\n",
    "        \n",
    "        fig = plt.figure(figsize=(6,6))\n",
    "        axs = []\n",
    "        for row in range(n_row):\n",
    "            for col in range(n_col):\n",
    "                axs.append(fig.add_subplot(n_row,n_col,(row * n_col) + col + 1))\n",
    "        \n",
    "        for filt in range(h.shape[1]):\n",
    "            axs[filt].scatter(range(x.shape[-1]))\n",
    "            a = 0\n",
    "            \n",
    "        plt.show()\n",
    "        plt.close()\n",
    "            \n",
    "        break\n",
    "    \n",
    "    break"
   ]
  },
  {
   "cell_type": "code",
   "execution_count": 28,
   "id": "a6a99a51",
   "metadata": {},
   "outputs": [
    {
     "data": {
      "text/plain": [
       "torch.Size([4, 64, 512])"
      ]
     },
     "execution_count": 28,
     "metadata": {},
     "output_type": "execute_result"
    }
   ],
   "source": [
    "h.shape"
   ]
  },
  {
   "cell_type": "code",
   "execution_count": 129,
   "id": "c8fbce27",
   "metadata": {},
   "outputs": [
    {
     "data": {
      "text/plain": [
       "torch.Size([4, 5, 4, 512])"
      ]
     },
     "execution_count": 129,
     "metadata": {},
     "output_type": "execute_result"
    }
   ],
   "source": [
    "X1.shape"
   ]
  },
  {
   "cell_type": "code",
   "execution_count": 130,
   "id": "fcc55c0e",
   "metadata": {},
   "outputs": [],
   "source": [
    "x = torch.cat([X1[:, 0], h0], dim=1)"
   ]
  },
  {
   "cell_type": "code",
   "execution_count": 131,
   "id": "65c33449",
   "metadata": {},
   "outputs": [
    {
     "data": {
      "text/plain": [
       "torch.Size([4, 68, 512])"
      ]
     },
     "execution_count": 131,
     "metadata": {},
     "output_type": "execute_result"
    }
   ],
   "source": [
    "x.shape"
   ]
  },
  {
   "cell_type": "code",
   "execution_count": 138,
   "id": "23f72e71",
   "metadata": {},
   "outputs": [],
   "source": [
    "h1, c1 = net.models[-1].cell_list[0].forward(X1[:, 0], [h, c])"
   ]
  },
  {
   "cell_type": "code",
   "execution_count": null,
   "id": "0e6a02b5",
   "metadata": {},
   "outputs": [],
   "source": []
  },
  {
   "cell_type": "code",
   "execution_count": 172,
   "id": "8733197a",
   "metadata": {},
   "outputs": [],
   "source": [
    "combined = torch.cat([X1[:, 0], h0], dim=1)  # concatenate along channel axis\n",
    "\n",
    "combined_conv = net.models[-3].cell_list[0].conv.forward(x)\n",
    "cc_i, cc_f, cc_o, cc_g = torch.split(combined_conv, net.models[0].cell_list[0].hidden_dim, dim=1)\n",
    "i = torch.sigmoid(cc_i)\n",
    "f = torch.sigmoid(cc_f)\n",
    "o = torch.sigmoid(cc_o)\n",
    "g = torch.tanh(cc_g)"
   ]
  },
  {
   "cell_type": "code",
   "execution_count": 198,
   "id": "5fbd0f34",
   "metadata": {},
   "outputs": [
    {
     "data": {
      "image/png": "[encoded data removed]",
      "text/plain": [
       "<Figure size 432x288 with 1 Axes>"
      ]
     },
     "metadata": {
      "needs_background": "light"
     },
     "output_type": "display_data"
    }
   ],
   "source": [
    "ind = 53\n",
    "for xi in X1[0, 0]:\n",
    "#    plt.scatter(h)\n",
    "    plt.scatter(range(xi.shape[0]), xi, s=5, c=i[0, ind].detach(), cmap=\"Greys\")"
   ]
  },
  {
   "cell_type": "code",
   "execution_count": 30,
   "id": "d42da90d",
   "metadata": {},
   "outputs": [
    {
     "ename": "TypeError",
     "evalue": "__init__() takes 1 positional argument but 2 were given",
     "output_type": "error",
     "traceback": [
      "\u001b[0;31m---------------------------------------------------------------------------\u001b[0m",
      "\u001b[0;31mTypeError\u001b[0m                                 Traceback (most recent call last)",
      "\u001b[0;32m<ipython-input-30-0ecaa24971d4>\u001b[0m in \u001b[0;36m<module>\u001b[0;34m\u001b[0m\n\u001b[1;32m      1\u001b[0m \u001b[0mfilters\u001b[0m \u001b[0;34m=\u001b[0m \u001b[0mnet\u001b[0m\u001b[0;34m.\u001b[0m\u001b[0mmodels\u001b[0m\u001b[0;34m[\u001b[0m\u001b[0;36m0\u001b[0m\u001b[0;34m]\u001b[0m\u001b[0;34m.\u001b[0m\u001b[0mcell_list\u001b[0m\u001b[0;34m[\u001b[0m\u001b[0;36m0\u001b[0m\u001b[0;34m]\u001b[0m\u001b[0;34m.\u001b[0m\u001b[0mconv\u001b[0m\u001b[0;34m.\u001b[0m\u001b[0mforward\u001b[0m\u001b[0;34m(\u001b[0m\u001b[0mx\u001b[0m\u001b[0;34m)\u001b[0m\u001b[0;34m\u001b[0m\u001b[0;34m\u001b[0m\u001b[0m\n\u001b[0;32m----> 2\u001b[0;31m \u001b[0mfilters\u001b[0m \u001b[0;34m=\u001b[0m \u001b[0mtorch\u001b[0m\u001b[0;34m.\u001b[0m\u001b[0mnn\u001b[0m\u001b[0;34m.\u001b[0m\u001b[0mSigmoid\u001b[0m\u001b[0;34m(\u001b[0m\u001b[0mfilters\u001b[0m\u001b[0;34m)\u001b[0m\u001b[0;34m\u001b[0m\u001b[0;34m\u001b[0m\u001b[0m\n\u001b[0m",
      "\u001b[0;31mTypeError\u001b[0m: __init__() takes 1 positional argument but 2 were given"
     ]
    }
   ],
   "source": [
    "filters = \n",
    "filters = torch.nn.Sigmoid(filters)"
   ]
  },
  {
   "cell_type": "code",
   "execution_count": null,
   "id": "36f3e40f",
   "metadata": {},
   "outputs": [],
   "source": []
  },
  {
   "cell_type": "code",
   "execution_count": 27,
   "id": "c40d75be",
   "metadata": {},
   "outputs": [
    {
     "data": {
      "text/plain": [
       "tensor([[[ 0.0744,  0.0744,  0.0744,  ...,  0.0744,  0.0744,  0.0744],\n",
       "         [ 0.0937,  0.0937,  0.0937,  ...,  0.0937,  0.0937,  0.0937],\n",
       "         [-0.0042, -0.0041, -0.0041,  ..., -0.0041, -0.0041, -0.0042],\n",
       "         ...,\n",
       "         [-0.0357, -0.0357, -0.0357,  ..., -0.0357, -0.0357, -0.0357],\n",
       "         [ 0.0232,  0.0232,  0.0232,  ...,  0.0232,  0.0232,  0.0232],\n",
       "         [-0.0667, -0.0667, -0.0667,  ..., -0.0667, -0.0667, -0.0667]],\n",
       "\n",
       "        [[ 0.0744,  0.0744,  0.0744,  ...,  0.0744,  0.0744,  0.0744],\n",
       "         [ 0.0937,  0.0937,  0.0937,  ...,  0.0937,  0.0937,  0.0937],\n",
       "         [-0.0042, -0.0041, -0.0041,  ..., -0.0041, -0.0041, -0.0042],\n",
       "         ...,\n",
       "         [-0.0357, -0.0357, -0.0357,  ..., -0.0357, -0.0357, -0.0357],\n",
       "         [ 0.0232,  0.0232,  0.0232,  ...,  0.0232,  0.0232,  0.0232],\n",
       "         [-0.0667, -0.0667, -0.0667,  ..., -0.0667, -0.0667, -0.0667]],\n",
       "\n",
       "        [[ 0.0744,  0.0744,  0.0745,  ...,  0.0745,  0.0744,  0.0744],\n",
       "         [ 0.0937,  0.0937,  0.0937,  ...,  0.0937,  0.0937,  0.0937],\n",
       "         [-0.0042, -0.0041, -0.0041,  ..., -0.0041, -0.0041, -0.0042],\n",
       "         ...,\n",
       "         [-0.0357, -0.0357, -0.0357,  ..., -0.0357, -0.0357, -0.0357],\n",
       "         [ 0.0232,  0.0232,  0.0232,  ...,  0.0232,  0.0232,  0.0232],\n",
       "         [-0.0667, -0.0667, -0.0666,  ..., -0.0666, -0.0667, -0.0667]],\n",
       "\n",
       "        [[ 0.0744,  0.0744,  0.0744,  ...,  0.0744,  0.0744,  0.0744],\n",
       "         [ 0.0937,  0.0937,  0.0937,  ...,  0.0937,  0.0937,  0.0937],\n",
       "         [-0.0042, -0.0041, -0.0041,  ..., -0.0041, -0.0041, -0.0042],\n",
       "         ...,\n",
       "         [-0.0357, -0.0357, -0.0357,  ..., -0.0357, -0.0357, -0.0357],\n",
       "         [ 0.0232,  0.0232,  0.0231,  ...,  0.0232,  0.0232,  0.0232],\n",
       "         [-0.0667, -0.0667, -0.0666,  ..., -0.0666, -0.0667, -0.0667]]],\n",
       "       grad_fn=<SqueezeBackward1>)"
      ]
     },
     "execution_count": 27,
     "metadata": {},
     "output_type": "execute_result"
    }
   ],
   "source": [
    "filters"
   ]
  },
  {
   "cell_type": "code",
   "execution_count": 206,
   "id": "e61e56cf",
   "metadata": {},
   "outputs": [],
   "source": [
    "h, c = net.models[0].cell_list[0].forward(X[:, :4].reshape(4, 4, 512), X0)"
   ]
  },
  {
   "cell_type": "code",
   "execution_count": 210,
   "id": "d1e28207",
   "metadata": {},
   "outputs": [],
   "source": [
    "h2, c2 = net.models[0].cell_list[0].forward(X[:, -4:].reshape(4, 4, 512), X0)"
   ]
  },
  {
   "cell_type": "code",
   "execution_count": 207,
   "id": "065f24b6",
   "metadata": {},
   "outputs": [
    {
     "data": {
      "text/plain": [
       "torch.Size([4, 64, 512])"
      ]
     },
     "execution_count": 207,
     "metadata": {},
     "output_type": "execute_result"
    }
   ],
   "source": [
    "h.shape"
   ]
  },
  {
   "cell_type": "code",
   "execution_count": 208,
   "id": "f6baebca",
   "metadata": {},
   "outputs": [
    {
     "data": {
      "text/plain": [
       "torch.Size([4, 64, 512])"
      ]
     },
     "execution_count": 208,
     "metadata": {},
     "output_type": "execute_result"
    }
   ],
   "source": [
    "h.shape"
   ]
  },
  {
   "cell_type": "code",
   "execution_count": 253,
   "id": "b6d7ebc0",
   "metadata": {},
   "outputs": [],
   "source": [
    "i = 0"
   ]
  },
  {
   "cell_type": "code",
   "execution_count": 257,
   "id": "ea923020",
   "metadata": {},
   "outputs": [],
   "source": [
    "colors = np.ones((X.shape[-1], 3)) * h[0, i].detach().numpy()[:, np.newaxis]"
   ]
  },
  {
   "cell_type": "code",
   "execution_count": 252,
   "id": "ae08daf7",
   "metadata": {},
   "outputs": [
    {
     "data": {
      "text/plain": [
       "<matplotlib.collections.PathCollection at 0x143a08040>"
      ]
     },
     "execution_count": 252,
     "metadata": {},
     "output_type": "execute_result"
    },
    {
     "data": {
      "image/png": "[encoded data removed]",
      "text/plain": [
       "<Figure size 432x288 with 1 Axes>"
      ]
     },
     "metadata": {
      "needs_background": "light"
     },
     "output_type": "display_data"
    }
   ],
   "source": [
    "plt.plot(X[0, :4, 0].T)\n",
    "\n",
    "\n",
    "plt.scatter(range(X.shape[-1]), h[0, i].detach() - torch.min(h[0,i].detach()), c=colors, s=0.5)"
   ]
  },
  {
   "cell_type": "code",
   "execution_count": 233,
   "id": "26fe6c29",
   "metadata": {},
   "outputs": [
    {
     "data": {
      "text/plain": [
       "[<matplotlib.lines.Line2D at 0x13978cf70>]"
      ]
     },
     "execution_count": 233,
     "metadata": {},
     "output_type": "execute_result"
    },
    {
     "data": {
      "image/png": "[encoded data removed]",
      "text/plain": [
       "<Figure size 432x288 with 1 Axes>"
      ]
     },
     "metadata": {
      "needs_background": "light"
     },
     "output_type": "display_data"
    }
   ],
   "source": [
    "plt.plot(X[0, -4:, 0].T)\n",
    "plt.plot(h2[0, i].detach() - torch.min(h2[0,i].detach()))"
   ]
  },
  {
   "cell_type": "code",
   "execution_count": 197,
   "id": "629c8219",
   "metadata": {},
   "outputs": [
    {
     "data": {
      "text/plain": [
       "tensor([[-0.0292, -0.0291, -0.0291,  ..., -0.0291, -0.0292, -0.0292],\n",
       "        [ 0.0049,  0.0049,  0.0049,  ...,  0.0049,  0.0049,  0.0049],\n",
       "        [ 0.0046,  0.0046,  0.0046,  ...,  0.0046,  0.0046,  0.0046]],\n",
       "       grad_fn=<SliceBackward>)"
      ]
     },
     "execution_count": 197,
     "metadata": {},
     "output_type": "execute_result"
    }
   ],
   "source": [
    "h[0, :3]"
   ]
  },
  {
   "cell_type": "code",
   "execution_count": 201,
   "id": "7c4ceb15",
   "metadata": {},
   "outputs": [
    {
     "data": {
      "text/plain": [
       "[<matplotlib.lines.Line2D at 0x134690a00>]"
      ]
     },
     "execution_count": 201,
     "metadata": {},
     "output_type": "execute_result"
    },
    {
     "ename": "ValueError",
     "evalue": "Invalid RGBA argument: array([[0.0000000e+00, 1.3549244e-03, 0.0000000e+00],\n       [3.0454248e-06, 1.3492773e-03, 5.6130812e-06],\n       [6.7390501e-06, 1.3424410e-03, 1.2431759e-05],\n       ...,\n       [4.0065497e-06, 1.3474184e-03, 7.4072741e-06],\n       [2.2295862e-06, 1.3507628e-03, 4.1141175e-06],\n       [0.0000000e+00, 1.3549244e-03, 0.0000000e+00]], dtype=float32)",
     "output_type": "error",
     "traceback": [
      "\u001b[0;31m---------------------------------------------------------------------------\u001b[0m",
      "\u001b[0;31mValueError\u001b[0m                                Traceback (most recent call last)",
      "\u001b[0;32m//anaconda3/envs/torch/lib/python3.8/site-packages/IPython/core/formatters.py\u001b[0m in \u001b[0;36m__call__\u001b[0;34m(self, obj)\u001b[0m\n\u001b[1;32m    339\u001b[0m                 \u001b[0;32mpass\u001b[0m\u001b[0;34m\u001b[0m\u001b[0;34m\u001b[0m\u001b[0m\n\u001b[1;32m    340\u001b[0m             \u001b[0;32melse\u001b[0m\u001b[0;34m:\u001b[0m\u001b[0;34m\u001b[0m\u001b[0;34m\u001b[0m\u001b[0m\n\u001b[0;32m--> 341\u001b[0;31m                 \u001b[0;32mreturn\u001b[0m \u001b[0mprinter\u001b[0m\u001b[0;34m(\u001b[0m\u001b[0mobj\u001b[0m\u001b[0;34m)\u001b[0m\u001b[0;34m\u001b[0m\u001b[0;34m\u001b[0m\u001b[0m\n\u001b[0m\u001b[1;32m    342\u001b[0m             \u001b[0;31m# Finally look for special method names\u001b[0m\u001b[0;34m\u001b[0m\u001b[0;34m\u001b[0m\u001b[0;34m\u001b[0m\u001b[0m\n\u001b[1;32m    343\u001b[0m             \u001b[0mmethod\u001b[0m \u001b[0;34m=\u001b[0m \u001b[0mget_real_method\u001b[0m\u001b[0;34m(\u001b[0m\u001b[0mobj\u001b[0m\u001b[0;34m,\u001b[0m \u001b[0mself\u001b[0m\u001b[0;34m.\u001b[0m\u001b[0mprint_method\u001b[0m\u001b[0;34m)\u001b[0m\u001b[0;34m\u001b[0m\u001b[0;34m\u001b[0m\u001b[0m\n",
      "\u001b[0;32m//anaconda3/envs/torch/lib/python3.8/site-packages/IPython/core/pylabtools.py\u001b[0m in \u001b[0;36m<lambda>\u001b[0;34m(fig)\u001b[0m\n\u001b[1;32m    246\u001b[0m \u001b[0;34m\u001b[0m\u001b[0m\n\u001b[1;32m    247\u001b[0m     \u001b[0;32mif\u001b[0m \u001b[0;34m'png'\u001b[0m \u001b[0;32min\u001b[0m \u001b[0mformats\u001b[0m\u001b[0;34m:\u001b[0m\u001b[0;34m\u001b[0m\u001b[0;34m\u001b[0m\u001b[0m\n\u001b[0;32m--> 248\u001b[0;31m         \u001b[0mpng_formatter\u001b[0m\u001b[0;34m.\u001b[0m\u001b[0mfor_type\u001b[0m\u001b[0;34m(\u001b[0m\u001b[0mFigure\u001b[0m\u001b[0;34m,\u001b[0m \u001b[0;32mlambda\u001b[0m \u001b[0mfig\u001b[0m\u001b[0;34m:\u001b[0m \u001b[0mprint_figure\u001b[0m\u001b[0;34m(\u001b[0m\u001b[0mfig\u001b[0m\u001b[0;34m,\u001b[0m \u001b[0;34m'png'\u001b[0m\u001b[0;34m,\u001b[0m \u001b[0;34m**\u001b[0m\u001b[0mkwargs\u001b[0m\u001b[0;34m)\u001b[0m\u001b[0;34m)\u001b[0m\u001b[0;34m\u001b[0m\u001b[0;34m\u001b[0m\u001b[0m\n\u001b[0m\u001b[1;32m    249\u001b[0m     \u001b[0;32mif\u001b[0m \u001b[0;34m'retina'\u001b[0m \u001b[0;32min\u001b[0m \u001b[0mformats\u001b[0m \u001b[0;32mor\u001b[0m \u001b[0;34m'png2x'\u001b[0m \u001b[0;32min\u001b[0m \u001b[0mformats\u001b[0m\u001b[0;34m:\u001b[0m\u001b[0;34m\u001b[0m\u001b[0;34m\u001b[0m\u001b[0m\n\u001b[1;32m    250\u001b[0m         \u001b[0mpng_formatter\u001b[0m\u001b[0;34m.\u001b[0m\u001b[0mfor_type\u001b[0m\u001b[0;34m(\u001b[0m\u001b[0mFigure\u001b[0m\u001b[0;34m,\u001b[0m \u001b[0;32mlambda\u001b[0m \u001b[0mfig\u001b[0m\u001b[0;34m:\u001b[0m \u001b[0mretina_figure\u001b[0m\u001b[0;34m(\u001b[0m\u001b[0mfig\u001b[0m\u001b[0;34m,\u001b[0m \u001b[0;34m**\u001b[0m\u001b[0mkwargs\u001b[0m\u001b[0;34m)\u001b[0m\u001b[0;34m)\u001b[0m\u001b[0;34m\u001b[0m\u001b[0;34m\u001b[0m\u001b[0m\n",
      "\u001b[0;32m//anaconda3/envs/torch/lib/python3.8/site-packages/IPython/core/pylabtools.py\u001b[0m in \u001b[0;36mprint_figure\u001b[0;34m(fig, fmt, bbox_inches, **kwargs)\u001b[0m\n\u001b[1;32m    130\u001b[0m         \u001b[0mFigureCanvasBase\u001b[0m\u001b[0;34m(\u001b[0m\u001b[0mfig\u001b[0m\u001b[0;34m)\u001b[0m\u001b[0;34m\u001b[0m\u001b[0;34m\u001b[0m\u001b[0m\n\u001b[1;32m    131\u001b[0m \u001b[0;34m\u001b[0m\u001b[0m\n\u001b[0;32m--> 132\u001b[0;31m     \u001b[0mfig\u001b[0m\u001b[0;34m.\u001b[0m\u001b[0mcanvas\u001b[0m\u001b[0;34m.\u001b[0m\u001b[0mprint_figure\u001b[0m\u001b[0;34m(\u001b[0m\u001b[0mbytes_io\u001b[0m\u001b[0;34m,\u001b[0m \u001b[0;34m**\u001b[0m\u001b[0mkw\u001b[0m\u001b[0;34m)\u001b[0m\u001b[0;34m\u001b[0m\u001b[0;34m\u001b[0m\u001b[0m\n\u001b[0m\u001b[1;32m    133\u001b[0m     \u001b[0mdata\u001b[0m \u001b[0;34m=\u001b[0m \u001b[0mbytes_io\u001b[0m\u001b[0;34m.\u001b[0m\u001b[0mgetvalue\u001b[0m\u001b[0;34m(\u001b[0m\u001b[0;34m)\u001b[0m\u001b[0;34m\u001b[0m\u001b[0;34m\u001b[0m\u001b[0m\n\u001b[1;32m    134\u001b[0m     \u001b[0;32mif\u001b[0m \u001b[0mfmt\u001b[0m \u001b[0;34m==\u001b[0m \u001b[0;34m'svg'\u001b[0m\u001b[0;34m:\u001b[0m\u001b[0;34m\u001b[0m\u001b[0;34m\u001b[0m\u001b[0m\n",
      "\u001b[0;32m//anaconda3/envs/torch/lib/python3.8/site-packages/matplotlib/backend_bases.py\u001b[0m in \u001b[0;36mprint_figure\u001b[0;34m(self, filename, dpi, facecolor, edgecolor, orientation, format, bbox_inches, **kwargs)\u001b[0m\n\u001b[1;32m   2098\u001b[0m                            else suppress())\n\u001b[1;32m   2099\u001b[0m                     \u001b[0;32mwith\u001b[0m \u001b[0mctx\u001b[0m\u001b[0;34m:\u001b[0m\u001b[0;34m\u001b[0m\u001b[0;34m\u001b[0m\u001b[0m\n\u001b[0;32m-> 2100\u001b[0;31m                         \u001b[0mself\u001b[0m\u001b[0;34m.\u001b[0m\u001b[0mfigure\u001b[0m\u001b[0;34m.\u001b[0m\u001b[0mdraw\u001b[0m\u001b[0;34m(\u001b[0m\u001b[0mrenderer\u001b[0m\u001b[0;34m)\u001b[0m\u001b[0;34m\u001b[0m\u001b[0;34m\u001b[0m\u001b[0m\n\u001b[0m\u001b[1;32m   2101\u001b[0m                     \u001b[0mbbox_artists\u001b[0m \u001b[0;34m=\u001b[0m \u001b[0mkwargs\u001b[0m\u001b[0;34m.\u001b[0m\u001b[0mpop\u001b[0m\u001b[0;34m(\u001b[0m\u001b[0;34m\"bbox_extra_artists\"\u001b[0m\u001b[0;34m,\u001b[0m \u001b[0;32mNone\u001b[0m\u001b[0;34m)\u001b[0m\u001b[0;34m\u001b[0m\u001b[0;34m\u001b[0m\u001b[0m\n\u001b[1;32m   2102\u001b[0m                     bbox_inches = self.figure.get_tightbbox(renderer,\n",
      "\u001b[0;32m//anaconda3/envs/torch/lib/python3.8/site-packages/matplotlib/artist.py\u001b[0m in \u001b[0;36mdraw_wrapper\u001b[0;34m(artist, renderer, *args, **kwargs)\u001b[0m\n\u001b[1;32m     36\u001b[0m                 \u001b[0mrenderer\u001b[0m\u001b[0;34m.\u001b[0m\u001b[0mstart_filter\u001b[0m\u001b[0;34m(\u001b[0m\u001b[0;34m)\u001b[0m\u001b[0;34m\u001b[0m\u001b[0;34m\u001b[0m\u001b[0m\n\u001b[1;32m     37\u001b[0m \u001b[0;34m\u001b[0m\u001b[0m\n\u001b[0;32m---> 38\u001b[0;31m             \u001b[0;32mreturn\u001b[0m \u001b[0mdraw\u001b[0m\u001b[0;34m(\u001b[0m\u001b[0martist\u001b[0m\u001b[0;34m,\u001b[0m \u001b[0mrenderer\u001b[0m\u001b[0;34m,\u001b[0m \u001b[0;34m*\u001b[0m\u001b[0margs\u001b[0m\u001b[0;34m,\u001b[0m \u001b[0;34m**\u001b[0m\u001b[0mkwargs\u001b[0m\u001b[0;34m)\u001b[0m\u001b[0;34m\u001b[0m\u001b[0;34m\u001b[0m\u001b[0m\n\u001b[0m\u001b[1;32m     39\u001b[0m         \u001b[0;32mfinally\u001b[0m\u001b[0;34m:\u001b[0m\u001b[0;34m\u001b[0m\u001b[0;34m\u001b[0m\u001b[0m\n\u001b[1;32m     40\u001b[0m             \u001b[0;32mif\u001b[0m \u001b[0martist\u001b[0m\u001b[0;34m.\u001b[0m\u001b[0mget_agg_filter\u001b[0m\u001b[0;34m(\u001b[0m\u001b[0;34m)\u001b[0m \u001b[0;32mis\u001b[0m \u001b[0;32mnot\u001b[0m \u001b[0;32mNone\u001b[0m\u001b[0;34m:\u001b[0m\u001b[0;34m\u001b[0m\u001b[0;34m\u001b[0m\u001b[0m\n",
      "\u001b[0;32m//anaconda3/envs/torch/lib/python3.8/site-packages/matplotlib/figure.py\u001b[0m in \u001b[0;36mdraw\u001b[0;34m(self, renderer)\u001b[0m\n\u001b[1;32m   1733\u001b[0m \u001b[0;34m\u001b[0m\u001b[0m\n\u001b[1;32m   1734\u001b[0m             \u001b[0mself\u001b[0m\u001b[0;34m.\u001b[0m\u001b[0mpatch\u001b[0m\u001b[0;34m.\u001b[0m\u001b[0mdraw\u001b[0m\u001b[0;34m(\u001b[0m\u001b[0mrenderer\u001b[0m\u001b[0;34m)\u001b[0m\u001b[0;34m\u001b[0m\u001b[0;34m\u001b[0m\u001b[0m\n\u001b[0;32m-> 1735\u001b[0;31m             mimage._draw_list_compositing_images(\n\u001b[0m\u001b[1;32m   1736\u001b[0m                 renderer, self, artists, self.suppressComposite)\n\u001b[1;32m   1737\u001b[0m \u001b[0;34m\u001b[0m\u001b[0m\n",
      "\u001b[0;32m//anaconda3/envs/torch/lib/python3.8/site-packages/matplotlib/image.py\u001b[0m in \u001b[0;36m_draw_list_compositing_images\u001b[0;34m(renderer, parent, artists, suppress_composite)\u001b[0m\n\u001b[1;32m    135\u001b[0m     \u001b[0;32mif\u001b[0m \u001b[0mnot_composite\u001b[0m \u001b[0;32mor\u001b[0m \u001b[0;32mnot\u001b[0m \u001b[0mhas_images\u001b[0m\u001b[0;34m:\u001b[0m\u001b[0;34m\u001b[0m\u001b[0;34m\u001b[0m\u001b[0m\n\u001b[1;32m    136\u001b[0m         \u001b[0;32mfor\u001b[0m \u001b[0ma\u001b[0m \u001b[0;32min\u001b[0m \u001b[0martists\u001b[0m\u001b[0;34m:\u001b[0m\u001b[0;34m\u001b[0m\u001b[0;34m\u001b[0m\u001b[0m\n\u001b[0;32m--> 137\u001b[0;31m             \u001b[0ma\u001b[0m\u001b[0;34m.\u001b[0m\u001b[0mdraw\u001b[0m\u001b[0;34m(\u001b[0m\u001b[0mrenderer\u001b[0m\u001b[0;34m)\u001b[0m\u001b[0;34m\u001b[0m\u001b[0;34m\u001b[0m\u001b[0m\n\u001b[0m\u001b[1;32m    138\u001b[0m     \u001b[0;32melse\u001b[0m\u001b[0;34m:\u001b[0m\u001b[0;34m\u001b[0m\u001b[0;34m\u001b[0m\u001b[0m\n\u001b[1;32m    139\u001b[0m         \u001b[0;31m# Composite any adjacent images together\u001b[0m\u001b[0;34m\u001b[0m\u001b[0;34m\u001b[0m\u001b[0;34m\u001b[0m\u001b[0m\n",
      "\u001b[0;32m//anaconda3/envs/torch/lib/python3.8/site-packages/matplotlib/artist.py\u001b[0m in \u001b[0;36mdraw_wrapper\u001b[0;34m(artist, renderer, *args, **kwargs)\u001b[0m\n\u001b[1;32m     36\u001b[0m                 \u001b[0mrenderer\u001b[0m\u001b[0;34m.\u001b[0m\u001b[0mstart_filter\u001b[0m\u001b[0;34m(\u001b[0m\u001b[0;34m)\u001b[0m\u001b[0;34m\u001b[0m\u001b[0;34m\u001b[0m\u001b[0m\n\u001b[1;32m     37\u001b[0m \u001b[0;34m\u001b[0m\u001b[0m\n\u001b[0;32m---> 38\u001b[0;31m             \u001b[0;32mreturn\u001b[0m \u001b[0mdraw\u001b[0m\u001b[0;34m(\u001b[0m\u001b[0martist\u001b[0m\u001b[0;34m,\u001b[0m \u001b[0mrenderer\u001b[0m\u001b[0;34m,\u001b[0m \u001b[0;34m*\u001b[0m\u001b[0margs\u001b[0m\u001b[0;34m,\u001b[0m \u001b[0;34m**\u001b[0m\u001b[0mkwargs\u001b[0m\u001b[0;34m)\u001b[0m\u001b[0;34m\u001b[0m\u001b[0;34m\u001b[0m\u001b[0m\n\u001b[0m\u001b[1;32m     39\u001b[0m         \u001b[0;32mfinally\u001b[0m\u001b[0;34m:\u001b[0m\u001b[0;34m\u001b[0m\u001b[0;34m\u001b[0m\u001b[0m\n\u001b[1;32m     40\u001b[0m             \u001b[0;32mif\u001b[0m \u001b[0martist\u001b[0m\u001b[0;34m.\u001b[0m\u001b[0mget_agg_filter\u001b[0m\u001b[0;34m(\u001b[0m\u001b[0;34m)\u001b[0m \u001b[0;32mis\u001b[0m \u001b[0;32mnot\u001b[0m \u001b[0;32mNone\u001b[0m\u001b[0;34m:\u001b[0m\u001b[0;34m\u001b[0m\u001b[0;34m\u001b[0m\u001b[0m\n",
      "\u001b[0;32m//anaconda3/envs/torch/lib/python3.8/site-packages/matplotlib/axes/_base.py\u001b[0m in \u001b[0;36mdraw\u001b[0;34m(self, renderer, inframe)\u001b[0m\n\u001b[1;32m   2628\u001b[0m             \u001b[0mrenderer\u001b[0m\u001b[0;34m.\u001b[0m\u001b[0mstop_rasterizing\u001b[0m\u001b[0;34m(\u001b[0m\u001b[0;34m)\u001b[0m\u001b[0;34m\u001b[0m\u001b[0;34m\u001b[0m\u001b[0m\n\u001b[1;32m   2629\u001b[0m \u001b[0;34m\u001b[0m\u001b[0m\n\u001b[0;32m-> 2630\u001b[0;31m         \u001b[0mmimage\u001b[0m\u001b[0;34m.\u001b[0m\u001b[0m_draw_list_compositing_images\u001b[0m\u001b[0;34m(\u001b[0m\u001b[0mrenderer\u001b[0m\u001b[0;34m,\u001b[0m \u001b[0mself\u001b[0m\u001b[0;34m,\u001b[0m \u001b[0martists\u001b[0m\u001b[0;34m)\u001b[0m\u001b[0;34m\u001b[0m\u001b[0;34m\u001b[0m\u001b[0m\n\u001b[0m\u001b[1;32m   2631\u001b[0m \u001b[0;34m\u001b[0m\u001b[0m\n\u001b[1;32m   2632\u001b[0m         \u001b[0mrenderer\u001b[0m\u001b[0;34m.\u001b[0m\u001b[0mclose_group\u001b[0m\u001b[0;34m(\u001b[0m\u001b[0;34m'axes'\u001b[0m\u001b[0;34m)\u001b[0m\u001b[0;34m\u001b[0m\u001b[0;34m\u001b[0m\u001b[0m\n",
      "\u001b[0;32m//anaconda3/envs/torch/lib/python3.8/site-packages/matplotlib/image.py\u001b[0m in \u001b[0;36m_draw_list_compositing_images\u001b[0;34m(renderer, parent, artists, suppress_composite)\u001b[0m\n\u001b[1;32m    135\u001b[0m     \u001b[0;32mif\u001b[0m \u001b[0mnot_composite\u001b[0m \u001b[0;32mor\u001b[0m \u001b[0;32mnot\u001b[0m \u001b[0mhas_images\u001b[0m\u001b[0;34m:\u001b[0m\u001b[0;34m\u001b[0m\u001b[0;34m\u001b[0m\u001b[0m\n\u001b[1;32m    136\u001b[0m         \u001b[0;32mfor\u001b[0m \u001b[0ma\u001b[0m \u001b[0;32min\u001b[0m \u001b[0martists\u001b[0m\u001b[0;34m:\u001b[0m\u001b[0;34m\u001b[0m\u001b[0;34m\u001b[0m\u001b[0m\n\u001b[0;32m--> 137\u001b[0;31m             \u001b[0ma\u001b[0m\u001b[0;34m.\u001b[0m\u001b[0mdraw\u001b[0m\u001b[0;34m(\u001b[0m\u001b[0mrenderer\u001b[0m\u001b[0;34m)\u001b[0m\u001b[0;34m\u001b[0m\u001b[0;34m\u001b[0m\u001b[0m\n\u001b[0m\u001b[1;32m    138\u001b[0m     \u001b[0;32melse\u001b[0m\u001b[0;34m:\u001b[0m\u001b[0;34m\u001b[0m\u001b[0;34m\u001b[0m\u001b[0m\n\u001b[1;32m    139\u001b[0m         \u001b[0;31m# Composite any adjacent images together\u001b[0m\u001b[0;34m\u001b[0m\u001b[0;34m\u001b[0m\u001b[0;34m\u001b[0m\u001b[0m\n",
      "\u001b[0;32m//anaconda3/envs/torch/lib/python3.8/site-packages/matplotlib/artist.py\u001b[0m in \u001b[0;36mdraw_wrapper\u001b[0;34m(artist, renderer, *args, **kwargs)\u001b[0m\n\u001b[1;32m     36\u001b[0m                 \u001b[0mrenderer\u001b[0m\u001b[0;34m.\u001b[0m\u001b[0mstart_filter\u001b[0m\u001b[0;34m(\u001b[0m\u001b[0;34m)\u001b[0m\u001b[0;34m\u001b[0m\u001b[0;34m\u001b[0m\u001b[0m\n\u001b[1;32m     37\u001b[0m \u001b[0;34m\u001b[0m\u001b[0m\n\u001b[0;32m---> 38\u001b[0;31m             \u001b[0;32mreturn\u001b[0m \u001b[0mdraw\u001b[0m\u001b[0;34m(\u001b[0m\u001b[0martist\u001b[0m\u001b[0;34m,\u001b[0m \u001b[0mrenderer\u001b[0m\u001b[0;34m,\u001b[0m \u001b[0;34m*\u001b[0m\u001b[0margs\u001b[0m\u001b[0;34m,\u001b[0m \u001b[0;34m**\u001b[0m\u001b[0mkwargs\u001b[0m\u001b[0;34m)\u001b[0m\u001b[0;34m\u001b[0m\u001b[0;34m\u001b[0m\u001b[0m\n\u001b[0m\u001b[1;32m     39\u001b[0m         \u001b[0;32mfinally\u001b[0m\u001b[0;34m:\u001b[0m\u001b[0;34m\u001b[0m\u001b[0;34m\u001b[0m\u001b[0m\n\u001b[1;32m     40\u001b[0m             \u001b[0;32mif\u001b[0m \u001b[0martist\u001b[0m\u001b[0;34m.\u001b[0m\u001b[0mget_agg_filter\u001b[0m\u001b[0;34m(\u001b[0m\u001b[0;34m)\u001b[0m \u001b[0;32mis\u001b[0m \u001b[0;32mnot\u001b[0m \u001b[0;32mNone\u001b[0m\u001b[0;34m:\u001b[0m\u001b[0;34m\u001b[0m\u001b[0;34m\u001b[0m\u001b[0m\n",
      "\u001b[0;32m//anaconda3/envs/torch/lib/python3.8/site-packages/matplotlib/lines.py\u001b[0m in \u001b[0;36mdraw\u001b[0;34m(self, renderer)\u001b[0m\n\u001b[1;32m    781\u001b[0m                 \u001b[0mself\u001b[0m\u001b[0;34m.\u001b[0m\u001b[0m_set_gc_clip\u001b[0m\u001b[0;34m(\u001b[0m\u001b[0mgc\u001b[0m\u001b[0;34m)\u001b[0m\u001b[0;34m\u001b[0m\u001b[0;34m\u001b[0m\u001b[0m\n\u001b[1;32m    782\u001b[0m \u001b[0;34m\u001b[0m\u001b[0m\n\u001b[0;32m--> 783\u001b[0;31m                 \u001b[0mlc_rgba\u001b[0m \u001b[0;34m=\u001b[0m \u001b[0mmcolors\u001b[0m\u001b[0;34m.\u001b[0m\u001b[0mto_rgba\u001b[0m\u001b[0;34m(\u001b[0m\u001b[0mself\u001b[0m\u001b[0;34m.\u001b[0m\u001b[0m_color\u001b[0m\u001b[0;34m,\u001b[0m \u001b[0mself\u001b[0m\u001b[0;34m.\u001b[0m\u001b[0m_alpha\u001b[0m\u001b[0;34m)\u001b[0m\u001b[0;34m\u001b[0m\u001b[0;34m\u001b[0m\u001b[0m\n\u001b[0m\u001b[1;32m    784\u001b[0m                 \u001b[0mgc\u001b[0m\u001b[0;34m.\u001b[0m\u001b[0mset_foreground\u001b[0m\u001b[0;34m(\u001b[0m\u001b[0mlc_rgba\u001b[0m\u001b[0;34m,\u001b[0m \u001b[0misRGBA\u001b[0m\u001b[0;34m=\u001b[0m\u001b[0;32mTrue\u001b[0m\u001b[0;34m)\u001b[0m\u001b[0;34m\u001b[0m\u001b[0;34m\u001b[0m\u001b[0m\n\u001b[1;32m    785\u001b[0m \u001b[0;34m\u001b[0m\u001b[0m\n",
      "\u001b[0;32m//anaconda3/envs/torch/lib/python3.8/site-packages/matplotlib/colors.py\u001b[0m in \u001b[0;36mto_rgba\u001b[0;34m(c, alpha)\u001b[0m\n\u001b[1;32m    183\u001b[0m         \u001b[0mrgba\u001b[0m \u001b[0;34m=\u001b[0m \u001b[0;32mNone\u001b[0m\u001b[0;34m\u001b[0m\u001b[0;34m\u001b[0m\u001b[0m\n\u001b[1;32m    184\u001b[0m     \u001b[0;32mif\u001b[0m \u001b[0mrgba\u001b[0m \u001b[0;32mis\u001b[0m \u001b[0;32mNone\u001b[0m\u001b[0;34m:\u001b[0m  \u001b[0;31m# Suppress exception chaining of cache lookup failure.\u001b[0m\u001b[0;34m\u001b[0m\u001b[0;34m\u001b[0m\u001b[0m\n\u001b[0;32m--> 185\u001b[0;31m         \u001b[0mrgba\u001b[0m \u001b[0;34m=\u001b[0m \u001b[0m_to_rgba_no_colorcycle\u001b[0m\u001b[0;34m(\u001b[0m\u001b[0mc\u001b[0m\u001b[0;34m,\u001b[0m \u001b[0malpha\u001b[0m\u001b[0;34m)\u001b[0m\u001b[0;34m\u001b[0m\u001b[0;34m\u001b[0m\u001b[0m\n\u001b[0m\u001b[1;32m    186\u001b[0m         \u001b[0;32mtry\u001b[0m\u001b[0;34m:\u001b[0m\u001b[0;34m\u001b[0m\u001b[0;34m\u001b[0m\u001b[0m\n\u001b[1;32m    187\u001b[0m             \u001b[0m_colors_full_map\u001b[0m\u001b[0;34m.\u001b[0m\u001b[0mcache\u001b[0m\u001b[0;34m[\u001b[0m\u001b[0mc\u001b[0m\u001b[0;34m,\u001b[0m \u001b[0malpha\u001b[0m\u001b[0;34m]\u001b[0m \u001b[0;34m=\u001b[0m \u001b[0mrgba\u001b[0m\u001b[0;34m\u001b[0m\u001b[0;34m\u001b[0m\u001b[0m\n",
      "\u001b[0;32m//anaconda3/envs/torch/lib/python3.8/site-packages/matplotlib/colors.py\u001b[0m in \u001b[0;36m_to_rgba_no_colorcycle\u001b[0;34m(c, alpha)\u001b[0m\n\u001b[1;32m    266\u001b[0m         \u001b[0;31m# float)` and `np.array(...).astype(float)` all convert \"0.5\" to 0.5.\u001b[0m\u001b[0;34m\u001b[0m\u001b[0;34m\u001b[0m\u001b[0;34m\u001b[0m\u001b[0m\n\u001b[1;32m    267\u001b[0m         \u001b[0;31m# Test dimensionality to reject single floats.\u001b[0m\u001b[0;34m\u001b[0m\u001b[0;34m\u001b[0m\u001b[0;34m\u001b[0m\u001b[0m\n\u001b[0;32m--> 268\u001b[0;31m         \u001b[0;32mraise\u001b[0m \u001b[0mValueError\u001b[0m\u001b[0;34m(\u001b[0m\u001b[0;34mf\"Invalid RGBA argument: {orig_c!r}\"\u001b[0m\u001b[0;34m)\u001b[0m\u001b[0;34m\u001b[0m\u001b[0;34m\u001b[0m\u001b[0m\n\u001b[0m\u001b[1;32m    269\u001b[0m     \u001b[0;31m# Return a tuple to prevent the cached value from being modified.\u001b[0m\u001b[0;34m\u001b[0m\u001b[0;34m\u001b[0m\u001b[0;34m\u001b[0m\u001b[0m\n\u001b[1;32m    270\u001b[0m     \u001b[0mc\u001b[0m \u001b[0;34m=\u001b[0m \u001b[0mtuple\u001b[0m\u001b[0;34m(\u001b[0m\u001b[0mc\u001b[0m\u001b[0;34m.\u001b[0m\u001b[0mastype\u001b[0m\u001b[0;34m(\u001b[0m\u001b[0mfloat\u001b[0m\u001b[0;34m)\u001b[0m\u001b[0;34m)\u001b[0m\u001b[0;34m\u001b[0m\u001b[0;34m\u001b[0m\u001b[0m\n",
      "\u001b[0;31mValueError\u001b[0m: Invalid RGBA argument: array([[0.0000000e+00, 1.3549244e-03, 0.0000000e+00],\n       [3.0454248e-06, 1.3492773e-03, 5.6130812e-06],\n       [6.7390501e-06, 1.3424410e-03, 1.2431759e-05],\n       ...,\n       [4.0065497e-06, 1.3474184e-03, 7.4072741e-06],\n       [2.2295862e-06, 1.3507628e-03, 4.1141175e-06],\n       [0.0000000e+00, 1.3549244e-03, 0.0000000e+00]], dtype=float32)"
     ]
    },
    {
     "data": {
      "text/plain": [
       "<Figure size 432x288 with 1 Axes>"
      ]
     },
     "metadata": {
      "needs_background": "light"
     },
     "output_type": "display_data"
    }
   ],
   "source": [
    "plt.plot(X[0, 0, 0].detach(), c=h[0, :3].detach().numpy().T - torch.min(h[0,:3].detach(), axis=1)[0].numpy())"
   ]
  },
  {
   "cell_type": "code",
   "execution_count": 173,
   "id": "72b2f0af",
   "metadata": {},
   "outputs": [
    {
     "data": {
      "text/plain": [
       "[<matplotlib.lines.Line2D at 0x13a9613a0>]"
      ]
     },
     "execution_count": 173,
     "metadata": {},
     "output_type": "execute_result"
    },
    {
     "data": {
      "image/png": "[encoded data removed]",
      "text/plain": [
       "<Figure size 432x288 with 1 Axes>"
      ]
     },
     "metadata": {
      "needs_background": "light"
     },
     "output_type": "display_data"
    }
   ],
   "source": [
    "plt.plot(h[0, 3].detach())"
   ]
  },
  {
   "cell_type": "code",
   "execution_count": 161,
   "id": "4fba4ce6",
   "metadata": {},
   "outputs": [
    {
     "data": {
      "text/plain": [
       "(tensor([[[-0.0292, -0.0291, -0.0291,  ..., -0.0291, -0.0292, -0.0292],\n",
       "          [ 0.0049,  0.0049,  0.0049,  ...,  0.0049,  0.0049,  0.0049],\n",
       "          [ 0.0046,  0.0046,  0.0046,  ...,  0.0046,  0.0046,  0.0046],\n",
       "          ...,\n",
       "          [-0.0203, -0.0203, -0.0203,  ..., -0.0203, -0.0203, -0.0203],\n",
       "          [ 0.0069,  0.0069,  0.0069,  ...,  0.0069,  0.0069,  0.0069],\n",
       "          [-0.0175, -0.0175, -0.0175,  ..., -0.0175, -0.0175, -0.0175]],\n",
       " \n",
       "         [[-0.0292, -0.0292, -0.0292,  ..., -0.0292, -0.0292, -0.0292],\n",
       "          [ 0.0049,  0.0049,  0.0049,  ...,  0.0049,  0.0049,  0.0049],\n",
       "          [ 0.0046,  0.0046,  0.0046,  ...,  0.0046,  0.0046,  0.0046],\n",
       "          ...,\n",
       "          [-0.0203, -0.0203, -0.0203,  ..., -0.0203, -0.0203, -0.0203],\n",
       "          [ 0.0069,  0.0069,  0.0069,  ...,  0.0069,  0.0069,  0.0069],\n",
       "          [-0.0175, -0.0175, -0.0175,  ..., -0.0175, -0.0175, -0.0175]],\n",
       " \n",
       "         [[-0.0292, -0.0291, -0.0291,  ..., -0.0291, -0.0291, -0.0292],\n",
       "          [ 0.0049,  0.0048,  0.0048,  ...,  0.0048,  0.0049,  0.0049],\n",
       "          [ 0.0046,  0.0046,  0.0047,  ...,  0.0046,  0.0046,  0.0046],\n",
       "          ...,\n",
       "          [-0.0203, -0.0203, -0.0203,  ..., -0.0203, -0.0203, -0.0203],\n",
       "          [ 0.0069,  0.0069,  0.0069,  ...,  0.0069,  0.0069,  0.0069],\n",
       "          [-0.0175, -0.0175, -0.0175,  ..., -0.0175, -0.0175, -0.0175]],\n",
       " \n",
       "         [[-0.0292, -0.0292, -0.0291,  ..., -0.0291, -0.0291, -0.0292],\n",
       "          [ 0.0049,  0.0049,  0.0049,  ...,  0.0049,  0.0049,  0.0049],\n",
       "          [ 0.0046,  0.0046,  0.0046,  ...,  0.0046,  0.0046,  0.0046],\n",
       "          ...,\n",
       "          [-0.0203, -0.0203, -0.0203,  ..., -0.0203, -0.0203, -0.0203],\n",
       "          [ 0.0069,  0.0069,  0.0069,  ...,  0.0069,  0.0069,  0.0069],\n",
       "          [-0.0175, -0.0175, -0.0175,  ..., -0.0175, -0.0175, -0.0175]]],\n",
       "        grad_fn=<MulBackward0>),\n",
       " tensor([[[-0.0568, -0.0568, -0.0568,  ..., -0.0568, -0.0568, -0.0568],\n",
       "          [ 0.0102,  0.0102,  0.0102,  ...,  0.0102,  0.0102,  0.0102],\n",
       "          [ 0.0092,  0.0092,  0.0092,  ...,  0.0092,  0.0092,  0.0092],\n",
       "          ...,\n",
       "          [-0.0386, -0.0386, -0.0386,  ..., -0.0386, -0.0386, -0.0386],\n",
       "          [ 0.0140,  0.0140,  0.0140,  ...,  0.0140,  0.0140,  0.0140],\n",
       "          [-0.0370, -0.0370, -0.0370,  ..., -0.0370, -0.0370, -0.0370]],\n",
       " \n",
       "         [[-0.0568, -0.0568, -0.0568,  ..., -0.0568, -0.0568, -0.0568],\n",
       "          [ 0.0102,  0.0102,  0.0102,  ...,  0.0102,  0.0102,  0.0102],\n",
       "          [ 0.0092,  0.0092,  0.0092,  ...,  0.0092,  0.0092,  0.0092],\n",
       "          ...,\n",
       "          [-0.0386, -0.0386, -0.0386,  ..., -0.0386, -0.0386, -0.0386],\n",
       "          [ 0.0140,  0.0140,  0.0140,  ...,  0.0140,  0.0140,  0.0140],\n",
       "          [-0.0370, -0.0370, -0.0370,  ..., -0.0370, -0.0370, -0.0370]],\n",
       " \n",
       "         [[-0.0568, -0.0568, -0.0567,  ..., -0.0568, -0.0568, -0.0568],\n",
       "          [ 0.0102,  0.0102,  0.0101,  ...,  0.0102,  0.0102,  0.0102],\n",
       "          [ 0.0092,  0.0092,  0.0093,  ...,  0.0093,  0.0092,  0.0092],\n",
       "          ...,\n",
       "          [-0.0386, -0.0386, -0.0386,  ..., -0.0386, -0.0386, -0.0386],\n",
       "          [ 0.0140,  0.0140,  0.0140,  ...,  0.0140,  0.0140,  0.0140],\n",
       "          [-0.0370, -0.0369, -0.0369,  ..., -0.0369, -0.0369, -0.0370]],\n",
       " \n",
       "         [[-0.0568, -0.0568, -0.0568,  ..., -0.0568, -0.0568, -0.0568],\n",
       "          [ 0.0102,  0.0102,  0.0102,  ...,  0.0102,  0.0102,  0.0102],\n",
       "          [ 0.0092,  0.0092,  0.0092,  ...,  0.0092,  0.0092,  0.0092],\n",
       "          ...,\n",
       "          [-0.0386, -0.0386, -0.0386,  ..., -0.0386, -0.0386, -0.0386],\n",
       "          [ 0.0140,  0.0140,  0.0140,  ...,  0.0140,  0.0140,  0.0140],\n",
       "          [-0.0370, -0.0370, -0.0370,  ..., -0.0370, -0.0370, -0.0370]]],\n",
       "        grad_fn=<AddBackward0>))"
      ]
     },
     "execution_count": 161,
     "metadata": {},
     "output_type": "execute_result"
    }
   ],
   "source": [
    "output[0], output[1] "
   ]
  },
  {
   "cell_type": "code",
   "execution_count": 78,
   "id": "861b4cae",
   "metadata": {},
   "outputs": [],
   "source": [
    "def plot_checkpoint(X, y_trg, y_pred, y_std, ys=None, input_factor=0.5, show=True, save=None,\n",
    "                    c_start=[0., 1., 1.], c_stop=[0., -1., 0.], c2_start=[1., 1., 0.], c2_stop=[0., -1., 0.]):\n",
    "    \n",
    "    if y_std is None:\n",
    "        y_std = [[] for _ in range(X.shape[0])]\n",
    "    \n",
    "    n_pts = X.shape[-1]\n",
    "    \n",
    "    n = X.shape[1] - 1\n",
    "    \n",
    "    colors = [[c0 + (i / n) * c1 for c0, c1 in zip(c_start, c_stop)] for i in range(n+1)]\n",
    "    \n",
    "    if ys is not None:\n",
    "        n2 = ys.shape[0] - 1\n",
    "        colors2 = [[c0 + (i / n2) * c1 for c0, c1 in zip(c2_start, c2_stop)] for i in range(n2+1)]\n",
    "    \n",
    "    for i, (Xi, yi_trg, yi_pred, yi_std) in enumerate(zip(X, y_trg, y_pred, y_std)):\n",
    "    \n",
    "        # Print target vs. pred\n",
    "        fig = plt.figure(figsize=(4,3))\n",
    "        ax = fig.add_subplot(1,1,1)\n",
    "        \n",
    "        ax.plot(yi_trg[0], linewidth=1.)\n",
    "        ax.plot(yi_pred[0], linewidth=1.)\n",
    "        \n",
    "        if len(yi_std) > 0:\n",
    "            ax.fill_between(range(n_pts), yi_pred[0] - yi_std[0], yi_pred[0] + yi_std[0], facecolor=\"C1\", alpha=0.3)\n",
    "        \n",
    "        ax.legend([\"Ground-truth\", \"Prediction\"])\n",
    "        \n",
    "        if show:\n",
    "            plt.show()\n",
    "            \n",
    "        if save is not None:\n",
    "            plt.savefig(save + f\"sample_{i+1}_pred.pdf\")\n",
    "            \n",
    "        plt.close()\n",
    "        \n",
    "        if ys is not None:\n",
    "            # Print target vs. all preds\n",
    "            fig = plt.figure(figsize=(4,3))\n",
    "            ax = fig.add_subplot(1,1,1)\n",
    "\n",
    "            h1 = ax.plot(yi_trg[0], linewidth=1.)\n",
    "            \n",
    "            for c, yi in zip(colors2, ys[:, i, 0, :]):\n",
    "                ax.plot(yi, linewidth=1., color=c)\n",
    "                \n",
    "            h2 = ax.plot(yi_pred[0], linewidth=1., color=\"k\")\n",
    "            \n",
    "            ax.legend([h1[0], h2[0]], [\"Ground-truth\", \"Prediction\"])\n",
    "\n",
    "            if show:\n",
    "                plt.show()\n",
    "\n",
    "            if save is not None:\n",
    "                plt.savefig(save + f\"sample_{i+1}_all_preds.pdf\")\n",
    "\n",
    "            plt.close()\n",
    "            \n",
    "            for j in range(ys.shape[0]):\n",
    "                # Print target vs. all preds\n",
    "                fig = plt.figure(figsize=(4,3))\n",
    "                ax = fig.add_subplot(1,1,1)\n",
    "\n",
    "                h1 = ax.plot(yi_trg[0], linewidth=1.)\n",
    "                \n",
    "                ax.plot(ys[j, i, 0, :], linewidth=1., color=colors2[j])\n",
    "\n",
    "                h2 = ax.plot(yi_pred[0], linewidth=1., color=\"k\")\n",
    "\n",
    "                ax.legend([h1[0], h2[0]], [\"Ground-truth\", \"Prediction\"])\n",
    "\n",
    "                if show:\n",
    "                    plt.show()\n",
    "\n",
    "                if save is not None:\n",
    "                    plt.savefig(save + f\"sample_{i+1}_pred_{j+1}.pdf\")\n",
    "\n",
    "                plt.close()\n",
    "        \n",
    "        # Print input and target\n",
    "        fig = plt.figure(figsize=(4,3))\n",
    "        ax = fig.add_subplot(1,1,1)\n",
    "        \n",
    "        for x, c in zip(Xi[:, 0, :], colors):\n",
    "            ax.plot(x / np.max(Xi[:, 0, :]), linewidth=1., color=c)\n",
    "        ax.plot(yi_trg[0] / np.max(yi_trg[0]) * input_factor, \"r\", linewidth=1.)\n",
    "        \n",
    "        if show:\n",
    "            plt.show()\n",
    "            \n",
    "        if save is not None:\n",
    "            plt.savefig(save + f\"sample_{i+1}_input.pdf\")\n",
    "            \n",
    "        plt.close()\n",
    "    \n",
    "    return"
   ]
  },
  {
   "cell_type": "code",
   "execution_count": 79,
   "id": "fba6f8c2",
   "metadata": {},
   "outputs": [],
   "source": [
    "sel_chk = [0, 1, 98]"
   ]
  },
  {
   "cell_type": "code",
   "execution_count": 80,
   "id": "b977c774",
   "metadata": {},
   "outputs": [
    {
     "name": "stdout",
     "output_type": "stream",
     "text": [
      "Checkpoint 1/100...\n",
      "  Loading model...\n",
      "  Performing predictions...\n",
      "  Plotting data...\n",
      "Checkpoint 2/100...\n",
      "  Loading model...\n",
      "  Performing predictions...\n",
      "  Plotting data...\n",
      "Checkpoint 99/100...\n",
      "  Loading model...\n",
      "  Performing predictions...\n",
      "  Plotting data...\n",
      "All done!\n"
     ]
    }
   ],
   "source": [
    "if eval_evolution:\n",
    "\n",
    "    fdir = fig_dir + \"eval_evolution/\"\n",
    "\n",
    "    if not os.path.exists(fdir):\n",
    "        os.mkdir(fdir)\n",
    "\n",
    "    for i in range(n_chk):\n",
    "        \n",
    "        if i in sel_chk:\n",
    "\n",
    "            print(f\"Checkpoint {i+1}/{n_chk}...\")\n",
    "\n",
    "            d = fdir + f\"checkpoint_{i+1}/\"\n",
    "            if not os.path.exists(d):\n",
    "                os.mkdir(d)\n",
    "\n",
    "            print(\"  Loading model...\")\n",
    "            net.load_state_dict(torch.load(in_dir + f\"checkpoint_{i+1}_network\", map_location=torch.device(\"cpu\")))\n",
    "            net.eval()\n",
    "\n",
    "            print(\"  Performing predictions...\")\n",
    "            y_pred, y_std, ys = net(X)\n",
    "            y_pred = y_pred.detach().numpy()\n",
    "            y_std = y_std.detach().numpy()\n",
    "            ys = ys.detach().numpy()\n",
    "\n",
    "            print(\"  Plotting data...\")\n",
    "            plot_checkpoint(X.numpy(), y.numpy(), y_pred, y_std, ys=ys, show=False, save=d)\n",
    "        \n",
    "print(\"All done!\")"
   ]
  },
  {
   "cell_type": "code",
   "execution_count": 12,
   "id": "63e89f03",
   "metadata": {},
   "outputs": [
    {
     "name": "stdout",
     "output_type": "stream",
     "text": [
      "Lower MAS range...\n",
      "  Performing predictions...\n",
      "  Plotting data...\n",
      "  Performing predictions...\n",
      "  Plotting data...\n",
      "  Performing predictions...\n",
      "  Plotting data...\n",
      "  Performing predictions...\n",
      "  Plotting data...\n",
      "  Performing predictions...\n",
      "  Plotting data...\n",
      "Higher MAS range...\n",
      "  Performing predictions...\n",
      "  Plotting data...\n",
      "  Performing predictions...\n",
      "  Plotting data...\n",
      "  Performing predictions...\n",
      "  Plotting data...\n",
      "  Performing predictions...\n",
      "  Plotting data...\n",
      "  Performing predictions...\n",
      "  Plotting data...\n",
      "All done!\n"
     ]
    }
   ],
   "source": [
    "if eval_sparse:\n",
    "    \n",
    "    # Load best model\n",
    "    net.load_state_dict(torch.load(in_dir + f\"checkpoint_{best_chk+1}_network\", map_location=torch.device(\"cpu\")))\n",
    "\n",
    "    fdir = fig_dir + \"eval_sparse/\"\n",
    "\n",
    "    if not os.path.exists(fdir):\n",
    "        os.mkdir(fdir)\n",
    "    \n",
    "    # Lower MAS inputs\n",
    "    print(\"Lower MAS range...\")\n",
    "    for i in range(model_pars[\"batch_input\"], X.shape[1]+1):\n",
    "        \n",
    "        d = fdir + f\"lower_{i}_rates/\"\n",
    "        if not os.path.exists(d):\n",
    "            os.mkdir(d)\n",
    "        \n",
    "        print(\"  Performing predictions...\")\n",
    "        y_pred, y_std, _ = net(X[:, :i])\n",
    "        y_pred = y_pred.detach().numpy()\n",
    "        y_std = y_std.detach().numpy()\n",
    "        \n",
    "        print(\"  Plotting data...\")\n",
    "        plot_checkpoint(X, y, y_std, y_pred, show=False, save=d)\n",
    "    \n",
    "    # Higher MAS inputs\n",
    "    print(\"Higher MAS range...\")\n",
    "    for i in range(model_pars[\"batch_input\"], X.shape[1]+1):\n",
    "        \n",
    "        d = fdir + f\"higher_{i}_rates/\"\n",
    "        if not os.path.exists(d):\n",
    "            os.mkdir(d)\n",
    "        \n",
    "        print(\"  Performing predictions...\")\n",
    "        y_pred, y_std, _ = net(X[:, -i:])\n",
    "        y_pred = y_pred.detach().numpy()\n",
    "        y_std = y_std.detach().numpy()\n",
    "        \n",
    "        print(\"  Plotting data...\")\n",
    "        plot_checkpoint(X, y, y_std, y_pred, show=False, save=d)\n",
    "        \n",
    "print(\"All done!\")"
   ]
  },
  {
   "cell_type": "code",
   "execution_count": 13,
   "id": "d3893f05",
   "metadata": {},
   "outputs": [
    {
     "name": "stdout",
     "output_type": "stream",
     "text": [
      "All done!\n"
     ]
    }
   ],
   "source": [
    "if eval_noise:\n",
    "    \n",
    "    # Load best model\n",
    "    net.load_state_dict(torch.load(in_dir + f\"checkpoint_{best_chk+1}_network\", map_location=torch.device(\"cpu\")))\n",
    "\n",
    "    fdir = fig_dir + \"eval_noise/\"\n",
    "\n",
    "    if not os.path.exists(fdir):\n",
    "        os.mkdir(fdir)\n",
    "    \n",
    "    for noise in noise_levels:\n",
    "        \n",
    "        break\n",
    "        \n",
    "        print(f\"Noise level {noise:.0e}...\")\n",
    "        \n",
    "        d = fdir + f\"noise_level_{noise:.0e}/\"\n",
    "        if not os.path.exists(d):\n",
    "            os.mkdir(d)\n",
    "        \n",
    "        # Generate noisy data\n",
    "        X2 = X.clone() + (torch.randn(X.shape) * noise)\n",
    "        \n",
    "        print(\"  Performing predictions...\")\n",
    "        y_pred, y_std, _ = net(X2)\n",
    "        y_pred = y_pred.detach().numpy()\n",
    "        y_std = y_std.detach().numpy()\n",
    "        \n",
    "        print(\"  Plotting data...\")\n",
    "        plot_checkpoint(X2, y, y_std, y_pred, show=False, save=d)\n",
    "        \n",
    "        print(\"Normalizing noisy spectra...\")\n",
    "        \n",
    "        d = fdir + f\"noise_level_{noise:.0e}_norm/\"\n",
    "        if not os.path.exists(d):\n",
    "            os.mkdir(d)\n",
    "        \n",
    "        vals_min, _ = torch.min(X2[:, :, 0], dim=-1)\n",
    "        vals_min = torch.unsqueeze(vals_min, -1)\n",
    "        X2[:, :, 0] -= vals_min\n",
    "        \n",
    "        print(\"  Performing predictions...\")\n",
    "        y_pred, y_std, _ = net(X2)\n",
    "        y_pred = y_pred.detach().numpy()\n",
    "        y_std = y_std.detach().numpy()\n",
    "        \n",
    "        print(\"  Plotting data...\")\n",
    "        plot_checkpoint(X2, y, y_std, y_pred, show=False, save=d)\n",
    "    \n",
    "print(\"All done!\")"
   ]
  },
  {
   "cell_type": "markdown",
   "id": "3b1059fd",
   "metadata": {},
   "source": [
    "# Evaluate experimental data"
   ]
  },
  {
   "cell_type": "code",
   "execution_count": 81,
   "id": "b74598de",
   "metadata": {},
   "outputs": [],
   "source": [
    "def load_topspin_spectrum(d):\n",
    "    \n",
    "    pd = f\"{d}pdata/1/\"\n",
    "    \n",
    "    fr = pd + \"1r\"\n",
    "    fi = pd + \"1i\"\n",
    "    \n",
    "    try:\n",
    "\n",
    "        with open(fr, \"rb\") as F:\n",
    "            dr = np.fromfile(F, np.int32).astype(float)\n",
    "\n",
    "        with open(fi, \"rb\") as F:\n",
    "            di = np.fromfile(F, np.int32).astype(float)\n",
    "        \n",
    "        with open(f\"{d}acqus\", \"r\") as F:\n",
    "            lines = F.read().split(\"\\n\")\n",
    "        \n",
    "        for l in lines:\n",
    "            if l.startswith(\"##$MASR\"):\n",
    "                wr = float(l.split(\"=\")[1].strip())\n",
    "\n",
    "    except:\n",
    "        dr = np.array([])\n",
    "        di = np.array([])\n",
    "        wr = -1\n",
    "    \n",
    "    return dr, di, wr"
   ]
  },
  {
   "cell_type": "code",
   "execution_count": 86,
   "id": "74b13c6e",
   "metadata": {},
   "outputs": [],
   "source": [
    "def plot_exp(X, y_pred, y_std, ys=None, y_trg=None, input_factor=0.5, show=True, save=None,\n",
    "             c_start=[0., 1., 1.], c_stop=[0., -1., 0.], c2_start=[1., 1., 0.], c2_stop=[0., -1., 0.]):\n",
    "    \n",
    "    n_pts = X.shape[-1]\n",
    "    n = X.shape[1] - 1\n",
    "    \n",
    "    colors = [[c0 + (i / n) * c1 for c0, c1 in zip(c_start, c_stop)] for i in range(n+1)]\n",
    "    \n",
    "    if ys is not None:\n",
    "        n2 = ys.shape[0] - 1\n",
    "        colors2 = [[c0 + (i / n2) * c1 for c0, c1 in zip(c2_start, c2_stop)] for i in range(n2+1)]\n",
    "    \n",
    "    if y_trg is not None:\n",
    "        \n",
    "        # Print target vs. pred\n",
    "        fig = plt.figure(figsize=(4,3))\n",
    "        ax = fig.add_subplot(1,1,1)\n",
    "\n",
    "        ax.plot(y_trg[0, 0], linewidth=0.5)\n",
    "        ax.plot(y_pred[0, 0], linewidth=0.5)\n",
    "\n",
    "        if len(y_std[0]) > 0:\n",
    "            ax.fill_between(range(n_pts), y_pred[0, 0] - y_std[0, 0], y_pred[0, 0] + y_std[0, 0], facecolor=\"C1\", alpha=0.3)\n",
    "\n",
    "        ax.legend([\"Ground-truth\", \"Prediction\"])\n",
    "\n",
    "        if show:\n",
    "            plt.show()\n",
    "\n",
    "        if save is not None:\n",
    "            plt.savefig(save + \"_gt_vs_pred.pdf\")\n",
    "\n",
    "        plt.close()\n",
    "\n",
    "        # Print input and target\n",
    "        fig = plt.figure(figsize=(4,3))\n",
    "        ax = fig.add_subplot(1,1,1)\n",
    "        \n",
    "        for c, x in zip(colors, X[0, :, 0, :]):\n",
    "            ax.plot(x / np.max(x), linewidth=0.5, color=c)\n",
    "            \n",
    "        ax.plot(y_trg[0, 0] / np.max(y_trg[0, 0]) * input_factor, \"r\", linewidth=0.5)\n",
    "\n",
    "        if show:\n",
    "            plt.show()\n",
    "\n",
    "        if save is not None:\n",
    "            plt.savefig(save + \"_X_vs_gt.pdf\")\n",
    "\n",
    "        plt.close()\n",
    "    \n",
    "    # Print input and pred\n",
    "    fig = plt.figure(figsize=(4,3))\n",
    "    ax = fig.add_subplot(1,1,1)\n",
    "\n",
    "    for c, x in zip(colors, X[0, :, 0, :]):\n",
    "            ax.plot(x / np.max(x), linewidth=0.5, color=c)\n",
    "    \n",
    "    ax.plot(y_pred[0, 0] / np.max(y_pred[0, 0]) * input_factor, \"r\", linewidth=0.5)\n",
    "\n",
    "    if len(y_std[0]) > 0:\n",
    "        ax.fill_between(range(n_pts), y_pred[0, 0] - y_std[0, 0], y_pred[0, 0] + y_std[0, 0], facecolor=\"C1\", alpha=0.3)\n",
    "\n",
    "    if show:\n",
    "        plt.show()\n",
    "\n",
    "    if save is not None:\n",
    "        plt.savefig(save + \"_X_vs_pred.pdf\")\n",
    "\n",
    "    plt.close()\n",
    "    \n",
    "    if ys is not None:\n",
    "        # Print input and pred\n",
    "        fig = plt.figure(figsize=(4,3))\n",
    "        ax = fig.add_subplot(1,1,1)\n",
    "\n",
    "        for c, x in zip(colors, X[0, :, 0, :]):\n",
    "            ax.plot(x / np.max(x), linewidth=0.5, color=c)\n",
    "        \n",
    "        for c, y in zip(colors2, ys[:, 0, 0, :]):\n",
    "            ax.plot(y / np.max(y) * input_factor, linewidth=0.5, color=c)\n",
    "\n",
    "        ax.plot(y_pred[0, 0] / np.max(y_pred[0, 0]) * input_factor, \"k\", linewidth=0.5)\n",
    "\n",
    "        if show:\n",
    "            plt.show()\n",
    "\n",
    "        if save is not None:\n",
    "            plt.savefig(save + \"_X_vs_all_preds.pdf\")\n",
    "\n",
    "        plt.close()\n",
    "        \n",
    "        for j in range(ys.shape[0]):\n",
    "            # Print input and pred\n",
    "            fig = plt.figure(figsize=(4,3))\n",
    "            ax = fig.add_subplot(1,1,1)\n",
    "\n",
    "            for c, x in zip(colors, X[0, :, 0, :]):\n",
    "                ax.plot(x / np.max(x), linewidth=0.5, color=c)\n",
    "\n",
    "            ax.plot(ys[j, 0, 0, :] / np.max(y) * input_factor, linewidth=0.5, color=colors2[j])\n",
    "\n",
    "            ax.plot(y_pred[0, 0] / np.max(y_pred[0, 0]) * input_factor, \"k\", linewidth=0.5)\n",
    "\n",
    "            if show:\n",
    "                plt.show()\n",
    "\n",
    "            if save is not None:\n",
    "                plt.savefig(save + f\"_X_vs_pred_{j+1}.pdf\")\n",
    "\n",
    "            plt.close()\n",
    "    \n",
    "    return"
   ]
  },
  {
   "cell_type": "code",
   "execution_count": 87,
   "id": "6503e72b",
   "metadata": {},
   "outputs": [
    {
     "name": "stdout",
     "output_type": "stream",
     "text": [
      "All done!\n"
     ]
    }
   ],
   "source": [
    "if eval_exp:\n",
    "    \n",
    "    # Load best model\n",
    "    net.load_state_dict(torch.load(in_dir + f\"checkpoint_{best_chk+1}_network\", map_location=torch.device(\"cpu\")))\n",
    "    \n",
    "    fdir = fig_dir + \"eval_exp/\"\n",
    "    if not os.path.exists(fdir):\n",
    "        os.mkdir(fdir)\n",
    "\n",
    "    exp_mas = []\n",
    "    exp_wrs = []\n",
    "    exp_trg = []\n",
    "\n",
    "    for compound in exp_compounds:\n",
    "\n",
    "        comp_mas = []\n",
    "        comp_wrs = []\n",
    "\n",
    "        d = f\"{exp_dir}{compound}/\"\n",
    "\n",
    "        i0 = -1\n",
    "        n_exp = 0\n",
    "        ds = os.listdir(d)\n",
    "        for di in ds:\n",
    "            if os.path.isdir(d + di):\n",
    "                i = int(di)\n",
    "                n_exp = max(n_exp, i)\n",
    "\n",
    "                if i0 == -1 or i < i0:\n",
    "                    i0 = i\n",
    "\n",
    "        l = -1\n",
    "\n",
    "        for i in range(i0, n_exp):\n",
    "            Xr, Xi, wr = load_topspin_spectrum(f\"{d}{i+1}/\")\n",
    "\n",
    "            if l == -1 and Xr.shape[0] > 0:\n",
    "                l = Xr.shape[0]\n",
    "\n",
    "            if Xr.shape[0] == l:\n",
    "                comp_mas.append(Xr)\n",
    "                comp_wrs.append(wr)\n",
    "\n",
    "        # Normalize spectra\n",
    "        comp_mas = np.array(comp_mas)\n",
    "        comp_mas /= np.mean(comp_mas, axis=1)[:, np.newaxis]\n",
    "        M = np.max(comp_mas)\n",
    "        comp_mas *= 0.25 / M\n",
    "\n",
    "        # Sort by MAS rate\n",
    "        inds = np.argsort(comp_wrs)\n",
    "\n",
    "        exp_mas.append(np.array(comp_mas)[inds])\n",
    "        exp_wrs.append(np.array(comp_wrs)[inds])\n",
    "    \n",
    "    Xs = []\n",
    "\n",
    "    for comp, exp in zip(exp_compounds, exp_mas):\n",
    "        x = torch.Tensor(exp[:, exp_range[comp][0]:exp_range[comp][1]])\n",
    "\n",
    "        x = torch.unsqueeze(x, 0)\n",
    "        x = torch.unsqueeze(x, 2)\n",
    "        Xs.append(x)\n",
    "    \n",
    "    for i, compound in enumerate(exp_compounds):\n",
    "    \n",
    "        wr_inds = []\n",
    "\n",
    "        for wr in sel_wrs:\n",
    "            wr_inds.append(np.argmin(np.abs(exp_wrs[i] - wr)))\n",
    "\n",
    "        X = Xs[i][:, wr_inds, :, :]\n",
    "\n",
    "        y_pred, y_std, ys = net(X)\n",
    "\n",
    "        plot_exp(Xs[i].numpy(), y_pred.detach().numpy(), y_std.detach().numpy(), ys=ys.detach().numpy(), show=False, save=f\"{fdir}{compound}\")\n",
    "\n",
    "print(\"All done!\")"
   ]
  },
  {
   "cell_type": "code",
   "execution_count": 88,
   "id": "161e5886",
   "metadata": {},
   "outputs": [
    {
     "data": {
      "text/plain": [
       "{'n_models': 15,\n",
       " 'input_dim': 1,\n",
       " 'hidden_dim': 64,\n",
       " 'kernel_size': [[1, 1, 1, 1, 1, 1],\n",
       "  [1, 1, 1, 1, 1, 1],\n",
       "  [1, 1, 1, 1, 1, 1],\n",
       "  [3, 3, 3, 3, 3, 3],\n",
       "  [3, 3, 3, 3, 3, 3],\n",
       "  [3, 3, 3, 3, 3, 3],\n",
       "  [5, 5, 5, 5, 5, 5],\n",
       "  [5, 5, 5, 5, 5, 5],\n",
       "  [5, 5, 5, 5, 5, 5],\n",
       "  [7, 7, 7, 7, 7, 7],\n",
       "  [7, 7, 7, 7, 7, 7],\n",
       "  [7, 7, 7, 7, 7, 7],\n",
       "  [9, 9, 9, 9, 9, 9],\n",
       "  [9, 9, 9, 9, 9, 9],\n",
       "  [9, 9, 9, 9, 9, 9]],\n",
       " 'num_layers': 6,\n",
       " 'final_kernel_size': [1, 5, 9, 1, 5, 9, 1, 5, 9, 1, 5, 9, 1, 5, 9],\n",
       " 'batch_input': 4,\n",
       " 'bias': True,\n",
       " 'final_bias': True,\n",
       " 'return_all_layers': True,\n",
       " 'final_act': 'linear',\n",
       " 'noise': 0.0}"
      ]
     },
     "execution_count": 88,
     "metadata": {},
     "output_type": "execute_result"
    }
   ],
   "source": [
    "model_pars"
   ]
  },
  {
   "cell_type": "code",
   "execution_count": null,
   "id": "f7eb7098",
   "metadata": {},
   "outputs": [],
   "source": []
  }
 ],
 "metadata": {
  "kernelspec": {
   "display_name": "torch",
   "language": "python",
   "name": "torch"
  },
  "language_info": {
   "codemirror_mode": {
    "name": "ipython",
    "version": 3
   },
   "file_extension": ".py",
   "mimetype": "text/x-python",
   "name": "python",
   "nbconvert_exporter": "python",
   "pygments_lexer": "ipython3",
   "version": "3.8.8"
  }
 },
 "nbformat": 4,
 "nbformat_minor": 5
}
