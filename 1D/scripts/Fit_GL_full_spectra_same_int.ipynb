{
 "cells": [
  {
   "cell_type": "code",
   "execution_count": 1,
   "id": "b48c4f58",
   "metadata": {
    "tags": []
   },
   "outputs": [],
   "source": [
    "import numpy as np\n",
    "import os\n",
    "import sys\n",
    "import copy\n",
    "\n",
    "import torch\n",
    "torch.set_num_threads=4\n",
    "from torch import nn\n",
    "import scipy as sp\n",
    "\n",
    "import importlib\n",
    "import pickle as pk\n",
    "\n",
    "import matplotlib as mpl\n",
    "import matplotlib.pyplot as plt\n",
    "import matplotlib.animation as anm\n",
    "\n",
    "sys.path.insert(0, \"../src/\")\n",
    "import data\n",
    "import model\n",
    "import train\n",
    "\n",
    "#import nmrglue as ng\n",
    "import scipy as sp\n",
    "import scipy.interpolate as ip\n",
    "import scipy.optimize as op\n",
    "import scipy.signal as sg\n",
    "import scipy.io\n",
    "\n",
    "import tqdm.auto as tqdm\n",
    "\n",
    "np.random.seed(123)"
   ]
  },
  {
   "cell_type": "code",
   "execution_count": 2,
   "id": "63b0b7ca-a2f8-4935-a9e2-328ed9ee7432",
   "metadata": {},
   "outputs": [],
   "source": [
    "exp_dir = f\"../data/experimental_spectra/topspin/4096/\"\n",
    "exp_compounds = [\"ampicillin\", \"aspala\", \"flutamide\", \"histidine\", \"thymol\", \"tyrosine\", \"mdma\"]\n",
    "exp_range = {\"ampicillin\": [1500, 2500],\n",
    "             \"aspala\": [1500, 2500],\n",
    "             \"flutamide\": [1500, 2500],\n",
    "             \"histidine\": [1500, 2500],\n",
    "             \"thymol\": [1500, 2500],\n",
    "             \"tyrosine\": [1500, 2500],\n",
    "             \"mdma\": [1600, 2400],\n",
    "            }\n",
    "\n",
    "fit_ranges = {\"ampicillin\": [[9.5, 12.]],\n",
    "              \"aspala\": [[12., 15.], [-2., 1.5]],\n",
    "              \"flutamide\": [[9.5, 12.]],\n",
    "              \"histidine\": [[16., 20.], [11.5, 13.5], [4.5, 6.]],\n",
    "              \"thymol\": [[8.5, 15.]],\n",
    "              \"tyrosine\": [[12., 14.], [9.5, 11.5], [-2., 3.]],\n",
    "              \"mdma\": [[1., 3.8]]}\n",
    "bounds = [(None, None), (1.e-6, None), (0., 1.), (0., None)]\n",
    "bounds_v = [(None, None), (1.e-6, None), (1.e-6, None), (0., None)]\n",
    "\n",
    "ylabs_v = [\"p\", \"wg\", \"wl\", \"h\"]\n",
    "ylabs_s = [\"p\", \"w\", \"m\", \"h\"]\n",
    "ylabs_p = [\"p\", \"w\", \"m\", \"h\"]\n",
    "\n",
    "w0s = np.linspace(0.1, 1, 10)\n",
    "min_w_fit = 40000.\n",
    "\n",
    "fig_dir = \"../figures/GL_fitting_full_spectra_same_int/\"\n",
    "if not os.path.exists(fig_dir):\n",
    "    os.mkdir(fig_dir)\n",
    "    \n",
    "iso_dir = \"../data/experimental_spectra/iso/\"\n",
    "exp_res = {\"ampicillin\": [\"4k\", \"4k\", \"4k\", \"4k\"],\n",
    "           \"aspala\": [\"4k\", \"4k\", \"4k\", \"4k\", \"4k\"],\n",
    "           \"flutamide\": [\"2k\", \"2k\", \"2k\", \"2k\"],\n",
    "           \"histidine\": [\"4k\", \"4k\", \"4k\", \"4k\", \"4k\"],\n",
    "           \"thymol\": [\"4k\", \"4k\", \"4k\", \"4k\"],\n",
    "           \"tyrosine\": [\"4k\", \"4k\", \"4k\", \"4k\", \"4k\"],\n",
    "           \"mdma\": [\"4k\", \"4k\", \"4k\", \"4k\"]}\n",
    "exp_parts = {'ampicillin': ['NH3', 'NHAr5', 'Ar6104b', 'Me2'],\n",
    "             'aspala': ['OH', 'NHNH3', 'CHCH', 'CH2', 'CH3'],\n",
    "             'flutamide': ['H5b', 'H38', 'H6', 'H101112'],\n",
    "             'histidine': ['H5', 'H7', 'H618', 'H9', 'H342'],\n",
    "             'thymol': ['H7', 'H321c', 'H4', 'H556'],\n",
    "             'tyrosine': ['COOH', 'OH', 'NH3H76', 'H5823', 'H3dia'],\n",
    "             \"mdma\": [\"R1ph_og_divby1456\", \"R2ph_og_divby1456\", \"R3ph_og_divby1456\", \"R4ph_og_divby1456\"]}"
   ]
  },
  {
   "cell_type": "markdown",
   "id": "57caf186",
   "metadata": {},
   "source": [
    "# Load experimental data"
   ]
  },
  {
   "cell_type": "code",
   "execution_count": 3,
   "id": "72555c7a-be63-4473-9f98-67e12ad29a5d",
   "metadata": {},
   "outputs": [],
   "source": [
    "def inverse_mas_fit(wr, a, b):\n",
    "    \n",
    "    y = a + b / wr\n",
    "    \n",
    "    return y"
   ]
  },
  {
   "cell_type": "code",
   "execution_count": 4,
   "id": "77bc41de-e9e2-42f5-8dd9-1ff12ae9a1df",
   "metadata": {},
   "outputs": [],
   "source": [
    "def inverse_mas2_fit(wr, a, b, c):\n",
    "    \n",
    "    y = a + b / wr + c / (np.square(wr))\n",
    "    \n",
    "    return y"
   ]
  },
  {
   "cell_type": "code",
   "execution_count": 5,
   "id": "90b48ba3",
   "metadata": {},
   "outputs": [],
   "source": [
    "def load_topspin_spectrum(d):\n",
    "    \n",
    "    pd = f\"{d}pdata/1/\"\n",
    "    \n",
    "    fr = pd + \"1r\"\n",
    "    fi = pd + \"1i\"\n",
    "\n",
    "    with open(fr, \"rb\") as F:\n",
    "        dr = np.fromfile(F, np.int32).astype(float)\n",
    "\n",
    "    with open(fi, \"rb\") as F:\n",
    "        di = np.fromfile(F, np.int32).astype(float)\n",
    "\n",
    "    with open(f\"{d}acqus\", \"r\") as F:\n",
    "        lines = F.read().split(\"\\n\")\n",
    "\n",
    "    for l in lines:\n",
    "        if l.startswith(\"##$MASR\"):\n",
    "            wr = int(l.split(\"=\")[1].strip())\n",
    "        if l.startswith(\"##$TD=\"):\n",
    "            TD = int(l.split(\"=\")[1].strip())\n",
    "        if l.startswith(\"##$SW_h=\"):\n",
    "            SW = float(l.split(\"=\")[1].strip())\n",
    "\n",
    "    with open(f\"{pd}procs\", \"r\") as F:\n",
    "        lines = F.read().split(\"\\n\")\n",
    "\n",
    "    for l in lines:\n",
    "        if l.startswith(\"##$SI=\"):\n",
    "            n_pts = int(l.split(\"=\")[1].strip())\n",
    "\n",
    "        if l.startswith(\"##$OFFSET=\"):\n",
    "            offset = float(l.split(\"=\")[1].strip())\n",
    "\n",
    "        if l.startswith(\"##$SF=\"):\n",
    "            SF = float(l.split(\"=\")[1].strip())\n",
    "            \n",
    "    AQ = TD / (2 * SW)\n",
    "\n",
    "    hz = offset * SF - np.arange(n_pts) / (2 * AQ * n_pts / TD)\n",
    "    \n",
    "    ppm = hz / SF\n",
    "\n",
    "    return dr, di, wr, ppm, hz"
   ]
  },
  {
   "cell_type": "code",
   "execution_count": 6,
   "id": "df7cbcfc",
   "metadata": {},
   "outputs": [],
   "source": [
    "def extract_exp_topspin(in_dir, compound):\n",
    "    \n",
    "    d0 = f\"{in_dir}{compound}/\"\n",
    "    \n",
    "    ws = []\n",
    "    X = []\n",
    "    \n",
    "    for d in os.listdir(d0):\n",
    "        if d.isnumeric():\n",
    "            Xi, _, wr, ppm, hz = load_topspin_spectrum(f\"{d0}{d}/\")\n",
    "            X.append(Xi)\n",
    "            ws.append(wr)\n",
    "    \n",
    "    sorted_inds = np.argsort(ws)\n",
    "    \n",
    "    sorted_ws = np.array([ws[i] for i in sorted_inds])\n",
    "    \n",
    "    sorted_X = np.array([X[i] for i in sorted_inds])\n",
    "    \n",
    "    return ppm, sorted_ws, sorted_X"
   ]
  },
  {
   "cell_type": "code",
   "execution_count": 7,
   "id": "d9165aaa-b36b-44d2-a48b-f084f5f51150",
   "metadata": {},
   "outputs": [],
   "source": [
    "def get_maximum(ppm, X, r, method=\"direct\"):\n",
    "    \n",
    "    r0 = min(r)\n",
    "    r1 = max(r)\n",
    "    \n",
    "    if method == \"direct\":\n",
    "        \n",
    "        inds = np.where(np.logical_and(ppm > r0, ppm < r1))[0]\n",
    "        \n",
    "        i0 = np.argmax(X[inds])\n",
    "        w0 = ppm[inds[i0]]\n",
    "        \n",
    "    elif method == \"interp\":\n",
    "        \n",
    "        inds = np.where(np.logical_and(ppm > r0, ppm < r1))[0]\n",
    "        f = ip.interp1d(range(len(inds)), X[inds], kind=\"cubic\")\n",
    "        \n",
    "        x = np.linspace(0, len(inds)-1, 1001)\n",
    "        x_ppm = ppm[inds[0]] + x * (ppm[inds[1]] - ppm[inds[0]])\n",
    "        y = f(x)\n",
    "        w0 = x_ppm[np.argmax(y)]\n",
    "        \n",
    "    else:\n",
    "        raise ValueError(f\"Unknown method: {method}\")\n",
    "    \n",
    "    return w0"
   ]
  },
  {
   "cell_type": "code",
   "execution_count": 8,
   "id": "6d3542ce-539c-4eef-94dd-340d469f6d4c",
   "metadata": {},
   "outputs": [],
   "source": [
    "def shift_spectrum(hz, Xr, Xi, dw):\n",
    "    \n",
    "    n = Xr.shape[0]\n",
    "    t = np.arange(n) / np.abs(hz[1] - hz[0]) / n\n",
    "    \n",
    "    X = Xr + 1j * Xi\n",
    "    \n",
    "    T = np.fft.ifft(X)\n",
    "    \n",
    "    T *= np.exp(1j*dw*t * 2 * np.pi)\n",
    "    X = np.fft.fft(T)\n",
    "    Xr = np.real(X)\n",
    "    Xi = np.imag(X)\n",
    "    \n",
    "    return Xr, Xi"
   ]
  },
  {
   "cell_type": "code",
   "execution_count": 9,
   "id": "17921a87-fa1c-4a48-a6fc-7b458d366c4f",
   "metadata": {},
   "outputs": [],
   "source": [
    "def extract_and_shift_exp_topspin(in_dir, compound, align_region, align_ind=-1, method=\"interp\"):\n",
    "    \n",
    "    d0 = f\"{in_dir}{compound}/\"\n",
    "    \n",
    "    ws = []\n",
    "    X_real = []\n",
    "    X_imag = []\n",
    "    for d in os.listdir(d0):\n",
    "        if d.isnumeric():\n",
    "            Xr, Xi, wr, ppm, hz = load_topspin_spectrum(f\"{d0}{d}/\")\n",
    "            X_real.append(Xr)\n",
    "            X_imag.append(Xi)\n",
    "            ws.append(wr)\n",
    "    \n",
    "    sorted_inds = np.argsort(ws)\n",
    "    \n",
    "    sorted_ws = np.array([ws[i] for i in sorted_inds])\n",
    "    \n",
    "    sorted_Xr = np.array([X_real[i] for i in sorted_inds])\n",
    "    sorted_Xi = np.array([X_imag[i] for i in sorted_inds])\n",
    "    \n",
    "    # Extract target shift\n",
    "    align_region_hz = [hz[np.argmin(np.abs(ppm - align_region[0]))], hz[np.argmin(np.abs(ppm - align_region[1]))]]\n",
    "    w0 = get_maximum(hz, sorted_Xr[align_ind], align_region_hz, method=method)\n",
    "    w0_ppm = get_maximum(ppm, sorted_Xr[align_ind], align_region, method=method)\n",
    "    \n",
    "    shifted_Xr = []\n",
    "    shifted_Xi = []\n",
    "    all_dw = []\n",
    "    all_dw_ppm = []\n",
    "    \n",
    "    all_w = []\n",
    "    for Xr, Xi in zip(sorted_Xr, sorted_Xi):\n",
    "        # Get actual shift\n",
    "        this_w = get_maximum(hz, Xr, align_region_hz, method=method)\n",
    "        this_w_ppm = get_maximum(ppm, Xr, align_region, method=method)\n",
    "        dw = this_w - w0\n",
    "        all_dw.append(this_w- w0)\n",
    "        all_dw_ppm.append(this_w_ppm- w0_ppm)\n",
    "        \n",
    "        # Shift spectrum\n",
    "        Xr2, Xi2 = shift_spectrum(hz, Xr, Xi, dw)\n",
    "        \n",
    "        shifted_Xr.append(Xr2)\n",
    "        shifted_Xi.append(Xi2)\n",
    "    \n",
    "    return ppm, sorted_ws, np.array(shifted_Xr), np.array(shifted_Xi), np.array(all_dw), np.array(all_dw_ppm), sorted_Xr, sorted_Xi"
   ]
  },
  {
   "cell_type": "code",
   "execution_count": 10,
   "id": "531b218c",
   "metadata": {},
   "outputs": [],
   "source": [
    "def extract_fit_model(in_dir, compound, parts, res):\n",
    "    \n",
    "    if compound == \"mdma\":\n",
    "        c = compound\n",
    "    else:\n",
    "        c = compound[:3]\n",
    "    \n",
    "    ys_part_means = []\n",
    "    ys_part_stds = []\n",
    "    ys_ppms = []\n",
    "    \n",
    "    if len(parts) == 0 or len(res) == 0:\n",
    "        return [], [], []\n",
    "    \n",
    "    for p, n in zip(parts, res):\n",
    "        \n",
    "        \n",
    "        d = f\"{in_dir}{compound}_{n}/\"\n",
    "        \n",
    "        if not os.path.exists(d):\n",
    "            return [], [], []\n",
    "    \n",
    "        ys_part = []\n",
    "\n",
    "        i_guess = 1\n",
    "        while os.path.exists(f\"{d}{c}_{p}_guess_r{i_guess}.mat\"):\n",
    "\n",
    "            m = scipy.io.loadmat(f\"{d}{c}_{p}_guess_r{i_guess}.mat\")\n",
    "\n",
    "            ys_part.append(m[\"x\"][:-3])\n",
    "            ppm = m[\"ppm\"][0, m[\"range\"][0]]\n",
    "            \n",
    "            i_guess += 1\n",
    "        \n",
    "        if len(ys_ppms) > 0:\n",
    "            already_ppms = np.concatenate(ys_ppms, axis=0)\n",
    "            inds = np.where(np.logical_or(ppm < np.min(already_ppms), ppm > np.max(already_ppms)))[0]\n",
    "        else:\n",
    "            inds = range(len(ppm))\n",
    "        \n",
    "        ys_ppms.append(ppm[inds])\n",
    "        ys_part = np.concatenate(ys_part, axis=1)\n",
    "        ys_part_means.append(np.mean(ys_part, axis=1)[inds])\n",
    "        ys_part_stds.append(np.std(ys_part, axis=1)[inds])\n",
    "    \n",
    "    ys_ppms = np.concatenate(ys_ppms, axis=0)\n",
    "    ys_part_means = np.concatenate(ys_part_means, axis=0)\n",
    "    ys_part_stds = np.concatenate(ys_part_stds, axis=0)\n",
    "    \n",
    "    return ys_ppms, ys_part_means, ys_part_stds"
   ]
  },
  {
   "cell_type": "code",
   "execution_count": 11,
   "id": "085fee80-5de8-4228-890b-d1ad5a8dbe25",
   "metadata": {},
   "outputs": [],
   "source": [
    "def voigt(x, p, wg, wl, h, eps=1e-12):\n",
    "    \n",
    "    G = np.exp(-4 * np.log(2) * np.square(x-p) / (wg ** 2))\n",
    "    L = 1 / (1 + 4 * np.square(x-p) / (wl ** 2))\n",
    "    \n",
    "    print(np.max(G), np.max(L))\n",
    "    \n",
    "    V = sg.convolve(G, L, mode=\"same\")\n",
    "    \n",
    "    print(np.max(V))\n",
    "    \n",
    "    if np.max(V) < eps:\n",
    "        return V\n",
    "    \n",
    "    V /= np.max(V) / h\n",
    "    \n",
    "    return V"
   ]
  },
  {
   "cell_type": "code",
   "execution_count": 12,
   "id": "1b3e9878-bb3b-46d5-b318-8e751e42c2fb",
   "metadata": {
    "tags": []
   },
   "outputs": [],
   "source": [
    "def gls(x, p, w, m, h):\n",
    "    \n",
    "    y = h * (1-m) * np.exp(-4 * np.log(2) * np.square(x-p) / (w ** 2))\n",
    "    \n",
    "    y += h * m / (1 + 4 * np.square(x-p) / (w ** 2))\n",
    "    \n",
    "    return y"
   ]
  },
  {
   "cell_type": "code",
   "execution_count": 13,
   "id": "f07bb1ba-9577-4263-84db-79f590da9a07",
   "metadata": {},
   "outputs": [],
   "source": [
    "def gls_sum(x, pars):\n",
    "    \n",
    "    y = np.zeros_like(x)\n",
    "    \n",
    "    i = 0\n",
    "    while i < len(pars):\n",
    "        [p, w, m, h] = pars[i:i+4]\n",
    "        y += gls(x, p, w, m, h)\n",
    "        i += 4\n",
    "    \n",
    "    return y"
   ]
  },
  {
   "cell_type": "code",
   "execution_count": 14,
   "id": "a71c1949-df95-4a62-904b-8753222ed7b2",
   "metadata": {
    "tags": []
   },
   "outputs": [],
   "source": [
    "def glp(x, p, w, m, h):\n",
    "    \n",
    "    y = h * np.exp(-4 * np.log(2) * (1-m) * np.square(x-p) / (w ** 2))\n",
    "    \n",
    "    y /= (1 + 4 * m * np.square(x-p) / (w ** 2))\n",
    "    \n",
    "    return y"
   ]
  },
  {
   "cell_type": "code",
   "execution_count": 15,
   "id": "61d2ad21-1bdb-4057-9b0d-9ff3fe49ceec",
   "metadata": {},
   "outputs": [],
   "source": [
    "def rmse(y1, y2):\n",
    "    return np.sqrt(np.mean(np.square(y1 - y2)))"
   ]
  },
  {
   "cell_type": "code",
   "execution_count": 16,
   "id": "ab085873-d75e-41c8-9ce1-0593f504a5ee",
   "metadata": {},
   "outputs": [],
   "source": [
    "def to_minimize(x0, x, y, f, w_int):\n",
    "    \n",
    "    y2 = np.zeros_like(x)\n",
    "    \n",
    "    i = 0\n",
    "    ints = []\n",
    "    while i < len(x0):\n",
    "        [p, w, m, h] = x0[i:i+4]\n",
    "        y_fit = f(x, p, w, m, h)\n",
    "        ints.append(np.sum(y_fit))\n",
    "        y2 += y_fit\n",
    "        i += 4\n",
    "    \n",
    "    return rmse(y, y2) + w_int * np.std(ints)"
   ]
  },
  {
   "cell_type": "code",
   "execution_count": 17,
   "id": "e7864bb8-1ac2-4325-9e77-4aac7f0378f8",
   "metadata": {
    "tags": []
   },
   "outputs": [],
   "source": [
    "def to_minimize_fixed_peaks(x0, x, peaks, y, f, w_int):\n",
    "    \n",
    "    y2 = np.zeros_like(x)\n",
    "    \n",
    "    i = 0\n",
    "    ints = []\n",
    "    for p in peaks:\n",
    "        [w, m, h] = x0[i:i+3]\n",
    "        y_fit = f(x, p, w, m, h)\n",
    "        ints.append(np.sum(y_fit))\n",
    "        y2 += y_fit\n",
    "        i += 3\n",
    "    \n",
    "    return rmse(y, y2) + w_int * np.std(ints)"
   ]
  },
  {
   "cell_type": "code",
   "execution_count": 18,
   "id": "a2823f6d-0277-4301-bda2-854b6619e5e3",
   "metadata": {},
   "outputs": [],
   "source": [
    "def to_minimize_widths(x0, x, peaks, ms, hs, y, f, w_int):\n",
    "    \n",
    "    y2 = np.zeros_like(x)\n",
    "    \n",
    "    ints = []\n",
    "    for i, (p, m, h) in enumerate(zip(peaks, ms, hs)):\n",
    "        w = x0[i]\n",
    "        y_fit = f(x, p, w, m, h)\n",
    "        ints.append(np.sum(y_fit))\n",
    "        y2 += y_fit\n",
    "        i += 3\n",
    "    \n",
    "    return rmse(y, y2) + w_int * np.std(ints)"
   ]
  },
  {
   "cell_type": "code",
   "execution_count": 19,
   "id": "992b0ab3-53d2-49fb-89eb-7d14a0167543",
   "metadata": {
    "tags": []
   },
   "outputs": [],
   "source": [
    "def to_minimize_peaks(x0, x, ws, ms, hs, y, f, w_int):\n",
    "    \n",
    "    y2 = np.zeros_like(x)\n",
    "    \n",
    "    ints = []\n",
    "    for i, (w, m, h) in enumerate(zip(ws, ms, hs)):\n",
    "        p = x0[i]\n",
    "        y_fit = f(x, p, w, m, h)\n",
    "        ints.append(np.sum(y_fit))\n",
    "        y2 += y_fit\n",
    "        i += 3\n",
    "    \n",
    "    return rmse(y, y2) + w_int * np.std(ints)"
   ]
  },
  {
   "cell_type": "code",
   "execution_count": 20,
   "id": "488c0cda-2f75-47e1-8799-1e9aa4ef8490",
   "metadata": {},
   "outputs": [],
   "source": [
    "def to_minimize_mixings(x0, x, ps, ws, hs, y, f, w_int):\n",
    "    \n",
    "    y2 = np.zeros_like(x)\n",
    "    \n",
    "    ints = []\n",
    "    for i, (p, w, h) in enumerate(zip(ps, ws, hs)):\n",
    "        m = x0[i]\n",
    "        y_fit = f(x, p, w, m, h)\n",
    "        ints.append(np.sum(y_fit))\n",
    "        y2 += y_fit\n",
    "        i += 3\n",
    "    \n",
    "    return rmse(y, y2) + w_int * np.std(ints)"
   ]
  },
  {
   "cell_type": "code",
   "execution_count": 21,
   "id": "f7f7c58c-bbb3-4277-b625-a3e977c1fc54",
   "metadata": {},
   "outputs": [],
   "source": [
    "def to_minimize_heights(x0, x, ps, ws, ms, y, f, w_int):\n",
    "    \n",
    "    y2 = np.zeros_like(x)\n",
    "    \n",
    "    ints = []\n",
    "    for i, (p, w, m) in enumerate(zip(ps, ws, ms)):\n",
    "        h = x0[i]\n",
    "        y_fit = f(x, p, w, m, h)\n",
    "        ints.append(np.sum(y_fit))\n",
    "        y2 += y_fit\n",
    "        i += 3\n",
    "    \n",
    "    return rmse(y, y2) + w_int * np.std(ints)"
   ]
  },
  {
   "cell_type": "code",
   "execution_count": 22,
   "id": "b1e09b78-162e-4795-8ff2-4f7eeb156eaf",
   "metadata": {
    "tags": []
   },
   "outputs": [
    {
     "name": "stdout",
     "output_type": "stream",
     "text": [
      "ampicillin\n",
      "aspala\n",
      "flutamide\n",
      "histidine\n",
      "thymol\n",
      "tyrosine\n",
      "mdma\n"
     ]
    }
   ],
   "source": [
    "ppms = []\n",
    "Xs = []\n",
    "all_ws = []\n",
    "ppm_isos = []\n",
    "isos = []\n",
    "for compound in exp_compounds:\n",
    "    r = exp_range[compound]\n",
    "    print(compound)\n",
    "    ppm, ws, X = extract_exp_topspin(exp_dir, compound)\n",
    "    \n",
    "    ppm_iso, mean_iso, std_iso = extract_fit_model(iso_dir, compound, exp_parts[compound], exp_res[compound])\n",
    "    \n",
    "    ppm_isos.append(ppm_iso)\n",
    "    isos.append(mean_iso)\n",
    "\n",
    "    ppm = ppm[r[0]:r[1]]\n",
    "    X = X[:, r[0]:r[1]]\n",
    "\n",
    "    X /= np.sum(X, axis=1)[:, np.newaxis]\n",
    "    \n",
    "    X = X[ws >= min_w_fit]\n",
    "    ws = ws[ws >= min_w_fit]\n",
    "    \n",
    "    ppms.append(ppm)\n",
    "    Xs.append(X[::-1])\n",
    "    all_ws.append(ws[::-1])"
   ]
  },
  {
   "cell_type": "code",
   "execution_count": 23,
   "id": "a2805982-95c3-4d20-8d46-797ceb9231da",
   "metadata": {},
   "outputs": [],
   "source": [
    "peak_pos_guess = {\"ampicillin\": [10.0, 7.4, 7.0, 6.8, 6.5, 5.3, 5.1, 4.7, 3.9, 1.6, 0.6],\n",
    "                  \"aspala\": [12.6, 8.0, 7.4, 4.9, 4.0, 2.7, 2.1, 0.9],\n",
    "                  \"flutamide\": [9.8, 8.1, 7.8, 7.1, 1.9, 1.1],\n",
    "                  #\"flutamide\": [9.8, 8.1, 7.8, 7.1, 1.9, 1.1, 0.6],\n",
    "                  \"histidine\": [16.9, 12.3, 8.8, 8.1, 7.3, 5.0, 3.3, 2.7],\n",
    "                  \"thymol\": [9.3, 6.9, 6.1, 5.3, 3.3, 1.5, 1.1, 0.4],\n",
    "                  \"tyrosine\": [12.3, 9.9, 7.5, 7.2, 6.5, 5.1, 4.9, 4.4, 4.1, 2.5],\n",
    "                  \"mdma\": [9.8, 9.4, 6.5, 6.1, 5.7, 5.5, 3.6, 2.8, 2.3, 1.9, 1.0]\n",
    "                 }"
   ]
  },
  {
   "cell_type": "code",
   "execution_count": 24,
   "id": "28a38b84-b5d1-4239-8623-ed75353672e8",
   "metadata": {
    "tags": []
   },
   "outputs": [
    {
     "name": "stdout",
     "output_type": "stream",
     "text": [
      "ampicillin\n"
     ]
    },
    {
     "data": {
      "application/vnd.jupyter.widget-view+json": {
       "model_id": "305cb346a6b945a987cc71eb36bd140b",
       "version_major": 2,
       "version_minor": 0
      },
      "text/plain": [
       "  0%|          | 0/31 [00:00<?, ?it/s]"
      ]
     },
     "metadata": {},
     "output_type": "display_data"
    },
    {
     "name": "stdout",
     "output_type": "stream",
     "text": [
      "aspala\n"
     ]
    },
    {
     "data": {
      "application/vnd.jupyter.widget-view+json": {
       "model_id": "f2aed2d4b8ea4ecfa0368631881b9c8e",
       "version_major": 2,
       "version_minor": 0
      },
      "text/plain": [
       "  0%|          | 0/31 [00:00<?, ?it/s]"
      ]
     },
     "metadata": {},
     "output_type": "display_data"
    },
    {
     "name": "stdout",
     "output_type": "stream",
     "text": [
      "flutamide\n"
     ]
    },
    {
     "data": {
      "application/vnd.jupyter.widget-view+json": {
       "model_id": "831687f1708b4b35b1cbf1f775a39814",
       "version_major": 2,
       "version_minor": 0
      },
      "text/plain": [
       "  0%|          | 0/31 [00:00<?, ?it/s]"
      ]
     },
     "metadata": {},
     "output_type": "display_data"
    },
    {
     "name": "stdout",
     "output_type": "stream",
     "text": [
      "histidine\n"
     ]
    },
    {
     "data": {
      "application/vnd.jupyter.widget-view+json": {
       "model_id": "ba0cd1e19c5d46b48ca70272824c0456",
       "version_major": 2,
       "version_minor": 0
      },
      "text/plain": [
       "  0%|          | 0/31 [00:00<?, ?it/s]"
      ]
     },
     "metadata": {},
     "output_type": "display_data"
    },
    {
     "name": "stdout",
     "output_type": "stream",
     "text": [
      "thymol\n"
     ]
    },
    {
     "data": {
      "application/vnd.jupyter.widget-view+json": {
       "model_id": "0d6323a92ddf463ab41684551e3c5e60",
       "version_major": 2,
       "version_minor": 0
      },
      "text/plain": [
       "  0%|          | 0/31 [00:00<?, ?it/s]"
      ]
     },
     "metadata": {},
     "output_type": "display_data"
    },
    {
     "name": "stdout",
     "output_type": "stream",
     "text": [
      "tyrosine\n"
     ]
    },
    {
     "data": {
      "application/vnd.jupyter.widget-view+json": {
       "model_id": "9a8b090cdd37468dbe42c762430c289a",
       "version_major": 2,
       "version_minor": 0
      },
      "text/plain": [
       "  0%|          | 0/31 [00:00<?, ?it/s]"
      ]
     },
     "metadata": {},
     "output_type": "display_data"
    },
    {
     "name": "stdout",
     "output_type": "stream",
     "text": [
      "mdma\n"
     ]
    },
    {
     "data": {
      "application/vnd.jupyter.widget-view+json": {
       "model_id": "e94e724d4cef497c9e804f7309415fe2",
       "version_major": 2,
       "version_minor": 0
      },
      "text/plain": [
       "  0%|          | 0/31 [00:00<?, ?it/s]"
      ]
     },
     "metadata": {},
     "output_type": "display_data"
    }
   ],
   "source": [
    "r0 = 20.\n",
    "r1 = -5.\n",
    "c0 = np.array([0., 1., 1.])\n",
    "dc = np.array([0., -1., 0.])\n",
    "dp = 0.2\n",
    "\n",
    "w_int = 1e-3\n",
    "wmax = 3.\n",
    "n_init = 5\n",
    "w_guess = 0.5\n",
    "m_guess = 0.5\n",
    "\n",
    "for compound, ppm, X, ws in zip(exp_compounds, ppms, Xs, all_ws):\n",
    "    print(compound)\n",
    "\n",
    "    fdir = f\"{fig_dir}{compound}/\"\n",
    "    if not os.path.exists(fdir):\n",
    "        os.mkdir(fdir)\n",
    "\n",
    "    fig = plt.figure(figsize=(4,3))\n",
    "    ax = fig.add_subplot(1,1,1)\n",
    "    for i, Xi in enumerate(X):\n",
    "        ax.plot(ppm, Xi, color=c0 + i/(X.shape[0]-1) * dc, linewidth=1.)\n",
    "\n",
    "    ax.set_xlim(r0, r1)\n",
    "    ax.set_xlabel(\"Chemical shift [ppm]\")\n",
    "    ax.set_yticks([])\n",
    "    fig.tight_layout()\n",
    "    plt.savefig(f\"{fdir}spectra.pdf\")\n",
    "    #plt.show()\n",
    "    plt.close()\n",
    "\n",
    "    fit_v = []\n",
    "    fit_s = []\n",
    "    fit_p = []\n",
    "\n",
    "    fit_rmses_v = []\n",
    "    fit_rmses_s = []\n",
    "    fit_rmses_p = []\n",
    "\n",
    "    inds = np.where(np.logical_and(ppm > r0, ppm < r1))\n",
    "    \n",
    "    all_res = []\n",
    "    \n",
    "    ps_guess = peak_pos_guess[compound]\n",
    "    ws_guess = [w_guess for _ in ps_guess]\n",
    "    ms_guess = [m_guess for _ in ps_guess]\n",
    "    hs_guess = [Xi[np.argmin(np.abs(ppm - p))] for p in ps_guess]\n",
    "\n",
    "    for i, (wi, Xi) in tqdm.tqdm(enumerate(zip(ws, X)), total=len(ws)):\n",
    "        \n",
    "        for _ in range(n_init):\n",
    "\n",
    "            # Optimize height\n",
    "            bounds = []\n",
    "            x0 = []\n",
    "            for h in hs_guess:\n",
    "                bounds.append((0., np.max(Xi) * 1.1))\n",
    "                x0.append(h)\n",
    "\n",
    "            res = op.minimize(to_minimize_heights, x0, args=(ppm, ps_guess, ws_guess, ms_guess, Xi, gls, w_int),\n",
    "                              jac=\"3-point\", bounds=bounds, method=\"L-BFGS-B\")\n",
    "\n",
    "            hs_guess = res.x\n",
    "\n",
    "            # Optimize width\n",
    "            bounds = []\n",
    "            x0 = []\n",
    "            for w in ws_guess:\n",
    "                bounds.append((1.e-6, wmax))\n",
    "                x0.append(w)\n",
    "\n",
    "            res = op.minimize(to_minimize_widths, x0, args=(ppm, ps_guess, ms_guess, hs_guess, Xi, gls, w_int),\n",
    "                              jac=\"3-point\", bounds=bounds, method=\"L-BFGS-B\")\n",
    "            \n",
    "            ws_guess = res.x\n",
    "\n",
    "            # Optimize mixing\n",
    "            bounds = []\n",
    "            x0 = []\n",
    "            for m in ms_guess:\n",
    "                bounds.append((0., 1.))\n",
    "                x0.append(m)\n",
    "\n",
    "            res = op.minimize(to_minimize_mixings, x0, args=(ppm, ps_guess, ws_guess, hs_guess, Xi, gls, w_int),\n",
    "                              jac=\"3-point\", bounds=bounds, method=\"L-BFGS-B\")\n",
    "            \n",
    "            ms_guess = res.x\n",
    "\n",
    "            # Optimize peaks\n",
    "            bounds = []\n",
    "            x0 = []\n",
    "            for p in ps_guess:\n",
    "                bounds.append((p-dp, p+dp))\n",
    "                x0.append(p)\n",
    "\n",
    "            res = op.minimize(to_minimize_peaks, x0, args=(ppm, ws_guess, ms_guess, hs_guess, Xi, gls, w_int),\n",
    "                              jac=\"3-point\", bounds=bounds, method=\"L-BFGS-B\")\n",
    "            \n",
    "            ps_guess = res.x\n",
    "        \n",
    "        bounds = []\n",
    "        x0 = []\n",
    "        j = 0\n",
    "        for p, w, m, h in zip(ps_guess, ws_guess, ms_guess, hs_guess):\n",
    "            x0.append(p)\n",
    "            bounds.append((p - dp, p + dp))\n",
    "            x0.append(w)\n",
    "            bounds.append((1.e-6, min(w * 1.1, wmax)))\n",
    "            x0.append(m)\n",
    "            bounds.append((0., 1.))\n",
    "            x0.append(h)\n",
    "            bounds.append((h * 0.9, h * 1.1))\n",
    "            j += 3\n",
    "        \n",
    "        # Then optimize all parameters\n",
    "        res = op.minimize(to_minimize, x0, args=(ppm, Xi, gls, w_int), bounds=bounds, jac=\"3-point\",\n",
    "                          method=\"L-BFGS-B\", options={\"maxiter\": 1e6})\n",
    "        if not res.success:\n",
    "            print(f\"{wi} did not converge!\")\n",
    "        \n",
    "        all_res.append(res.x)\n",
    "        \n",
    "        # Update peak position guesses\n",
    "        peak_guess = res.x[::4]\n",
    "        \n",
    "    all_res = np.array(all_res)\n",
    "    \n",
    "    for w, this_res, Xi in zip(ws, all_res, X):\n",
    "\n",
    "        fig = plt.figure(figsize=(4,3))\n",
    "        ax = fig.add_subplot(1,1,1)\n",
    "        ax.plot(ppm, Xi, linewidth=1.)\n",
    "        y = gls_sum(ppm, this_res)\n",
    "        ax.plot(ppm, y, linewidth=1.)\n",
    "\n",
    "        ax.set_xlim(r0, r1)\n",
    "        ax.set_yticks([])\n",
    "        ax.set_xlabel(\"Chemical shift [ppm]\")\n",
    "\n",
    "        fig.tight_layout()\n",
    "        plt.savefig(f\"{fdir}fit_{w/1000.:.0f}_kHz.pdf\")\n",
    "        plt.close()\n",
    "\n",
    "        fig = plt.figure(figsize=(4,3))\n",
    "        ax = fig.add_subplot(1,1,1)\n",
    "        ax.plot(ppm, Xi, color=\"k\", linewidth=1.)\n",
    "\n",
    "        i = 0\n",
    "        while i < len(this_res):\n",
    "            y = gls(ppm, *this_res[i:i+4])\n",
    "            ax.plot(ppm, y, linewidth=1., color=c0+(i/len(this_res)*dc))\n",
    "            i += 4\n",
    "\n",
    "        ax.set_xlim(r0, r1)\n",
    "        ax.set_yticks([])\n",
    "        ax.set_xlabel(\"Chemical shift [ppm]\")\n",
    "\n",
    "        fig.tight_layout()\n",
    "        plt.savefig(f\"{fdir}fit_{w/1000.:.0f}_kHz_sep.pdf\")\n",
    "        plt.close()\n",
    "        \n",
    "    fit_params = []\n",
    "    pars = [\"p\", \"w\", \"m\", \"h\"]\n",
    "    for j, p in enumerate(pars):\n",
    "\n",
    "        fig = plt.figure(figsize=(4,3))\n",
    "        ax = fig.add_subplot(1,1,1)\n",
    "        k = 0\n",
    "        while k < all_res.shape[1]:\n",
    "\n",
    "            if j == 0:\n",
    "                ax.plot(ws / 1000., all_res[:, j+k] - all_res[0, j+k], color=c0+((k/all_res.shape[1])*dc))\n",
    "            else:\n",
    "                ax.plot(ws / 1000., all_res[:, j+k], color=c0+((k/all_res.shape[1])*dc))\n",
    "            k += 4\n",
    "\n",
    "        ax.set_ylabel(p)\n",
    "        ax.set_xlabel(\"MAS rate [kHz]\")\n",
    "\n",
    "        fig.tight_layout()\n",
    "        plt.savefig(f\"{fdir}param_fit_{p}.pdf\")\n",
    "        plt.close()\n",
    "        \n",
    "        fig = plt.figure(figsize=(4,3))\n",
    "        ax = fig.add_subplot(1,1,1)\n",
    "        k = 0\n",
    "        while k < all_res.shape[1]:\n",
    "\n",
    "            if j == 0:\n",
    "                ax.plot(1000. / ws, all_res[:, j+k] - all_res[0, j+k], color=c0+((k/all_res.shape[1])*dc))\n",
    "            else:\n",
    "                ax.plot(1000. / ws, all_res[:, j+k], color=c0+((k/all_res.shape[1])*dc))\n",
    "            k += 4\n",
    "\n",
    "        ax.set_ylabel(p)\n",
    "        ax.set_xlabel(\"1/MAS rate [kHz$^{-1}$]\")\n",
    "\n",
    "        fig.tight_layout()\n",
    "        plt.savefig(f\"{fdir}param_fit_{p}_inv.pdf\")\n",
    "        plt.close()\n",
    "        \n",
    "        if p in [\"p\", \"w\"]:\n",
    "            fig = plt.figure(figsize=(4,3))\n",
    "            ax = fig.add_subplot(1,1,1)\n",
    "            k = 0\n",
    "            while k < all_res.shape[1]:\n",
    "\n",
    "                if j == 0:\n",
    "                    ax.plot(ws / 1000., (all_res[:, j+k] - all_res[0, j+k]) * 800, color=c0+((k/all_res.shape[1])*dc))\n",
    "                else:\n",
    "                    ax.plot(ws / 1000., all_res[:, j+k] * 800, color=c0+((k/all_res.shape[1])*dc))\n",
    "                k += 4\n",
    "\n",
    "            ax.set_ylabel(p)\n",
    "            ax.set_xlabel(\"MAS rate [kHz]\")\n",
    "\n",
    "            fig.tight_layout()\n",
    "            plt.savefig(f\"{fdir}param_fit_{p}_hz.pdf\")\n",
    "            plt.close()"
   ]
  },
  {
   "cell_type": "code",
   "execution_count": null,
   "id": "e5818854-acb0-42fc-8c65-e084e5a48727",
   "metadata": {},
   "outputs": [],
   "source": []
  }
 ],
 "metadata": {
  "kernelspec": {
   "display_name": "torch",
   "language": "python",
   "name": "torch"
  },
  "language_info": {
   "codemirror_mode": {
    "name": "ipython",
    "version": 3
   },
   "file_extension": ".py",
   "mimetype": "text/x-python",
   "name": "python",
   "nbconvert_exporter": "python",
   "pygments_lexer": "ipython3",
   "version": "3.8.8"
  }
 },
 "nbformat": 4,
 "nbformat_minor": 5
}
