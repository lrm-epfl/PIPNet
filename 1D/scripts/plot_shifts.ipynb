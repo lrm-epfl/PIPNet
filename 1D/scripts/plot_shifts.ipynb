{
 "cells": [
  {
   "cell_type": "code",
   "execution_count": 1,
   "id": "1aeb67b7-4946-49c8-bb0d-dd45a9f1dc37",
   "metadata": {},
   "outputs": [],
   "source": [
    "import numpy as np\n",
    "import matplotlib.pyplot as plt\n",
    "import os"
   ]
  },
  {
   "cell_type": "code",
   "execution_count": 2,
   "id": "613e9f98-344a-45cc-bf2f-76248463ef0f",
   "metadata": {},
   "outputs": [],
   "source": [
    "fig_dir = \"../figures/ref_shifts/\"\n",
    "\n",
    "if not os.path.exists(fig_dir):\n",
    "    os.mkdir(fig_dir)"
   ]
  },
  {
   "cell_type": "markdown",
   "id": "ac4fccc9-684e-4391-8469-9de4fce95a81",
   "metadata": {},
   "source": [
    "# Tyrosine"
   ]
  },
  {
   "cell_type": "code",
   "execution_count": 3,
   "id": "885887ab-9f60-41fb-a28e-ec3112b76a9e",
   "metadata": {},
   "outputs": [],
   "source": [
    "shifts = [12.49, 4.65, 4.5, 2.4, 5.4, 6.66, 7.44, 5.14, 10.0, 7.68]"
   ]
  },
  {
   "cell_type": "code",
   "execution_count": 4,
   "id": "bfe9a174-205a-4b84-88db-22971fa89c29",
   "metadata": {},
   "outputs": [],
   "source": [
    "fig = plt.figure(figsize=(4,3))\n",
    "ax = fig.add_subplot(1,1,1)\n",
    "\n",
    "for s in shifts:\n",
    "    ax.plot([s, s], [0, 1], \"k\", linewidth=0.5)\n",
    "\n",
    "ax.set_xticks([-5, 0, 5, 10, 15, 20])\n",
    "ax.set_yticks([])\n",
    "ax.set_xlim(20, -5)\n",
    "plt.savefig(fig_dir + \"tyrosine.pdf\")\n",
    "plt.close()"
   ]
  },
  {
   "cell_type": "markdown",
   "id": "68670e96-dbb2-4d7b-a3df-1e474cdcfe18",
   "metadata": {},
   "source": [
    "# AspAla"
   ]
  },
  {
   "cell_type": "code",
   "execution_count": 5,
   "id": "2dff064c-97d4-4b06-afb6-b458fb6a40d3",
   "metadata": {},
   "outputs": [],
   "source": [
    "shifts = [12.64, 4.85, 7.92, 2.73, 2.10, 3.97, 0.86, 7.37]"
   ]
  },
  {
   "cell_type": "code",
   "execution_count": 6,
   "id": "88cb1372-ffdf-46b6-8c41-34b08e3586a6",
   "metadata": {},
   "outputs": [],
   "source": [
    "fig = plt.figure(figsize=(4,3))\n",
    "ax = fig.add_subplot(1,1,1)\n",
    "\n",
    "for s in shifts:\n",
    "    ax.plot([s, s], [0, 1], \"k\", linewidth=0.5)\n",
    "    \n",
    "ax.set_xticks([-5, 0, 5, 10, 15, 20])\n",
    "ax.set_yticks([])\n",
    "ax.set_xlim(20, -5)\n",
    "plt.savefig(fig_dir + \"aspala.pdf\")\n",
    "plt.close()"
   ]
  },
  {
   "cell_type": "markdown",
   "id": "7363d878-6f38-4fcc-a176-fa3f4cf8a0cc",
   "metadata": {},
   "source": [
    "# Histidine"
   ]
  },
  {
   "cell_type": "code",
   "execution_count": 7,
   "id": "593d7224-7186-4164-ad6d-52cafc99c510",
   "metadata": {},
   "outputs": [],
   "source": [
    "shifts = [5.14, 2.72, 3.10, 17.0, 7.52, 12.41, 8.94, 8.23]"
   ]
  },
  {
   "cell_type": "code",
   "execution_count": 8,
   "id": "bbbe71c1-9972-4aea-9994-c9f2218f1c52",
   "metadata": {},
   "outputs": [],
   "source": [
    "fig = plt.figure(figsize=(4,3))\n",
    "ax = fig.add_subplot(1,1,1)\n",
    "\n",
    "for s in shifts:\n",
    "    ax.plot([s, s], [0, 1], \"k\", linewidth=0.5)\n",
    "    \n",
    "ax.set_xticks([-5, 0, 5, 10, 15, 20])\n",
    "ax.set_yticks([])\n",
    "ax.set_xlim(20, -5)\n",
    "plt.savefig(fig_dir + \"histidine.pdf\")\n",
    "plt.close()"
   ]
  },
  {
   "cell_type": "markdown",
   "id": "38644a30-65c6-4522-a998-cad8d5c4524b",
   "metadata": {},
   "source": [
    "# Thymol"
   ]
  },
  {
   "cell_type": "code",
   "execution_count": 9,
   "id": "0ef2ef48-143c-4879-8291-612a8727e7b1",
   "metadata": {},
   "outputs": [],
   "source": [
    "shifts = [5.40, 6.19, 7.08, 3.38, 1.45, 1.05, 0.42, 9.34]"
   ]
  },
  {
   "cell_type": "code",
   "execution_count": 10,
   "id": "bd9c5122-fe72-4278-96fa-f08974e5b10f",
   "metadata": {},
   "outputs": [],
   "source": [
    "fig = plt.figure(figsize=(4,3))\n",
    "ax = fig.add_subplot(1,1,1)\n",
    "\n",
    "for s in shifts:\n",
    "    ax.plot([s, s], [0, 1], \"k\", linewidth=0.5)\n",
    "    \n",
    "ax.set_xticks([-5, 0, 5, 10, 15, 20])\n",
    "ax.set_yticks([])\n",
    "ax.set_xlim(20, -5)\n",
    "plt.savefig(fig_dir + \"thymol.pdf\")\n",
    "plt.close()"
   ]
  },
  {
   "cell_type": "markdown",
   "id": "46e8fbc8-1872-4942-944a-0522d24033df",
   "metadata": {},
   "source": [
    "# Flutamide"
   ]
  },
  {
   "cell_type": "code",
   "execution_count": 11,
   "id": "88a63a0a-5bc9-40be-9052-03a38c167fa4",
   "metadata": {},
   "outputs": [],
   "source": [
    "shifts = [7.9, 9.9, 7.1, 8.0, 2.3, 1.3]"
   ]
  },
  {
   "cell_type": "code",
   "execution_count": 12,
   "id": "d41dfa9b-dcfc-475f-b721-05b6a347312d",
   "metadata": {},
   "outputs": [],
   "source": [
    "fig = plt.figure(figsize=(4,3))\n",
    "ax = fig.add_subplot(1,1,1)\n",
    "\n",
    "for s in shifts:\n",
    "    ax.plot([s, s], [0, 1], \"k\", linewidth=0.5)\n",
    "    \n",
    "ax.set_xticks([-5, 0, 5, 10, 15, 20])\n",
    "ax.set_yticks([])\n",
    "ax.set_xlim(20, -5)\n",
    "plt.savefig(fig_dir + \"flutamide.pdf\")\n",
    "plt.close()"
   ]
  },
  {
   "cell_type": "markdown",
   "id": "780bd720-e389-4fff-afd7-264accf7195b",
   "metadata": {},
   "source": [
    "# Ampicillin"
   ]
  },
  {
   "cell_type": "code",
   "execution_count": 20,
   "id": "088a2d5c-3759-4a03-bd41-b247cfcfa007",
   "metadata": {},
   "outputs": [],
   "source": [
    "shifts = [4.0, 5.2, 6.6, 4.8, 5.4, 7.2, 7.6, 10.0, 7.5, 0.6, 1.6]"
   ]
  },
  {
   "cell_type": "code",
   "execution_count": 21,
   "id": "4bad1e34-81fd-4c71-9f1a-6788894b2925",
   "metadata": {},
   "outputs": [],
   "source": [
    "fig = plt.figure(figsize=(4,3))\n",
    "ax = fig.add_subplot(1,1,1)\n",
    "\n",
    "for s in shifts:\n",
    "    ax.plot([s, s], [0, 1], \"k\", linewidth=0.5)\n",
    "    \n",
    "ax.set_xticks([-5, 0, 5, 10, 15, 20])\n",
    "ax.set_yticks([])\n",
    "ax.set_xlim(20, -5)\n",
    "plt.savefig(fig_dir + \"ampicillin.pdf\")\n",
    "plt.close()"
   ]
  },
  {
   "cell_type": "markdown",
   "id": "e9b7c431-df7c-48cc-abce-4a503da78124",
   "metadata": {},
   "source": [
    "# MDMA"
   ]
  },
  {
   "cell_type": "code",
   "execution_count": 22,
   "id": "a878be40-e6fd-4508-961c-2a7e931dee70",
   "metadata": {},
   "outputs": [],
   "source": [
    "shifts = [1.12, 2.16, 2.78, 2.35, 3.8, 5.98, 6.22, 6.27, 6.77, 9.48, 10.0]"
   ]
  },
  {
   "cell_type": "code",
   "execution_count": 23,
   "id": "6d2aa151-c49a-4b03-a157-95048e4e4c69",
   "metadata": {},
   "outputs": [],
   "source": [
    "fig = plt.figure(figsize=(4,3))\n",
    "ax = fig.add_subplot(1,1,1)\n",
    "\n",
    "for s in shifts:\n",
    "    ax.plot([s, s], [0, 1], \"k\", linewidth=0.5)\n",
    "    \n",
    "ax.set_xticks([-5, 0, 5, 10, 15, 20])\n",
    "ax.set_yticks([])\n",
    "ax.set_xlim(20, -5)\n",
    "plt.savefig(fig_dir + \"MDMA.pdf\")\n",
    "plt.close()"
   ]
  },
  {
   "cell_type": "markdown",
   "id": "e19eb0d9-b088-45e0-b73b-5b2953df40d5",
   "metadata": {},
   "source": [
    "# Molnupiravir"
   ]
  },
  {
   "cell_type": "code",
   "execution_count": 24,
   "id": "0e480c72-135e-4f55-bc61-34aa7ce60148",
   "metadata": {},
   "outputs": [],
   "source": [
    "shifts = [1.2, 2.55, 2.62, 3.7, 4.0, 4.2, 4.5, 4.7, 5.4, 5.5, 6.8, 9.5, 10.7]"
   ]
  },
  {
   "cell_type": "code",
   "execution_count": 25,
   "id": "268ff317-4973-4d2e-926a-95ca626d27db",
   "metadata": {},
   "outputs": [],
   "source": [
    "fig = plt.figure(figsize=(4,3))\n",
    "ax = fig.add_subplot(1,1,1)\n",
    "\n",
    "for s in shifts:\n",
    "    ax.plot([s, s], [0, 1], \"k\", linewidth=0.5)\n",
    "    \n",
    "ax.set_xticks([-5, 0, 5, 10, 15, 20])\n",
    "ax.set_yticks([])\n",
    "ax.set_xlim(20, -5)\n",
    "plt.savefig(fig_dir + \"molnupiravir.pdf\")\n",
    "plt.close()"
   ]
  },
  {
   "cell_type": "code",
   "execution_count": null,
   "id": "3c18a3c3-a469-4e71-ba43-23f2b7a476f8",
   "metadata": {},
   "outputs": [],
   "source": []
  }
 ],
 "metadata": {
  "kernelspec": {
   "display_name": "PIPNet",
   "language": "python",
   "name": "pipnet"
  },
  "language_info": {
   "codemirror_mode": {
    "name": "ipython",
    "version": 3
   },
   "file_extension": ".py",
   "mimetype": "text/x-python",
   "name": "python",
   "nbconvert_exporter": "python",
   "pygments_lexer": "ipython3",
   "version": "3.10.4"
  }
 },
 "nbformat": 4,
 "nbformat_minor": 5
}
