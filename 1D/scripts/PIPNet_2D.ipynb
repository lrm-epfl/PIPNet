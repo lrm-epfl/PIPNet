{
 "cells": [
  {
   "cell_type": "code",
   "execution_count": 1,
   "id": "b48c4f58",
   "metadata": {
    "tags": []
   },
   "outputs": [],
   "source": [
    "import numpy as np\n",
    "import os\n",
    "import sys\n",
    "import copy\n",
    "\n",
    "import torch\n",
    "torch.set_num_threads=4\n",
    "from torch import nn\n",
    "from torchsummary import summary\n",
    "\n",
    "import importlib\n",
    "import pickle as pk\n",
    "\n",
    "import matplotlib as mpl\n",
    "import matplotlib.pyplot as plt\n",
    "import matplotlib.animation as anm\n",
    "\n",
    "sys.path.insert(0, \"../src/\")\n",
    "import data\n",
    "import model\n",
    "import train\n",
    "\n",
    "#import nmrglue as ng\n",
    "import scipy\n",
    "import scipy.io\n",
    "\n",
    "np.random.seed(123)"
   ]
  },
  {
   "cell_type": "code",
   "execution_count": 2,
   "id": "909326be",
   "metadata": {},
   "outputs": [],
   "source": [
    "mod = \"Ensemble_PIPNet_2022_03_01_noise_005\"\n",
    "\n",
    "in_dir = f\"../data/{mod}/\"\n",
    "par_dir = f\"../figures/{mod}/\"\n",
    "fig_dir = f\"../figures/test_2D/\"\n",
    "\n",
    "exp_dir = f\"../data/experimental_spectra/2D/\""
   ]
  },
  {
   "cell_type": "code",
   "execution_count": 3,
   "id": "2050d25c",
   "metadata": {},
   "outputs": [],
   "source": [
    "if not os.path.exists(in_dir):\n",
    "    raise ValueError(f\"Unknown model: {mod}\")\n",
    "    \n",
    "if not os.path.exists(fig_dir):\n",
    "    os.mkdir(fig_dir)"
   ]
  },
  {
   "cell_type": "code",
   "execution_count": 4,
   "id": "64541694-117e-4886-a44f-18e01d17de47",
   "metadata": {},
   "outputs": [],
   "source": [
    "with open(f\"{par_dir}params.pk\", \"rb\") as F:\n",
    "    model_pars, loss_pars, data_pars = pk.load(F)"
   ]
  },
  {
   "cell_type": "markdown",
   "id": "86714c88",
   "metadata": {
    "tags": []
   },
   "source": [
    "# Load model"
   ]
  },
  {
   "cell_type": "code",
   "execution_count": 5,
   "id": "4e178192",
   "metadata": {},
   "outputs": [
    {
     "name": "stdout",
     "output_type": "stream",
     "text": [
      "118\n"
     ]
    }
   ],
   "source": [
    "# Load loss and learning rate\n",
    "all_lrs = np.load(in_dir + \"all_lrs.npy\")\n",
    "all_losses = np.load(in_dir + \"all_losses.npy\")\n",
    "all_val_losses = np.load(in_dir + \"all_val_losses.npy\")\n",
    "\n",
    "mean_losses = np.mean(all_losses, axis=1)\n",
    "mean_val_losses = np.mean(all_val_losses, axis=1)\n",
    "\n",
    "n_chk = all_losses.shape[0]\n",
    "best_chk = np.argmin(mean_val_losses)\n",
    "print(best_chk)\n",
    "\n",
    "net = model.ConvLSTMEnsemble(**model_pars)\n",
    "net.load_state_dict(torch.load(in_dir + f\"checkpoint_{best_chk+1}_network\", map_location=torch.device(\"cpu\")))\n",
    "net = net.eval()"
   ]
  },
  {
   "cell_type": "code",
   "execution_count": 6,
   "id": "5573688b",
   "metadata": {
    "tags": []
   },
   "outputs": [],
   "source": [
    "def make_input(X, ws, data_pars, Xi=None, x_max=0.25):\n",
    "    \n",
    "    inds = np.argsort(ws)\n",
    "    X_torch = torch.Tensor(X[:, inds])\n",
    "    X_torch = torch.unsqueeze(X_torch, dim=2)\n",
    "    \n",
    "    M = torch.max(X_torch)\n",
    "    \n",
    "    X_torch /= M\n",
    "    X_torch *= x_max\n",
    "    \n",
    "    if data_pars[\"encode_w\"]:\n",
    "        W = torch.Tensor(ws[inds])\n",
    "        W = torch.unsqueeze(W, dim=0)\n",
    "        W = torch.unsqueeze(W, dim=2)\n",
    "        W = torch.unsqueeze(W, dim=3)\n",
    "        W = W.repeat(X_torch.shape[0], 1, 1, X_torch.shape[-1])\n",
    "        \n",
    "        if data_pars[\"norm_wr\"]:\n",
    "            W -= data_pars[\"mas_w_range\"][0]\n",
    "            W /= data_pars[\"mas_w_range\"][1] - data_pars[\"mas_w_range\"][0]\n",
    "    \n",
    "    if Xi is not None:\n",
    "        X_imag = torch.Tensor(Xi[inds])\n",
    "        X_imag = torch.unsqueeze(X_imag, dim=0)\n",
    "        X_imag = torch.unsqueeze(X_imag, dim=2)\n",
    "        X_imag /= M\n",
    "        X_imag *= x_max\n",
    "        \n",
    "        X_torch = torch.cat([X_torch, X_imag, W], dim=2)\n",
    "    \n",
    "    else:\n",
    "        X_torch = torch.cat([X_torch, W], dim=2)\n",
    "    \n",
    "    return X_torch, ws[inds]"
   ]
  },
  {
   "cell_type": "code",
   "execution_count": 8,
   "id": "3f5a78ce-6499-49dc-a013-950ac8c3de1b",
   "metadata": {},
   "outputs": [
    {
     "name": "stdout",
     "output_type": "stream",
     "text": [
      "tyrosine_unshear_gls_220302_0toInf_0to5.mat\n",
      "ampicillin_unshear_gandl_220307.mat\n",
      "tyrosine_unshear_gls_220302_0toInf_0to5.mat\n",
      "ampicillin_unshear_gandl_220307.mat\n",
      "tyrosine_unshear_gls_220302_0toInf_0to5.mat\n",
      "ampicillin_unshear_gandl_220307.mat\n",
      "tyrosine_unshear_gls_220302_0toInf_0to5.mat\n",
      "ampicillin_unshear_gandl_220307.mat\n",
      "tyrosine_unshear_gls_220302_0toInf_0to5.mat\n",
      "ampicillin_unshear_gandl_220307.mat\n",
      "tyrosine_unshear_gls_220302_0toInf_0to5.mat\n",
      "ampicillin_unshear_gandl_220307.mat\n",
      "tyrosine_unshear_gls_220302_0toInf_0to5.mat\n",
      "ampicillin_unshear_gandl_220307.mat\n"
     ]
    }
   ],
   "source": [
    "for sens in [1., 2., 5., 10., 20., 50., 100.]:\n",
    "\n",
    "    for f in os.listdir(exp_dir):\n",
    "        if f.endswith(\".mat\"):\n",
    "            print(f)\n",
    "            m = scipy.io.loadmat(exp_dir + f)\n",
    "\n",
    "            X = m[\"newsignal2\"] / np.sum(m[\"newsignal2\"], axis=(0, 1))[None, None, :]\n",
    "            X /= np.max(X, axis=(0,1))[None, None, :] * sens\n",
    "\n",
    "            ws = m[\"wr\"][0].astype(float)\n",
    "\n",
    "            X_torch, sel_ws = make_input(X.transpose([0, 2, 1]), ws, data_pars, x_max=0.25*sens)\n",
    "\n",
    "            with torch.no_grad():\n",
    "                y_pred, y_err, ys = net(X_torch)\n",
    "\n",
    "            fig = plt.figure(figsize=(4,3))\n",
    "            ax = fig.add_subplot(1,1,1)\n",
    "            ax.contour(X[:, :, 0], cmap=\"Blues\", linewidths=0.5, vmin=0., vmax=0.1)\n",
    "            ax.contour(y_pred[:, -1, :].numpy(), cmap=\"Reds\", linewidths=0.5, vmin=0, vmax=0.01)\n",
    "\n",
    "            fig.tight_layout()\n",
    "            plt.savefig(f\"{fig_dir}preds_{f.split('_')[0]}_sens_{sens:.0f}.pdf\")\n",
    "            plt.close()\n",
    "            \n",
    "            np.savetxt(f\"{fig_dir}preds_{f.split('_')[0]}_sens_{sens:.0f}_pred.csv\", y_pred[:, -1, :], fmt=\"%.4e\", delimiter=\",\")\n",
    "            np.savetxt(f\"{fig_dir}preds_{f.split('_')[0]}_sens_{sens:.0f}_errs.csv\", y_err[:, -1, :], fmt=\"%.4e\", delimiter=\",\")\n",
    "            "
   ]
  },
  {
   "cell_type": "code",
   "execution_count": null,
   "id": "dc0da024-0a30-43fa-a798-e55e03855a4c",
   "metadata": {},
   "outputs": [],
   "source": []
  }
 ],
 "metadata": {
  "kernelspec": {
   "display_name": "torch",
   "language": "python",
   "name": "torch"
  },
  "language_info": {
   "codemirror_mode": {
    "name": "ipython",
    "version": 3
   },
   "file_extension": ".py",
   "mimetype": "text/x-python",
   "name": "python",
   "nbconvert_exporter": "python",
   "pygments_lexer": "ipython3",
   "version": "3.8.8"
  }
 },
 "nbformat": 4,
 "nbformat_minor": 5
}
