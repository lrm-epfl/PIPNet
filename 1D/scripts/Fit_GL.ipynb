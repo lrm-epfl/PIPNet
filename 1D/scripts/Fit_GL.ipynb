{
 "cells": [
  {
   "cell_type": "code",
   "execution_count": 1,
   "id": "b48c4f58",
   "metadata": {
    "tags": []
   },
   "outputs": [],
   "source": [
    "import numpy as np\n",
    "import os\n",
    "import sys\n",
    "import copy\n",
    "\n",
    "import torch\n",
    "torch.set_num_threads=4\n",
    "from torch import nn\n",
    "import scipy as sp\n",
    "\n",
    "import importlib\n",
    "import pickle as pk\n",
    "\n",
    "import matplotlib as mpl\n",
    "import matplotlib.pyplot as plt\n",
    "import matplotlib.animation as anm\n",
    "\n",
    "sys.path.insert(0, \"../src/\")\n",
    "import data\n",
    "import model\n",
    "import train\n",
    "\n",
    "#import nmrglue as ng\n",
    "import scipy as sp\n",
    "import scipy.interpolate as ip\n",
    "import scipy.optimize as op\n",
    "import scipy.signal as sg\n",
    "\n",
    "import tqdm.auto as tqdm\n",
    "\n",
    "np.random.seed(123)"
   ]
  },
  {
   "cell_type": "code",
   "execution_count": 2,
   "id": "63b0b7ca-a2f8-4935-a9e2-328ed9ee7432",
   "metadata": {},
   "outputs": [],
   "source": [
    "exp_dir = f\"../data/experimental_spectra/topspin/4096/\"\n",
    "exp_compounds = [\"ampicillin\", \"aspala\", \"flutamide\", \"histidine\", \"thymol\", \"tyrosine\", \"mdma\"]\n",
    "exp_range = {\"ampicillin\": [1500, 2500],\n",
    "             \"aspala\": [1500, 2500],\n",
    "             \"flutamide\": [1500, 2500],\n",
    "             \"histidine\": [1500, 2500],\n",
    "             \"thymol\": [1500, 2500],\n",
    "             \"tyrosine\": [1500, 2500],\n",
    "             \"mdma\": [1600, 2400],\n",
    "            }\n",
    "align_regions = {\"ampicillin\": [12., 9.],\n",
    "                 \"aspala\": [15., 11.],\n",
    "                 \"flutamide\": [11., 9.],\n",
    "                 \"histidine\": [18., 16.],\n",
    "                 \"thymol\": [6.7, 5.7],\n",
    "                 \"tyrosine\": [14., 11.],\n",
    "                 \"mdma\": [4., 2.],\n",
    "                }\n",
    "\n",
    "align_ind = -1\n",
    "\n",
    "fit_ranges = {\"ampicillin\": [[9.5, 12.]],\n",
    "              \"aspala\": [[12., 15.], [-2., 1.5]],\n",
    "              \"flutamide\": [[9.5, 12.]],\n",
    "              \"histidine\": [[16., 20.], [11.5, 13.5], [4.5, 6.]],\n",
    "              \"thymol\": [[8.5, 15.]],\n",
    "              \"tyrosine\": [[12., 14.], [9.5, 11.5], [-2., 3.]],\n",
    "              \"mdma\": [[1., 3.8]]}\n",
    "bounds = [(None, None), (1.e-6, None), (0., 1.), (1e-6, None)]\n",
    "bounds_v = [(None, None), (1.e-6, None), (1.e-6, None), (1e-6, None)]\n",
    "\n",
    "ylabs_v = [\"p\", \"wg\", \"wl\", \"h\"]\n",
    "ylabs_s = [\"p\", \"w\", \"m\", \"h\"]\n",
    "ylabs_p = [\"p\", \"w\", \"m\", \"h\"]\n",
    "\n",
    "w0s = np.linspace(0.1, 1, 10)\n",
    "min_w_fit = 40000.\n",
    "\n",
    "fig_dir = \"../figures/GL_fitting/\"\n",
    "if not os.path.exists(fig_dir):\n",
    "    os.mkdir(fig_dir)"
   ]
  },
  {
   "cell_type": "markdown",
   "id": "57caf186",
   "metadata": {},
   "source": [
    "# Load experimental data"
   ]
  },
  {
   "cell_type": "code",
   "execution_count": 3,
   "id": "72555c7a-be63-4473-9f98-67e12ad29a5d",
   "metadata": {},
   "outputs": [],
   "source": [
    "def inverse_mas_fit(wr, a, b):\n",
    "    \n",
    "    y = a + b / wr\n",
    "    \n",
    "    return y"
   ]
  },
  {
   "cell_type": "code",
   "execution_count": 4,
   "id": "77bc41de-e9e2-42f5-8dd9-1ff12ae9a1df",
   "metadata": {},
   "outputs": [],
   "source": [
    "def inverse_mas2_fit(wr, a, b, c):\n",
    "    \n",
    "    y = a + b / wr + c / (np.square(wr))\n",
    "    \n",
    "    return y"
   ]
  },
  {
   "cell_type": "code",
   "execution_count": 5,
   "id": "90b48ba3",
   "metadata": {},
   "outputs": [],
   "source": [
    "def load_topspin_spectrum(d):\n",
    "    \n",
    "    pd = f\"{d}pdata/1/\"\n",
    "    \n",
    "    fr = pd + \"1r\"\n",
    "    fi = pd + \"1i\"\n",
    "\n",
    "    with open(fr, \"rb\") as F:\n",
    "        dr = np.fromfile(F, np.int32).astype(float)\n",
    "\n",
    "    with open(fi, \"rb\") as F:\n",
    "        di = np.fromfile(F, np.int32).astype(float)\n",
    "\n",
    "    with open(f\"{d}acqus\", \"r\") as F:\n",
    "        lines = F.read().split(\"\\n\")\n",
    "\n",
    "    for l in lines:\n",
    "        if l.startswith(\"##$MASR\"):\n",
    "            wr = int(l.split(\"=\")[1].strip())\n",
    "        if l.startswith(\"##$TD=\"):\n",
    "            TD = int(l.split(\"=\")[1].strip())\n",
    "        if l.startswith(\"##$SW_h=\"):\n",
    "            SW = float(l.split(\"=\")[1].strip())\n",
    "\n",
    "    with open(f\"{pd}procs\", \"r\") as F:\n",
    "        lines = F.read().split(\"\\n\")\n",
    "\n",
    "    for l in lines:\n",
    "        if l.startswith(\"##$SI=\"):\n",
    "            n_pts = int(l.split(\"=\")[1].strip())\n",
    "\n",
    "        if l.startswith(\"##$OFFSET=\"):\n",
    "            offset = float(l.split(\"=\")[1].strip())\n",
    "\n",
    "        if l.startswith(\"##$SF=\"):\n",
    "            SF = float(l.split(\"=\")[1].strip())\n",
    "            \n",
    "    AQ = TD / (2 * SW)\n",
    "\n",
    "    hz = offset * SF - np.arange(n_pts) / (2 * AQ * n_pts / TD)\n",
    "    \n",
    "    ppm = hz / SF\n",
    "\n",
    "    return dr, di, wr, ppm, hz"
   ]
  },
  {
   "cell_type": "code",
   "execution_count": 6,
   "id": "df7cbcfc",
   "metadata": {},
   "outputs": [],
   "source": [
    "def extract_exp_topspin(in_dir, compound):\n",
    "    \n",
    "    d0 = f\"{in_dir}{compound}/\"\n",
    "    \n",
    "    ws = []\n",
    "    X = []\n",
    "    \n",
    "    for d in os.listdir(d0):\n",
    "        if d.isnumeric():\n",
    "            Xi, _, wr, ppm, hz = load_topspin_spectrum(f\"{d0}{d}/\")\n",
    "            X.append(Xi)\n",
    "            ws.append(wr)\n",
    "    \n",
    "    sorted_inds = np.argsort(ws)\n",
    "    \n",
    "    sorted_ws = np.array([ws[i] for i in sorted_inds])\n",
    "    \n",
    "    sorted_X = np.array([X[i] for i in sorted_inds])\n",
    "    \n",
    "    return ppm, sorted_ws, sorted_X"
   ]
  },
  {
   "cell_type": "code",
   "execution_count": 7,
   "id": "d9165aaa-b36b-44d2-a48b-f084f5f51150",
   "metadata": {},
   "outputs": [],
   "source": [
    "def get_maximum(ppm, X, r, method=\"direct\"):\n",
    "    \n",
    "    r0 = min(r)\n",
    "    r1 = max(r)\n",
    "    \n",
    "    if method == \"direct\":\n",
    "        \n",
    "        inds = np.where(np.logical_and(ppm > r0, ppm < r1))[0]\n",
    "        \n",
    "        i0 = np.argmax(X[inds])\n",
    "        w0 = ppm[inds[i0]]\n",
    "        \n",
    "    elif method == \"interp\":\n",
    "        \n",
    "        inds = np.where(np.logical_and(ppm > r0, ppm < r1))[0]\n",
    "        f = ip.interp1d(range(len(inds)), X[inds], kind=\"cubic\")\n",
    "        \n",
    "        x = np.linspace(0, len(inds)-1, 1001)\n",
    "        x_ppm = ppm[inds[0]] + x * (ppm[inds[1]] - ppm[inds[0]])\n",
    "        y = f(x)\n",
    "        w0 = x_ppm[np.argmax(y)]\n",
    "        \n",
    "    else:\n",
    "        raise ValueError(f\"Unknown method: {method}\")\n",
    "    \n",
    "    return w0"
   ]
  },
  {
   "cell_type": "code",
   "execution_count": 8,
   "id": "6d3542ce-539c-4eef-94dd-340d469f6d4c",
   "metadata": {},
   "outputs": [],
   "source": [
    "def shift_spectrum(hz, Xr, Xi, dw):\n",
    "    \n",
    "    n = Xr.shape[0]\n",
    "    t = np.arange(n) / np.abs(hz[1] - hz[0]) / n\n",
    "    \n",
    "    X = Xr + 1j * Xi\n",
    "    \n",
    "    T = np.fft.ifft(X)\n",
    "    \n",
    "    T *= np.exp(1j*dw*t * 2 * np.pi)\n",
    "    X = np.fft.fft(T)\n",
    "    Xr = np.real(X)\n",
    "    Xi = np.imag(X)\n",
    "    \n",
    "    return Xr, Xi"
   ]
  },
  {
   "cell_type": "code",
   "execution_count": 9,
   "id": "17921a87-fa1c-4a48-a6fc-7b458d366c4f",
   "metadata": {},
   "outputs": [],
   "source": [
    "def extract_and_shift_exp_topspin(in_dir, compound, align_region, align_ind=-1, method=\"interp\"):\n",
    "    \n",
    "    d0 = f\"{in_dir}{compound}/\"\n",
    "    \n",
    "    ws = []\n",
    "    X_real = []\n",
    "    X_imag = []\n",
    "    for d in os.listdir(d0):\n",
    "        if d.isnumeric():\n",
    "            Xr, Xi, wr, ppm, hz = load_topspin_spectrum(f\"{d0}{d}/\")\n",
    "            X_real.append(Xr)\n",
    "            X_imag.append(Xi)\n",
    "            ws.append(wr)\n",
    "    \n",
    "    sorted_inds = np.argsort(ws)\n",
    "    \n",
    "    sorted_ws = np.array([ws[i] for i in sorted_inds])\n",
    "    \n",
    "    sorted_Xr = np.array([X_real[i] for i in sorted_inds])\n",
    "    sorted_Xi = np.array([X_imag[i] for i in sorted_inds])\n",
    "    \n",
    "    # Extract target shift\n",
    "    align_region_hz = [hz[np.argmin(np.abs(ppm - align_region[0]))], hz[np.argmin(np.abs(ppm - align_region[1]))]]\n",
    "    w0 = get_maximum(hz, sorted_Xr[align_ind], align_region_hz, method=method)\n",
    "    w0_ppm = get_maximum(ppm, sorted_Xr[align_ind], align_region, method=method)\n",
    "    \n",
    "    shifted_Xr = []\n",
    "    shifted_Xi = []\n",
    "    all_dw = []\n",
    "    all_dw_ppm = []\n",
    "    \n",
    "    all_w = []\n",
    "    for Xr, Xi in zip(sorted_Xr, sorted_Xi):\n",
    "        # Get actual shift\n",
    "        this_w = get_maximum(hz, Xr, align_region_hz, method=method)\n",
    "        this_w_ppm = get_maximum(ppm, Xr, align_region, method=method)\n",
    "        dw = this_w - w0\n",
    "        all_dw.append(this_w- w0)\n",
    "        all_dw_ppm.append(this_w_ppm- w0_ppm)\n",
    "        \n",
    "        # Shift spectrum\n",
    "        Xr2, Xi2 = shift_spectrum(hz, Xr, Xi, dw)\n",
    "        \n",
    "        shifted_Xr.append(Xr2)\n",
    "        shifted_Xi.append(Xi2)\n",
    "    \n",
    "    return ppm, sorted_ws, np.array(shifted_Xr), np.array(shifted_Xi), np.array(all_dw), np.array(all_dw_ppm), sorted_Xr, sorted_Xi"
   ]
  },
  {
   "cell_type": "code",
   "execution_count": 10,
   "id": "b1e09b78-162e-4795-8ff2-4f7eeb156eaf",
   "metadata": {
    "tags": []
   },
   "outputs": [
    {
     "name": "stdout",
     "output_type": "stream",
     "text": [
      "ampicillin\n",
      "aspala\n",
      "flutamide\n",
      "histidine\n",
      "thymol\n",
      "tyrosine\n",
      "mdma\n"
     ]
    }
   ],
   "source": [
    "ppms = []\n",
    "Xs = []\n",
    "all_ws = []\n",
    "for compound in exp_compounds:\n",
    "    r = exp_range[compound]\n",
    "    print(compound)\n",
    "    ppm, ws, X, _, all_dw, all_dw_ppm, X0, _ = extract_and_shift_exp_topspin(exp_dir, compound, align_regions[compound], align_ind=align_ind)\n",
    "\n",
    "    ppm = ppm[r[0]:r[1]]\n",
    "    X = X0[:, r[0]:r[1]]\n",
    "\n",
    "    X /= np.sum(X, axis=1)[:, np.newaxis]\n",
    "    \n",
    "    ppms.append(ppm)\n",
    "    Xs.append(X)\n",
    "    all_ws.append(ws)"
   ]
  },
  {
   "cell_type": "code",
   "execution_count": 11,
   "id": "085fee80-5de8-4228-890b-d1ad5a8dbe25",
   "metadata": {},
   "outputs": [],
   "source": [
    "def voigt(x, p, wg, wl, h, eps=1e-12):\n",
    "    \n",
    "    G = np.exp(-4 * np.log(2) * np.square(x-p) / (wg ** 2))\n",
    "    L = 1 / (1 + 4 * np.square(x-p) / (wl ** 2))\n",
    "    \n",
    "    V = sg.convolve(G, L, mode=\"same\")\n",
    "    \n",
    "    if np.max(V) < eps:\n",
    "        return V\n",
    "    \n",
    "    V /= np.max(V) / h\n",
    "    \n",
    "    return V"
   ]
  },
  {
   "cell_type": "code",
   "execution_count": 12,
   "id": "1b3e9878-bb3b-46d5-b318-8e751e42c2fb",
   "metadata": {
    "tags": []
   },
   "outputs": [],
   "source": [
    "def gls(x, p, w, m, h):\n",
    "    \n",
    "    y = h * (1-m) * np.exp(-4 * np.log(2) * np.square(x-p) / (w ** 2))\n",
    "    \n",
    "    y += h * m / (1 + 4 * np.square(x-p) / (w ** 2))\n",
    "    \n",
    "    return y"
   ]
  },
  {
   "cell_type": "code",
   "execution_count": 13,
   "id": "a71c1949-df95-4a62-904b-8753222ed7b2",
   "metadata": {
    "tags": []
   },
   "outputs": [],
   "source": [
    "def glp(x, p, w, m, h):\n",
    "    \n",
    "    y = h * np.exp(-4 * np.log(2) * (1-m) * np.square(x-p) / (w ** 2))\n",
    "    \n",
    "    y /= (1 + 4 * m * np.square(x-p) / (w ** 2))\n",
    "    \n",
    "    return y"
   ]
  },
  {
   "cell_type": "code",
   "execution_count": 14,
   "id": "61d2ad21-1bdb-4057-9b0d-9ff3fe49ceec",
   "metadata": {},
   "outputs": [],
   "source": [
    "def rmse(y1, y2):\n",
    "    return np.sqrt(np.mean(np.square(y1 - y2)))"
   ]
  },
  {
   "cell_type": "code",
   "execution_count": 15,
   "id": "ab085873-d75e-41c8-9ce1-0593f504a5ee",
   "metadata": {},
   "outputs": [],
   "source": [
    "def to_minimize(x0, x, y, f):\n",
    "    \n",
    "    [p, w, m, h] = x0\n",
    "    \n",
    "    y2 = f(x, p, w, m, h)\n",
    "    \n",
    "    return rmse(y, y2)"
   ]
  },
  {
   "cell_type": "code",
   "execution_count": 16,
   "id": "3edcd333-24ec-4634-bb49-12c6a80e18ec",
   "metadata": {},
   "outputs": [],
   "source": [
    "x = np.linspace(-10., 10., 10001)"
   ]
  },
  {
   "cell_type": "code",
   "execution_count": 17,
   "id": "bfe09c8e-9726-43e2-b748-4f7252338a61",
   "metadata": {},
   "outputs": [
    {
     "data": {
      "text/plain": [
       "array([0.00045998, 0.00046349, 0.00046701, ..., 0.00046701, 0.00046349,\n",
       "       0.00045998])"
      ]
     },
     "execution_count": 17,
     "metadata": {},
     "output_type": "execute_result"
    }
   ],
   "source": [
    "voigt(x, 0., 0.5, 0.5, 1.)"
   ]
  },
  {
   "cell_type": "code",
   "execution_count": 18,
   "id": "311c0e1f-d5b4-4d2d-ad70-947aa4423d0b",
   "metadata": {},
   "outputs": [
    {
     "name": "stdout",
     "output_type": "stream",
     "text": [
      "120 µs ± 816 ns per loop (mean ± std. dev. of 7 runs, 10000 loops each)\n"
     ]
    }
   ],
   "source": [
    "%%timeit\n",
    "\n",
    "gls(x, 0., 1., 0.5, 1.)"
   ]
  },
  {
   "cell_type": "code",
   "execution_count": 19,
   "id": "28a7edeb-637d-40cd-b52e-21f049d0c9bd",
   "metadata": {},
   "outputs": [
    {
     "name": "stdout",
     "output_type": "stream",
     "text": [
      "117 µs ± 7.21 µs per loop (mean ± std. dev. of 7 runs, 10000 loops each)\n"
     ]
    }
   ],
   "source": [
    "%%timeit\n",
    "\n",
    "glp(x, 0., 1., 0.5, 1.)"
   ]
  },
  {
   "cell_type": "code",
   "execution_count": 20,
   "id": "4a98ea9f-1139-4db2-9392-d46edbaba394",
   "metadata": {},
   "outputs": [
    {
     "name": "stdout",
     "output_type": "stream",
     "text": [
      "1.06 ms ± 56.7 µs per loop (mean ± std. dev. of 7 runs, 1000 loops each)\n"
     ]
    }
   ],
   "source": [
    "%%timeit\n",
    "\n",
    "voigt(x, 0., 0.5, 0.5, 1.)"
   ]
  },
  {
   "cell_type": "code",
   "execution_count": 91,
   "id": "28a38b84-b5d1-4239-8623-ed75353672e8",
   "metadata": {},
   "outputs": [
    {
     "name": "stdout",
     "output_type": "stream",
     "text": [
      "ampicillin\n",
      "Fitting [9.5, 12.0] ppm\n"
     ]
    },
    {
     "data": {
      "application/vnd.jupyter.widget-view+json": {
       "model_id": "11bbcee07ce04037bb7e3f62a7d3f90f",
       "version_major": 2,
       "version_minor": 0
      },
      "text/plain": [
       "  0%|          | 0/41 [00:00<?, ?it/s]"
      ]
     },
     "metadata": {},
     "output_type": "display_data"
    },
    {
     "name": "stderr",
     "output_type": "stream",
     "text": [
      "//anaconda3/envs/torch/lib/python3.8/site-packages/scipy/optimize/_minpack_py.py:833: OptimizeWarning: Covariance of the parameters could not be estimated\n",
      "  warnings.warn('Covariance of the parameters could not be estimated',\n",
      "//anaconda3/envs/torch/lib/python3.8/site-packages/scipy/optimize/_minpack_py.py:833: OptimizeWarning: Covariance of the parameters could not be estimated\n",
      "  warnings.warn('Covariance of the parameters could not be estimated',\n",
      "//anaconda3/envs/torch/lib/python3.8/site-packages/scipy/optimize/_minpack_py.py:833: OptimizeWarning: Covariance of the parameters could not be estimated\n",
      "  warnings.warn('Covariance of the parameters could not be estimated',\n"
     ]
    },
    {
     "name": "stdout",
     "output_type": "stream",
     "text": [
      "aspala\n",
      "Fitting [12.0, 15.0] ppm\n"
     ]
    },
    {
     "data": {
      "application/vnd.jupyter.widget-view+json": {
       "model_id": "91db59c9d7b8427eb3db2455623da0f0",
       "version_major": 2,
       "version_minor": 0
      },
      "text/plain": [
       "  0%|          | 0/38 [00:00<?, ?it/s]"
      ]
     },
     "metadata": {},
     "output_type": "display_data"
    },
    {
     "name": "stderr",
     "output_type": "stream",
     "text": [
      "//anaconda3/envs/torch/lib/python3.8/site-packages/scipy/optimize/_minpack_py.py:833: OptimizeWarning: Covariance of the parameters could not be estimated\n",
      "  warnings.warn('Covariance of the parameters could not be estimated',\n",
      "//anaconda3/envs/torch/lib/python3.8/site-packages/scipy/optimize/_minpack_py.py:833: OptimizeWarning: Covariance of the parameters could not be estimated\n",
      "  warnings.warn('Covariance of the parameters could not be estimated',\n",
      "//anaconda3/envs/torch/lib/python3.8/site-packages/scipy/optimize/_minpack_py.py:833: OptimizeWarning: Covariance of the parameters could not be estimated\n",
      "  warnings.warn('Covariance of the parameters could not be estimated',\n"
     ]
    },
    {
     "name": "stdout",
     "output_type": "stream",
     "text": [
      "Fitting [-2.0, 1.5] ppm\n"
     ]
    },
    {
     "data": {
      "application/vnd.jupyter.widget-view+json": {
       "model_id": "6f2c52e325014b4991cecde974ae2293",
       "version_major": 2,
       "version_minor": 0
      },
      "text/plain": [
       "  0%|          | 0/38 [00:00<?, ?it/s]"
      ]
     },
     "metadata": {},
     "output_type": "display_data"
    },
    {
     "name": "stdout",
     "output_type": "stream",
     "text": [
      "flutamide\n",
      "Fitting [9.5, 12.0] ppm\n"
     ]
    },
    {
     "data": {
      "application/vnd.jupyter.widget-view+json": {
       "model_id": "51836b12875a4d2eb4ca5daaac0f642b",
       "version_major": 2,
       "version_minor": 0
      },
      "text/plain": [
       "  0%|          | 0/41 [00:00<?, ?it/s]"
      ]
     },
     "metadata": {},
     "output_type": "display_data"
    },
    {
     "name": "stderr",
     "output_type": "stream",
     "text": [
      "//anaconda3/envs/torch/lib/python3.8/site-packages/scipy/optimize/_minpack_py.py:833: OptimizeWarning: Covariance of the parameters could not be estimated\n",
      "  warnings.warn('Covariance of the parameters could not be estimated',\n",
      "//anaconda3/envs/torch/lib/python3.8/site-packages/scipy/optimize/_minpack_py.py:833: OptimizeWarning: Covariance of the parameters could not be estimated\n",
      "  warnings.warn('Covariance of the parameters could not be estimated',\n",
      "//anaconda3/envs/torch/lib/python3.8/site-packages/scipy/optimize/_minpack_py.py:833: OptimizeWarning: Covariance of the parameters could not be estimated\n",
      "  warnings.warn('Covariance of the parameters could not be estimated',\n"
     ]
    },
    {
     "name": "stdout",
     "output_type": "stream",
     "text": [
      "histidine\n",
      "Fitting [16.0, 20.0] ppm\n"
     ]
    },
    {
     "data": {
      "application/vnd.jupyter.widget-view+json": {
       "model_id": "8cab18475acc40dc8932e914e6f3e682",
       "version_major": 2,
       "version_minor": 0
      },
      "text/plain": [
       "  0%|          | 0/41 [00:00<?, ?it/s]"
      ]
     },
     "metadata": {},
     "output_type": "display_data"
    },
    {
     "name": "stdout",
     "output_type": "stream",
     "text": [
      "Fitting [11.5, 13.5] ppm\n"
     ]
    },
    {
     "data": {
      "application/vnd.jupyter.widget-view+json": {
       "model_id": "5d9c1a9a60274d4498b1117232466c69",
       "version_major": 2,
       "version_minor": 0
      },
      "text/plain": [
       "  0%|          | 0/41 [00:00<?, ?it/s]"
      ]
     },
     "metadata": {},
     "output_type": "display_data"
    },
    {
     "name": "stderr",
     "output_type": "stream",
     "text": [
      "//anaconda3/envs/torch/lib/python3.8/site-packages/scipy/optimize/_minpack_py.py:833: OptimizeWarning: Covariance of the parameters could not be estimated\n",
      "  warnings.warn('Covariance of the parameters could not be estimated',\n",
      "//anaconda3/envs/torch/lib/python3.8/site-packages/scipy/optimize/_minpack_py.py:833: OptimizeWarning: Covariance of the parameters could not be estimated\n",
      "  warnings.warn('Covariance of the parameters could not be estimated',\n",
      "//anaconda3/envs/torch/lib/python3.8/site-packages/scipy/optimize/_minpack_py.py:833: OptimizeWarning: Covariance of the parameters could not be estimated\n",
      "  warnings.warn('Covariance of the parameters could not be estimated',\n"
     ]
    },
    {
     "name": "stdout",
     "output_type": "stream",
     "text": [
      "Fitting [4.5, 6.0] ppm\n"
     ]
    },
    {
     "data": {
      "application/vnd.jupyter.widget-view+json": {
       "model_id": "05bdce03ebfc45c0ba160c7c484e802a",
       "version_major": 2,
       "version_minor": 0
      },
      "text/plain": [
       "  0%|          | 0/41 [00:00<?, ?it/s]"
      ]
     },
     "metadata": {},
     "output_type": "display_data"
    },
    {
     "name": "stderr",
     "output_type": "stream",
     "text": [
      "//anaconda3/envs/torch/lib/python3.8/site-packages/scipy/optimize/_minpack_py.py:833: OptimizeWarning: Covariance of the parameters could not be estimated\n",
      "  warnings.warn('Covariance of the parameters could not be estimated',\n",
      "//anaconda3/envs/torch/lib/python3.8/site-packages/scipy/optimize/_minpack_py.py:833: OptimizeWarning: Covariance of the parameters could not be estimated\n",
      "  warnings.warn('Covariance of the parameters could not be estimated',\n",
      "//anaconda3/envs/torch/lib/python3.8/site-packages/scipy/optimize/_minpack_py.py:833: OptimizeWarning: Covariance of the parameters could not be estimated\n",
      "  warnings.warn('Covariance of the parameters could not be estimated',\n"
     ]
    },
    {
     "name": "stdout",
     "output_type": "stream",
     "text": [
      "thymol\n",
      "Fitting [8.5, 15.0] ppm\n"
     ]
    },
    {
     "data": {
      "application/vnd.jupyter.widget-view+json": {
       "model_id": "7ae1c22286a048ac934c6541be3e69fd",
       "version_major": 2,
       "version_minor": 0
      },
      "text/plain": [
       "  0%|          | 0/41 [00:00<?, ?it/s]"
      ]
     },
     "metadata": {},
     "output_type": "display_data"
    },
    {
     "name": "stderr",
     "output_type": "stream",
     "text": [
      "//anaconda3/envs/torch/lib/python3.8/site-packages/scipy/optimize/_minpack_py.py:833: OptimizeWarning: Covariance of the parameters could not be estimated\n",
      "  warnings.warn('Covariance of the parameters could not be estimated',\n",
      "//anaconda3/envs/torch/lib/python3.8/site-packages/scipy/optimize/_minpack_py.py:833: OptimizeWarning: Covariance of the parameters could not be estimated\n",
      "  warnings.warn('Covariance of the parameters could not be estimated',\n",
      "//anaconda3/envs/torch/lib/python3.8/site-packages/scipy/optimize/_minpack_py.py:833: OptimizeWarning: Covariance of the parameters could not be estimated\n",
      "  warnings.warn('Covariance of the parameters could not be estimated',\n"
     ]
    },
    {
     "name": "stdout",
     "output_type": "stream",
     "text": [
      "tyrosine\n",
      "Fitting [12.0, 14.0] ppm\n"
     ]
    },
    {
     "data": {
      "application/vnd.jupyter.widget-view+json": {
       "model_id": "a75128814b4146f29296d7dd5f52ae32",
       "version_major": 2,
       "version_minor": 0
      },
      "text/plain": [
       "  0%|          | 0/36 [00:00<?, ?it/s]"
      ]
     },
     "metadata": {},
     "output_type": "display_data"
    },
    {
     "name": "stderr",
     "output_type": "stream",
     "text": [
      "//anaconda3/envs/torch/lib/python3.8/site-packages/scipy/optimize/_minpack_py.py:833: OptimizeWarning: Covariance of the parameters could not be estimated\n",
      "  warnings.warn('Covariance of the parameters could not be estimated',\n",
      "//anaconda3/envs/torch/lib/python3.8/site-packages/scipy/optimize/_minpack_py.py:833: OptimizeWarning: Covariance of the parameters could not be estimated\n",
      "  warnings.warn('Covariance of the parameters could not be estimated',\n",
      "//anaconda3/envs/torch/lib/python3.8/site-packages/scipy/optimize/_minpack_py.py:833: OptimizeWarning: Covariance of the parameters could not be estimated\n",
      "  warnings.warn('Covariance of the parameters could not be estimated',\n"
     ]
    },
    {
     "name": "stdout",
     "output_type": "stream",
     "text": [
      "Fitting [9.5, 11.5] ppm\n"
     ]
    },
    {
     "data": {
      "application/vnd.jupyter.widget-view+json": {
       "model_id": "d096303072c141eaa0787727694d0360",
       "version_major": 2,
       "version_minor": 0
      },
      "text/plain": [
       "  0%|          | 0/36 [00:00<?, ?it/s]"
      ]
     },
     "metadata": {},
     "output_type": "display_data"
    },
    {
     "name": "stderr",
     "output_type": "stream",
     "text": [
      "//anaconda3/envs/torch/lib/python3.8/site-packages/scipy/optimize/_minpack_py.py:833: OptimizeWarning: Covariance of the parameters could not be estimated\n",
      "  warnings.warn('Covariance of the parameters could not be estimated',\n",
      "//anaconda3/envs/torch/lib/python3.8/site-packages/scipy/optimize/_minpack_py.py:833: OptimizeWarning: Covariance of the parameters could not be estimated\n",
      "  warnings.warn('Covariance of the parameters could not be estimated',\n",
      "//anaconda3/envs/torch/lib/python3.8/site-packages/scipy/optimize/_minpack_py.py:833: OptimizeWarning: Covariance of the parameters could not be estimated\n",
      "  warnings.warn('Covariance of the parameters could not be estimated',\n"
     ]
    },
    {
     "name": "stdout",
     "output_type": "stream",
     "text": [
      "Fitting [-2.0, 3.0] ppm\n"
     ]
    },
    {
     "data": {
      "application/vnd.jupyter.widget-view+json": {
       "model_id": "d37c35c2353f4c5a9164837fda9a40ed",
       "version_major": 2,
       "version_minor": 0
      },
      "text/plain": [
       "  0%|          | 0/36 [00:00<?, ?it/s]"
      ]
     },
     "metadata": {},
     "output_type": "display_data"
    },
    {
     "name": "stdout",
     "output_type": "stream",
     "text": [
      "mdma\n",
      "Fitting [1.0, 3.8] ppm\n"
     ]
    },
    {
     "data": {
      "application/vnd.jupyter.widget-view+json": {
       "model_id": "c043fd8524f446199e9b75593afe2270",
       "version_major": 2,
       "version_minor": 0
      },
      "text/plain": [
       "  0%|          | 0/31 [00:00<?, ?it/s]"
      ]
     },
     "metadata": {},
     "output_type": "display_data"
    },
    {
     "name": "stderr",
     "output_type": "stream",
     "text": [
      "//anaconda3/envs/torch/lib/python3.8/site-packages/scipy/optimize/_minpack_py.py:833: OptimizeWarning: Covariance of the parameters could not be estimated\n",
      "  warnings.warn('Covariance of the parameters could not be estimated',\n"
     ]
    }
   ],
   "source": [
    "c0 = np.array([0., 1., 1.])\n",
    "dc = np.array([0., -1., 0.])\n",
    "\n",
    "all_fit_params1 = []\n",
    "all_fit_params2 = []\n",
    "\n",
    "for compound, ppm, X, ws in zip(exp_compounds, ppms, Xs, all_ws):\n",
    "    print(compound)\n",
    "    for r in fit_ranges[compound]:\n",
    "        print(f\"Fitting {r} ppm\")\n",
    "        \n",
    "        r0 = np.min(r)\n",
    "        r1 = np.max(r)\n",
    "        \n",
    "        fdir = f\"{fig_dir}{compound}_{r0:.2f}_{r1:.2f}_ppm/\"\n",
    "        if not os.path.exists(fdir):\n",
    "            os.mkdir(fdir)\n",
    "        \n",
    "        fig = plt.figure(figsize=(4,3))\n",
    "        ax = fig.add_subplot(1,1,1)\n",
    "        for i, Xi in enumerate(X):\n",
    "            ax.plot(ppm, Xi, color=c0 + i/(X.shape[0]-1) * dc, linewidth=1.)\n",
    "        \n",
    "        ax.set_xlim(20., -5.)\n",
    "        ax.set_xlabel(\"Chemical shift [ppm]\")\n",
    "        ax.set_yticks([])\n",
    "        fig.tight_layout()\n",
    "        plt.savefig(f\"{fdir}spectra.pdf\")\n",
    "        #plt.show()\n",
    "        plt.close()\n",
    "        \n",
    "        fig = plt.figure(figsize=(4,3))\n",
    "        ax = fig.add_subplot(1,1,1)\n",
    "        for i, Xi in enumerate(X):\n",
    "            ax.plot(ppm, Xi, color=c0 + i/(X.shape[0]-1) * dc, linewidth=1.)\n",
    "        \n",
    "        ax.set_xlim(r1, r0)\n",
    "        ax.set_xlabel(\"Chemical shift [ppm]\")\n",
    "        ax.set_yticks([])\n",
    "        fig.tight_layout()\n",
    "        plt.savefig(f\"{fdir}spectra_zoom.pdf\")\n",
    "        #plt.show()\n",
    "        plt.close()\n",
    "        \n",
    "        fit_v = []\n",
    "        fit_s = []\n",
    "        fit_p = []\n",
    "        \n",
    "        fit_rmses_v = []\n",
    "        fit_rmses_s = []\n",
    "        fit_rmses_p = []\n",
    "        \n",
    "        inds = np.where(np.logical_and(ppm > r0, ppm < r1))\n",
    "        \n",
    "        for i, (wi, Xi) in tqdm.tqdm(enumerate(zip(ws, X)), total=len(ws)):\n",
    "            \n",
    "            p0 = get_maximum(ppm, Xi, r, method=\"interp\")\n",
    "            \n",
    "            bounds[0] = (r0, r1)\n",
    "            bounds_v[0] = (r0, r1)\n",
    "            \n",
    "            best_res_v = None\n",
    "            best_res_s = None\n",
    "            best_res_p = None\n",
    "            for w0 in w0s:\n",
    "                \n",
    "                x0 = [p0, w0, w0, np.max(Xi[inds])]\n",
    "\n",
    "                res_v = op.minimize(to_minimize, x0, args=(ppm[inds], Xi[inds], voigt), bounds=bounds_v,\n",
    "                                    method=\"Nelder-Mead\", options={\"xatol\": 1e-8, \"fatol\": 1e-8})\n",
    "\n",
    "                x0 = [p0, w0, 0.5, np.max(Xi[inds])]\n",
    "                \n",
    "                res_s = op.minimize(to_minimize, x0, args=(ppm[inds], Xi[inds], gls), bounds=bounds,\n",
    "                                    method=\"Nelder-Mead\", options={\"xatol\": 1e-8, \"fatol\": 1e-8})\n",
    "                \n",
    "                x0 = [p0, w0, 0.5, np.max(Xi[inds])]\n",
    "                \n",
    "                res_p = op.minimize(to_minimize, x0, args=(ppm[inds], Xi[inds], glp), bounds=bounds,\n",
    "                                    method=\"Nelder-Mead\", options={\"xatol\": 1e-8, \"fatol\": 1e-8})\n",
    "                \n",
    "                if best_res_s is None:\n",
    "                    best_res_v = res_v\n",
    "                    best_res_s = res_s\n",
    "                    best_res_p = res_p\n",
    "                \n",
    "                if res_v.fun < best_res_v.fun:\n",
    "                    best_res_v = res_v\n",
    "                if res_s.fun < best_res_s.fun:\n",
    "                    best_res_s = res_s\n",
    "                if res_p.fun < best_res_p.fun:\n",
    "                    best_res_p = res_p\n",
    "            \n",
    "            #res_s = op.minimize(to_minimize, x0, args=(ppm[inds], Xi[inds], gls), bounds=bounds,\n",
    "            #                    method=\"trust-constr\", options={'maxiter': 100000})\n",
    "            #res_p = op.minimize(to_minimize, x0, args=(ppm[inds], Xi[inds], glp), bounds=bounds,\n",
    "            #                    method=\"trust-constr\", options={'maxiter': 100000})\n",
    "            \n",
    "            fit_v.append(best_res_v.x)\n",
    "            fit_s.append(best_res_s.x)\n",
    "            fit_p.append(best_res_p.x)\n",
    "            \n",
    "            y_v = voigt(ppm[inds], res_v.x[0], res_v.x[1], res_v.x[2], res_v.x[3])\n",
    "            y_s = gls(ppm[inds], res_s.x[0], res_s.x[1], res_s.x[2], res_s.x[3])\n",
    "            y_p = glp(ppm[inds], res_s.x[0], res_s.x[1], res_s.x[2], res_s.x[3])\n",
    "            \n",
    "            fit_rmses_v.append(rmse(Xi[inds], y_v))\n",
    "            fit_rmses_s.append(rmse(Xi[inds], y_s))\n",
    "            fit_rmses_p.append(rmse(Xi[inds], y_p))\n",
    "            \n",
    "            fig = plt.figure(figsize=(3,3))\n",
    "            ax = fig.add_subplot(1,1,1)\n",
    "            \n",
    "            ax.plot(ppm[inds], Xi[inds])\n",
    "            ax.plot(ppm[inds], y_v)\n",
    "            ax.plot(ppm[inds], y_s)\n",
    "            ax.plot(ppm[inds], y_p)\n",
    "            ax.set_yticks([])\n",
    "            ax.set_ylim(0 - np.max(X[:, inds]) * 0.05, np.max(X[:, inds]) * 1.05)\n",
    "            ax.set_xlim(r1, r0)\n",
    "            ax.set_xlabel(\"Chemical shift [ppm]\")\n",
    "            \n",
    "            ax.legend([\"Data\", \"Voigt\", \"GLS\", \"GLP\"])\n",
    "            ax.plot([r0, r1], [0., 0.], \"k\", linewidth=0.5)\n",
    "            fig.tight_layout()\n",
    "            \n",
    "            plt.savefig(f\"{fdir}fit_{wi:.0f}_kHz.pdf\")\n",
    "            #plt.show()\n",
    "            plt.close()\n",
    "            \n",
    "        fit_v = np.array(fit_v)\n",
    "        fit_s = np.array(fit_s)\n",
    "        fit_p = np.array(fit_p)\n",
    "        \n",
    "        w_inds = np.where(ws >= min_w_fit)\n",
    "        \n",
    "        these_fit_params1 = []\n",
    "        these_fit_params2 = []\n",
    "        \n",
    "        for i, (fit, yl) in enumerate(zip(fit_v.T, ylabs_v)):\n",
    "            \n",
    "            fig = plt.figure(figsize=(4,3))\n",
    "            ax = fig.add_subplot(1,1,1)\n",
    "\n",
    "            P1, C1 = op.curve_fit(inverse_mas_fit, ws[w_inds], fit[w_inds])\n",
    "            P2, C2 = op.curve_fit(inverse_mas2_fit, ws[w_inds], fit[w_inds])\n",
    "\n",
    "            h0 = ax.scatter(ws / 1000, fit, s=5, c=\"C0\")\n",
    "\n",
    "            ax.set_ylabel(yl)\n",
    "            ax.set_xlabel(\"MAS rate [kHz]\")\n",
    "            fig.tight_layout()\n",
    "            plt.savefig(f\"{fdir}Voigt_results_{yl}.pdf\")\n",
    "            \n",
    "            h1 = ax.plot(ws / 1000, inverse_mas_fit(ws, P1[0], P1[1]), \"C1\")\n",
    "            h2 = ax.plot(ws / 1000, inverse_mas2_fit(ws, P2[0], P2[1], P2[2]), \"C2\")\n",
    "\n",
    "            ax.legend([h0, h1[0], h2[0]], [\"Observed values\", \"1/w fit\", \"1/w + 1/w$^2$ fit\"])\n",
    "\n",
    "            ax.set_ylabel(yl)\n",
    "            ax.set_xlabel(\"MAS rate [kHz]\")\n",
    "            fig.tight_layout()\n",
    "\n",
    "            plt.savefig(f\"{fdir}GLS_results_{yl}_fit.pdf\")\n",
    "            #plt.show()\n",
    "            plt.close()\n",
    "        \n",
    "        for i, (fit, yl) in enumerate(zip(fit_s.T, ylabs_s)):\n",
    "            \n",
    "            fig = plt.figure(figsize=(4,3))\n",
    "            ax = fig.add_subplot(1,1,1)\n",
    "            \n",
    "            if i == 1:\n",
    "                fit_bounds = (0., np.inf)\n",
    "            elif i == 2:\n",
    "                fit_bounds = (0., np.inf)\n",
    "            else:\n",
    "                fit_bounds = (-np.inf, np.inf)\n",
    "\n",
    "            P1, C1 = op.curve_fit(inverse_mas_fit, ws[w_inds], fit[w_inds], bounds=fit_bounds)\n",
    "            P2, C2 = op.curve_fit(inverse_mas2_fit, ws[w_inds], fit[w_inds], bounds=fit_bounds)\n",
    "            \n",
    "            these_fit_params1.append(P1)\n",
    "            these_fit_params2.append(P2)\n",
    "\n",
    "            h0 = ax.scatter(ws / 1000, fit, s=5, c=\"C0\")\n",
    "\n",
    "            ax.set_ylabel(yl)\n",
    "            ax.set_xlabel(\"MAS rate [kHz]\")\n",
    "            fig.tight_layout()\n",
    "            plt.savefig(f\"{fdir}GLS_results_{yl}.pdf\")\n",
    "            \n",
    "            h1 = ax.plot(ws / 1000, inverse_mas_fit(ws, P1[0], P1[1]), \"C1\")\n",
    "            h2 = ax.plot(ws / 1000, inverse_mas2_fit(ws, P2[0], P2[1], P2[2]), \"C2\")\n",
    "\n",
    "            ax.legend([h0, h1[0], h2[0]], [\"Observed values\", \"1/w fit\", \"1/w + 1/w$^2$ fit\"])\n",
    "\n",
    "            ax.set_ylabel(yl)\n",
    "            ax.set_xlabel(\"MAS rate [kHz]\")\n",
    "            fig.tight_layout()\n",
    "\n",
    "            plt.savefig(f\"{fdir}GLS_results_{yl}_fit.pdf\")\n",
    "            #plt.show()\n",
    "            plt.close()\n",
    "            \n",
    "        for i, (fit, yl) in enumerate(zip(fit_p.T, ylabs_p)):\n",
    "            \n",
    "            fig = plt.figure(figsize=(4,3))\n",
    "            ax = fig.add_subplot(1,1,1)\n",
    "\n",
    "            P1, C1 = op.curve_fit(inverse_mas_fit, ws[w_inds], fit[w_inds])\n",
    "            P2, C2 = op.curve_fit(inverse_mas2_fit, ws[w_inds], fit[w_inds])\n",
    "\n",
    "            h0 = ax.scatter(ws / 1000, fit, s=5, c=\"C0\")\n",
    "            \n",
    "            ax.set_ylabel(yl)\n",
    "            ax.set_xlabel(\"MAS rate [kHz]\")\n",
    "            fig.tight_layout()\n",
    "            plt.savefig(f\"{fdir}GLP_results_{yl}.pdf\")\n",
    "            \n",
    "            h1 = ax.plot(ws / 1000, inverse_mas_fit(ws, P1[0], P1[1]), \"C1\")\n",
    "            h2 = ax.plot(ws / 1000, inverse_mas2_fit(ws, P2[0], P2[1], P2[2]), \"C2\")\n",
    "\n",
    "            ax.legend([h0, h1[0], h2[0]], [\"Observed values\", \"1/w fit\", \"1/w + 1/w$^2$ fit\"])\n",
    "\n",
    "            ax.set_ylabel(yl)\n",
    "            ax.set_xlabel(\"MAS rate [kHz]\")\n",
    "            fig.tight_layout()\n",
    "\n",
    "            plt.savefig(f\"{fdir}GLP_results_{yl}_fit.pdf\")\n",
    "            #plt.show()\n",
    "            plt.close()\n",
    "            \n",
    "        fig = plt.figure(figsize=(4,3))\n",
    "        ax = fig.add_subplot(1,1,1)\n",
    "        ax.plot(ws / 1000., fit_rmses_s)\n",
    "        ax.plot(ws / 1000., fit_rmses_p)\n",
    "        ax.legend([\"GLS\", \"GLP\"])\n",
    "        ax.set_ylabel(\"RMSE\")\n",
    "        ax.set_xlabel(\"MAS rate [kHz]\")\n",
    "        fig.tight_layout()\n",
    "        plt.savefig(f\"{fdir}rmses.pdf\")\n",
    "        #plt.show()\n",
    "        plt.close()\n",
    "        \n",
    "        fig = plt.figure(figsize=(4,3))\n",
    "        ax = fig.add_subplot(1,1,1)\n",
    "        ax.plot(ws / 1000., fit_rmses_v)\n",
    "        ax.plot(ws / 1000., fit_rmses_s)\n",
    "        ax.plot(ws / 1000., fit_rmses_p)\n",
    "        ax.legend([\"Voigt\", \"GLS\", \"GLP\"])\n",
    "        ax.set_ylabel(\"RMSE\")\n",
    "        ax.set_xlabel(\"MAS rate [kHz]\")\n",
    "        fig.tight_layout()\n",
    "        plt.savefig(f\"{fdir}rmses_voigt.pdf\")\n",
    "        #plt.show()\n",
    "        plt.close()\n",
    "        \n",
    "        all_fit_params1.append(these_fit_params1)\n",
    "        all_fit_params2.append(these_fit_params2)"
   ]
  },
  {
   "cell_type": "code",
   "execution_count": 92,
   "id": "5f7c6206-72f8-4a97-bce6-b52df9a5ccb7",
   "metadata": {},
   "outputs": [],
   "source": [
    "all_fit_params1 = np.array(all_fit_params1)"
   ]
  },
  {
   "cell_type": "code",
   "execution_count": 93,
   "id": "2cc082d3-7491-44a9-8dd1-772e738ca7d4",
   "metadata": {},
   "outputs": [],
   "source": [
    "all_fit_params2 = np.array(all_fit_params2)"
   ]
  },
  {
   "cell_type": "code",
   "execution_count": 94,
   "id": "1cb842df-763f-40ce-9287-b68db82b7bc9",
   "metadata": {},
   "outputs": [],
   "source": [
    "labels = []\n",
    "for compound in exp_compounds:\n",
    "    for r in fit_ranges[compound]:\n",
    "        labels.append(f\"{compound}_{r[0]:.2f}_{r[1]:.2f}\")"
   ]
  },
  {
   "cell_type": "markdown",
   "id": "f6962851-79fb-4210-b1f1-c5b9dcdc528a",
   "metadata": {
    "tags": []
   },
   "source": [
    "# Shift fitting"
   ]
  },
  {
   "cell_type": "code",
   "execution_count": 95,
   "id": "c95396cd-cf4a-4869-9e32-6bdd333352da",
   "metadata": {},
   "outputs": [
    {
     "name": "stdout",
     "output_type": "stream",
     "text": [
      " 9.9214e+00\t 1.3800e+07\tampicillin_9.50_12.00\n",
      " 1.2546e+01\t 1.8287e+07\taspala_12.00_15.00\n",
      " 8.0036e-01\t 1.0747e+07\taspala_-2.00_1.50\n",
      " 9.7867e+00\t 1.9867e+07\tflutamide_9.50_12.00\n",
      " 1.6917e+01\t 8.9226e+06\thistidine_16.00_20.00\n",
      " 1.2303e+01\t 1.2975e+07\thistidine_11.50_13.50\n",
      " 5.0488e+00\t 9.8563e+06\thistidine_4.50_6.00\n",
      " 9.3269e+00\t 5.8853e+06\tthymol_8.50_15.00\n",
      " 1.2346e+01\t 2.0974e+07\ttyrosine_12.00_14.00\n",
      " 9.9101e+00\t 1.5912e+07\ttyrosine_9.50_11.50\n",
      " 2.4998e+00\t-3.4254e+06\ttyrosine_-2.00_3.00\n",
      " 3.2677e+00\t 1.3018e+07\tmdma_1.00_3.80\n"
     ]
    }
   ],
   "source": [
    "i = 0\n",
    "\n",
    "pmin = []\n",
    "pmax = []\n",
    "pavg = []\n",
    "pstd = []\n",
    "for l, p in zip(labels, all_fit_params1[:, i, :]):\n",
    "    print(f\"{p[0]: .4e}\\t{p[1]*800*2: .4e}\\t{l}\")"
   ]
  },
  {
   "cell_type": "code",
   "execution_count": 96,
   "id": "f6f54284-e648-4833-825d-d0c7441519fb",
   "metadata": {},
   "outputs": [
    {
     "name": "stdout",
     "output_type": "stream",
     "text": [
      " 9.9214e+00\t 1.3800e+07\t 1.6000e+03\tampicillin_9.50_12.00\n",
      " 1.2546e+01\t 1.8287e+07\t 1.6000e+03\taspala_12.00_15.00\n",
      " 6.6730e-01\t 3.8095e+07\t-8.1487e+11\taspala_-2.00_1.50\n",
      " 9.7867e+00\t 1.9867e+07\t 1.6000e+03\tflutamide_9.50_12.00\n",
      " 1.6917e+01\t 8.9226e+06\t 1.6000e+03\thistidine_16.00_20.00\n",
      " 1.2303e+01\t 1.2975e+07\t 1.6000e+03\thistidine_11.50_13.50\n",
      " 5.0488e+00\t 9.8563e+06\t 1.6000e+03\thistidine_4.50_6.00\n",
      " 9.3269e+00\t 5.8853e+06\t 1.6000e+03\tthymol_8.50_15.00\n",
      " 1.2346e+01\t 2.0974e+07\t 1.6000e+03\ttyrosine_12.00_14.00\n",
      " 9.9101e+00\t 1.5912e+07\t 1.6000e+03\ttyrosine_9.50_11.50\n",
      " 2.5539e+00\t-1.4550e+07\t 3.3146e+11\ttyrosine_-2.00_3.00\n",
      " 3.1345e+00\t 4.0379e+07\t-8.1524e+11\tmdma_1.00_3.80\n"
     ]
    }
   ],
   "source": [
    "i = 0\n",
    "\n",
    "pmin = []\n",
    "pmax = []\n",
    "pavg = []\n",
    "pstd = []\n",
    "for l, p in zip(labels, all_fit_params2[:, i, :]):\n",
    "    print(f\"{p[0]: .4e}\\t{p[1]*800*2: .4e}\\t{p[2]*800*2: .4e}\\t{l}\")"
   ]
  },
  {
   "cell_type": "markdown",
   "id": "d12bb416-697d-4a08-ad00-59cfbd08d3f7",
   "metadata": {
    "tags": []
   },
   "source": [
    "# Width fitting"
   ]
  },
  {
   "cell_type": "code",
   "execution_count": 97,
   "id": "6f16c966-8552-4503-88b0-7a08d5193014",
   "metadata": {},
   "outputs": [
    {
     "name": "stdout",
     "output_type": "stream",
     "text": [
      " 8.0205e+02\t 3.5899e+07\tampicillin_9.50_12.00\n",
      " 3.0235e+02\t 1.5295e+07\taspala_12.00_15.00\n",
      " 1.9191e+02\t 3.3691e+07\taspala_-2.00_1.50\n",
      " 6.3379e+02\t 1.5688e+07\tflutamide_9.50_12.00\n",
      " 5.2329e+02\t 1.8486e+07\thistidine_16.00_20.00\n",
      " 4.5001e+02\t 1.9345e+07\thistidine_11.50_13.50\n",
      " 9.0755e+01\t 6.0719e+07\thistidine_4.50_6.00\n",
      " 2.4626e+02\t 1.2537e+08\tthymol_8.50_15.00\n",
      " 3.3379e+02\t 1.8794e+07\ttyrosine_12.00_14.00\n",
      " 2.3851e+02\t 2.9694e+07\ttyrosine_9.50_11.50\n",
      " 1.3271e-10\t 8.4071e+07\ttyrosine_-2.00_3.00\n",
      " 8.5970e+01\t 5.8535e+07\tmdma_1.00_3.80\n"
     ]
    }
   ],
   "source": [
    "i = 1\n",
    "\n",
    "for l, p in zip(labels, all_fit_params1[:, i, :]):\n",
    "    print(f\"{p[0]*800*2: .4e}\\t{p[1]*800*2: .4e}\\t{l}\")"
   ]
  },
  {
   "cell_type": "code",
   "execution_count": 98,
   "id": "c5fee35c-7984-485a-8274-3a44375de44f",
   "metadata": {},
   "outputs": [
    {
     "name": "stdout",
     "output_type": "stream",
     "text": [
      " 8.0214e+02\t 3.5888e+07\t 3.3630e+08\tampicillin_9.50_12.00\n",
      " 3.0235e+02\t 1.5295e+07\t 3.2305e+03\taspala_12.00_15.00\n",
      " 1.9192e+02\t 3.3690e+07\t 1.4635e+03\taspala_-2.00_1.50\n",
      " 6.3404e+02\t 1.5672e+07\t 1.3780e+03\tflutamide_9.50_12.00\n",
      " 5.2331e+02\t 1.8483e+07\t 7.6926e+07\thistidine_16.00_20.00\n",
      " 4.5002e+02\t 1.9344e+07\t 2.8378e+07\thistidine_11.50_13.50\n",
      " 9.0790e+01\t 6.0715e+07\t 1.3353e+08\thistidine_4.50_6.00\n",
      " 2.3061e+02\t 1.2639e+08\t 1.6002e+03\tthymol_8.50_15.00\n",
      " 3.3135e+02\t 1.8953e+07\t 4.4000e+02\ttyrosine_12.00_14.00\n",
      " 2.3860e+02\t 2.9682e+07\t 3.3941e+08\ttyrosine_9.50_11.50\n",
      " 5.0734e-08\t 8.4068e+07\t 2.0205e+08\ttyrosine_-2.00_3.00\n",
      " 8.6102e+01\t 5.8518e+07\t 5.0587e+08\tmdma_1.00_3.80\n"
     ]
    }
   ],
   "source": [
    "i = 1\n",
    "\n",
    "for l, p in zip(labels, all_fit_params2[:, i, :]):\n",
    "    print(f\"{p[0]*800*2: .4e}\\t{p[1]*800*2: .4e}\\t{p[2]*800*2: .4e}\\t{l}\")"
   ]
  },
  {
   "cell_type": "markdown",
   "id": "dac03a2e-1de1-4328-b392-00718df8c3dd",
   "metadata": {
    "tags": []
   },
   "source": [
    "# Mixing fitting"
   ]
  },
  {
   "cell_type": "code",
   "execution_count": 99,
   "id": "110ab67f-2dd3-492b-ac1b-aebe47c6b860",
   "metadata": {},
   "outputs": [
    {
     "name": "stdout",
     "output_type": "stream",
     "text": [
      " 3.5409e-13\t 1.8395e+04\tampicillin_9.50_12.00\n",
      " 3.8542e-02\t 2.4862e+04\taspala_12.00_15.00\n",
      " 8.0320e-02\t 3.6960e+04\taspala_-2.00_1.50\n",
      " 3.0299e-17\t 1.1659e+04\tflutamide_9.50_12.00\n",
      " 8.2124e-02\t 2.5879e+04\thistidine_16.00_20.00\n",
      " 3.0836e-16\t 2.3746e+04\thistidine_11.50_13.50\n",
      " 1.5986e-01\t 4.0321e+04\thistidine_4.50_6.00\n",
      " 1.2433e-12\t 1.1911e+04\tthymol_8.50_15.00\n",
      " 9.6202e-02\t 1.8681e+04\ttyrosine_12.00_14.00\n",
      " 4.3220e-02\t 3.5019e+04\ttyrosine_9.50_11.50\n",
      " 6.5336e-01\t 1.7816e+04\ttyrosine_-2.00_3.00\n",
      " 9.8602e-02\t 3.2127e+04\tmdma_1.00_3.80\n"
     ]
    }
   ],
   "source": [
    "i = 2\n",
    "\n",
    "for l, p in zip(labels, all_fit_params1[:, i, :]):\n",
    "    print(f\"{p[0]: .4e}\\t{p[1]: .4e}\\t{l}\")"
   ]
  },
  {
   "cell_type": "code",
   "execution_count": 100,
   "id": "233579d7-a387-4710-8aee-983575f1b51a",
   "metadata": {},
   "outputs": [
    {
     "name": "stdout",
     "output_type": "stream",
     "text": [
      " 4.6513e-12\t 1.8395e+04\t 5.0095e+04\tampicillin_9.50_12.00\n",
      " 3.8566e-02\t 2.4859e+04\t 9.4468e+04\taspala_12.00_15.00\n",
      " 8.0320e-02\t 3.6960e+04\t 1.2924e-15\taspala_-2.00_1.50\n",
      " 4.9129e-10\t 1.1659e+04\t 1.9408e+04\tflutamide_9.50_12.00\n",
      " 8.2124e-02\t 2.5879e+04\t 7.6383e+01\thistidine_16.00_20.00\n",
      " 1.4026e-11\t 2.3745e+04\t 6.7323e+04\thistidine_11.50_13.50\n",
      " 1.5496e-01\t 4.0640e+04\t 1.1349e+00\thistidine_4.50_6.00\n",
      " 1.6870e-11\t 1.1912e+04\t 3.1453e+04\tthymol_8.50_15.00\n",
      " 1.6514e-01\t 1.4188e+04\t 8.7125e-01\ttyrosine_12.00_14.00\n",
      " 4.3450e-02\t 3.4990e+04\t 8.7892e+05\ttyrosine_9.50_11.50\n",
      " 6.5336e-01\t 1.7816e+04\t 2.3807e-01\ttyrosine_-2.00_3.00\n",
      " 9.8602e-02\t 3.2127e+04\t 1.1143e+00\tmdma_1.00_3.80\n"
     ]
    }
   ],
   "source": [
    "i = 2\n",
    "\n",
    "for l, p in zip(labels, all_fit_params2[:, i, :]):\n",
    "    print(f\"{p[0]: .4e}\\t{p[1]: .4e}\\t{p[2]: .4e}\\t{l}\")"
   ]
  },
  {
   "cell_type": "markdown",
   "id": "0f1acc7a-dca5-4a88-834e-0e9a4e32fd90",
   "metadata": {
    "tags": []
   },
   "source": [
    "# Height fitting"
   ]
  },
  {
   "cell_type": "code",
   "execution_count": 101,
   "id": "82a41399-b2c2-40c2-bd0f-46f511e6f04d",
   "metadata": {},
   "outputs": [
    {
     "name": "stdout",
     "output_type": "stream",
     "text": [
      " 7.2696e-03\t-1.6901e+02\tampicillin_9.50_12.00\n",
      " 8.3133e-03\t-1.4983e+02\taspala_12.00_15.00\n",
      " 2.6093e-02\t-7.3225e+02\taspala_-2.00_1.50\n",
      " 4.7671e-03\t-3.6747e+01\tflutamide_9.50_12.00\n",
      " 5.7850e-03\t-9.8429e+01\thistidine_16.00_20.00\n",
      " 6.6487e-03\t-1.1030e+02\thistidine_11.50_13.50\n",
      " 1.1696e-02\t-3.7034e+02\thistidine_4.50_6.00\n",
      " 2.2219e-03\t-5.3826e+01\tthymol_8.50_15.00\n",
      " 9.8353e-03\t-2.3093e+02\ttyrosine_12.00_14.00\n",
      " 8.9383e-03\t-2.2592e+02\ttyrosine_9.50_11.50\n",
      " 4.5600e-03\t-1.3537e+02\ttyrosine_-2.00_3.00\n",
      " 1.8352e-02\t-5.5146e+02\tmdma_1.00_3.80\n"
     ]
    }
   ],
   "source": [
    "i = 3\n",
    "\n",
    "for l, p in zip(labels, all_fit_params1[:, i, :]):\n",
    "    print(f\"{p[0]: .4e}\\t{p[1]: .4e}\\t{l}\")"
   ]
  },
  {
   "cell_type": "code",
   "execution_count": 102,
   "id": "58edc85c-82b5-4aaa-b4a7-c299ac9b7816",
   "metadata": {},
   "outputs": [
    {
     "name": "stdout",
     "output_type": "stream",
     "text": [
      " 9.4663e-03\t-4.5121e+02\t 8.4084e+06\tampicillin_9.50_12.00\n",
      " 8.5195e-03\t-1.7631e+02\t 7.8926e+05\taspala_12.00_15.00\n",
      " 3.4854e-02\t-1.8578e+03\t 3.3536e+07\taspala_-2.00_1.50\n",
      " 4.3052e-03\t 2.2584e+01\t-1.7678e+06\tflutamide_9.50_12.00\n",
      " 6.3463e-03\t-1.7053e+02\t 2.1483e+06\thistidine_16.00_20.00\n",
      " 6.7806e-03\t-1.2724e+02\t 5.0486e+05\thistidine_11.50_13.50\n",
      " 1.4601e-02\t-7.4356e+02\t 1.1121e+07\thistidine_4.50_6.00\n",
      " 2.3059e-03\t-6.4609e+01\t 3.2130e+05\tthymol_8.50_15.00\n",
      " 1.1528e-02\t-4.4843e+02\t 6.4807e+06\ttyrosine_12.00_14.00\n",
      " 1.0672e-02\t-4.4864e+02\t 6.6361e+06\ttyrosine_9.50_11.50\n",
      " 5.6150e-03\t-2.7089e+02\t 4.0381e+06\ttyrosine_-2.00_3.00\n",
      " 2.7692e-02\t-1.7514e+03\t 3.5753e+07\tmdma_1.00_3.80\n"
     ]
    }
   ],
   "source": [
    "i = 3\n",
    "\n",
    "for l, p in zip(labels, all_fit_params2[:, i, :]):\n",
    "    print(f\"{p[0]: .4e}\\t{p[1]: .4e}\\t{p[2]: .4e}\\t{l}\")"
   ]
  },
  {
   "cell_type": "code",
   "execution_count": null,
   "id": "02c63a3c-7a1d-4b82-89e7-3e475361f74f",
   "metadata": {},
   "outputs": [],
   "source": []
  }
 ],
 "metadata": {
  "kernelspec": {
   "display_name": "torch",
   "language": "python",
   "name": "torch"
  },
  "language_info": {
   "codemirror_mode": {
    "name": "ipython",
    "version": 3
   },
   "file_extension": ".py",
   "mimetype": "text/x-python",
   "name": "python",
   "nbconvert_exporter": "python",
   "pygments_lexer": "ipython3",
   "version": "3.8.8"
  }
 },
 "nbformat": 4,
 "nbformat_minor": 5
}
